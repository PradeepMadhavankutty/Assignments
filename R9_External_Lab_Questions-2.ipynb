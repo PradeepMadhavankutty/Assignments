{
 "cells": [
  {
   "cell_type": "markdown",
   "metadata": {
    "colab_type": "text",
    "id": "WPJHV_CIn6Bg"
   },
   "source": [
    "# U - Net\n",
    "## Problem: \n",
    "\n",
    "Seismic data is collected using reflection seismology, or seismic reflection. The method requires a controlled seismic source of energy, such as compressed air or a seismic vibrator, and sensors record the reflection from rock interfaces within the subsurface. The recorded data is then processed to create a 3D view of earth’s interior. Reflection seismology is similar to X-ray, sonar and echolocation.\n",
    "\n",
    "A seismic image is produced from imaging the reflection coming from rock boundaries. The seismic image shows the boundaries between different rock types. In theory, the strength of reflection is directly proportional to the difference in the physical properties on either sides of the interface. While seismic images show rock boundaries, they don't say much about the rock themselves; some rocks are easy to identify while some are difficult.\n",
    "\n",
    "There are several areas of the world where there are vast quantities of salt in the subsurface. One of the challenges of seismic imaging is to identify the part of subsurface which is salt. Salt has characteristics that makes it both simple and hard to identify. Salt density is usually 2.14 g/cc which is lower than most surrounding rocks. The seismic velocity of salt is 4.5 km/sec, which is usually faster than its surrounding rocks. This difference creates a sharp reflection at the salt-sediment interface. Usually salt is an amorphous rock without much internal structure. This means that there is typically not much reflectivity inside the salt, unless there are sediments trapped inside it. The unusually high seismic velocity of salt can create problems with seismic imaging.\n",
    "\n",
    "### Data\n",
    "The data is a set of images chosen at various locations chosen at random in the subsurface. The images are 101 x 101 pixels and each pixel is classified as either salt or sediment. In addition to the seismic images, the depth of the imaged location is provided for each image. The goal of the competition is to segment regions that contain salt.\n",
    "\n",
    "#### Source: \n",
    "https://www.kaggle.com/c/tgs-salt-identification-challenge\n",
    "\n",
    "\n",
    "### Note: \n",
    "Accept the terms and download data from the above link"
   ]
  },
  {
   "cell_type": "markdown",
   "metadata": {
    "colab_type": "text",
    "id": "3OKrTNUtn-od"
   },
   "source": [
    "### Aim: \n",
    "\n",
    "Implement U-Net neural model architecture in keras to solve this problem.\n",
    "\n",
    "\n",
    "In this, you are asked to segment salt deposits beneath the Earth’s surface. Given a set of seismic images that are 101 x 101 pixels each and each pixel we need to classify as either salt or sediment. Our goal is to segment regions that contain salt. A seismic image is produced from imaging the reflection coming from rock boundaries. The seismic image shows the boundaries between different rock types. "
   ]
  },
  {
   "cell_type": "markdown",
   "metadata": {
    "colab_type": "text",
    "id": "ZUOAF8WWoA1x"
   },
   "source": [
    "### Broad Steps:\n",
    "\n",
    "1. Download the dataset\n",
    "2. Upload to Drive\n",
    "3. Import from drive to colab\n",
    "4. Load the images and create training data.\n",
    "5. Build U-net Model\n",
    "6. Train your model.\n",
    "7. Check the validation accuracy and plot sample."
   ]
  },
  {
   "cell_type": "code",
   "execution_count": 0,
   "metadata": {
    "colab": {},
    "colab_type": "code",
    "collapsed": true,
    "id": "b7TLNzB6oDep"
   },
   "outputs": [],
   "source": [
    "#Importing necessary libraries\n",
    "import os\n",
    "import random\n",
    "import pandas as pd\n",
    "import numpy as np\n",
    "import matplotlib.pyplot as plt\n",
    "plt.style.use(\"ggplot\")\n",
    "%matplotlib inline\n",
    "\n",
    "from tqdm import tqdm_notebook, tnrange\n",
    "from itertools import chain\n",
    "from skimage.io import imread, imshow, concatenate_images\n",
    "from skimage.transform import resize\n",
    "from skimage.morphology import label\n",
    "from sklearn.model_selection import train_test_split\n",
    "\n",
    "import tensorflow as tf\n",
    "from keras.models import Model, load_model\n",
    "from keras.layers import Input, BatchNormalization, Activation, Dense, Dropout\n",
    "from keras.layers.core import Lambda, RepeatVector, Reshape\n",
    "from keras.layers.convolutional import Conv2D, Conv2DTranspose\n",
    "from keras.layers.pooling import MaxPooling2D, GlobalMaxPool2D\n",
    "from keras.layers.merge import concatenate, add\n",
    "from keras.callbacks import EarlyStopping, ModelCheckpoint, ReduceLROnPlateau\n",
    "from keras.optimizers import Adam\n",
    "from keras.preprocessing.image import ImageDataGenerator, array_to_img, img_to_array, load_img"
   ]
  },
  {
   "cell_type": "code",
   "execution_count": 57,
   "metadata": {
    "colab": {
     "base_uri": "https://localhost:8080/",
     "height": 35
    },
    "colab_type": "code",
    "id": "6qiCvW9coD_E",
    "outputId": "dea42448-4c8d-4571-9620-17c0795144ea"
   },
   "outputs": [
    {
     "name": "stdout",
     "output_type": "stream",
     "text": [
      "Drive already mounted at /content/drive/; to attempt to forcibly remount, call drive.mount(\"/content/drive/\", force_remount=True).\n"
     ]
    }
   ],
   "source": [
    "#Mount drive\n",
    "from google.colab import drive\n",
    "drive.mount('/content/drive/')"
   ]
  },
  {
   "cell_type": "markdown",
   "metadata": {
    "colab_type": "text",
    "id": "B4IaUgploION"
   },
   "source": [
    "### 1.Set your project path where you have your data and related files for this lab."
   ]
  },
  {
   "cell_type": "code",
   "execution_count": 0,
   "metadata": {
    "colab": {},
    "colab_type": "code",
    "collapsed": true,
    "id": "0tPkbXWyoK-z"
   },
   "outputs": [],
   "source": [
    "os.chdir('/content/drive/My Drive/AIML/R9-ExternalLab')\n",
    "project_path = '/content/drive/My Drive/AIML/R9-ExternalLab/'"
   ]
  },
  {
   "cell_type": "code",
   "execution_count": 59,
   "metadata": {
    "colab": {
     "base_uri": "https://localhost:8080/",
     "height": 35
    },
    "colab_type": "code",
    "id": "Kxy5LexhoLMT",
    "outputId": "8f6288fd-c200-455d-9f0a-79984cd246b7"
   },
   "outputs": [
    {
     "data": {
      "text/plain": [
       "'/content/drive/My Drive/AIML/R9-ExternalLab'"
      ]
     },
     "execution_count": 59,
     "metadata": {
      "tags": []
     },
     "output_type": "execute_result"
    }
   ],
   "source": [
    "pwd"
   ]
  },
  {
   "cell_type": "markdown",
   "metadata": {
    "colab_type": "text",
    "id": "g15qSXZSoSuL"
   },
   "source": [
    "### 2. Set the necessary parameters"
   ]
  },
  {
   "cell_type": "markdown",
   "metadata": {
    "colab_type": "text",
    "id": "Dzrz2Or_HdxR"
   },
   "source": [
    "## Setup"
   ]
  },
  {
   "cell_type": "code",
   "execution_count": 0,
   "metadata": {
    "colab": {},
    "colab_type": "code",
    "collapsed": true,
    "id": "3IEaEnuzoW2a"
   },
   "outputs": [],
   "source": [
    "im_width = 128      #width of your train image\n",
    "im_height = 128     #hight of your train image\n",
    "#border =        \n",
    "path_train = project_path + 'train/'   #Path for your train data"
   ]
  },
  {
   "cell_type": "code",
   "execution_count": 0,
   "metadata": {
    "colab": {},
    "colab_type": "code",
    "collapsed": true,
    "id": "uZQyyn55oKW-"
   },
   "outputs": [],
   "source": []
  },
  {
   "cell_type": "markdown",
   "metadata": {
    "colab_type": "text",
    "id": "Q3IoS6RCoZPh"
   },
   "source": [
    "# 3. Make directory for train data at in your project/lab folder.\n",
    "\n",
    "Hint - use !mkdir function."
   ]
  },
  {
   "cell_type": "code",
   "execution_count": 0,
   "metadata": {
    "colab": {},
    "colab_type": "code",
    "collapsed": true,
    "id": "MRPpQ2QrocBQ"
   },
   "outputs": [],
   "source": [
    "os.mkdir(path_train)"
   ]
  },
  {
   "cell_type": "markdown",
   "metadata": {
    "colab_type": "text",
    "id": "fRbC22DGoeb7"
   },
   "source": [
    "# 4. Extract your train images to the train directory you have just created above. \n",
    "train.zip and test.zip files available at your google drive/local system.\n",
    "\n",
    "As a good practice - Upload or copy the data at your project path folder.\n",
    "\n",
    "Make sure you are providing the right project_path."
   ]
  },
  {
   "cell_type": "code",
   "execution_count": 0,
   "metadata": {
    "colab": {},
    "colab_type": "code",
    "collapsed": true,
    "id": "5BtPznFbogjG"
   },
   "outputs": [],
   "source": [
    "#For simplicity we have added the required code here.\n",
    "from zipfile import ZipFile\n",
    "\n",
    "with ZipFile(project_path + 'train.zip', 'r') as zf:\n",
    "  zf.extractall('train/')\n"
   ]
  },
  {
   "cell_type": "code",
   "execution_count": 0,
   "metadata": {
    "colab": {},
    "colab_type": "code",
    "collapsed": true,
    "id": "7YZ2prb9oiX4"
   },
   "outputs": [],
   "source": [
    "#The train file have both images and masks with the same names_ids."
   ]
  },
  {
   "cell_type": "code",
   "execution_count": 17,
   "metadata": {
    "colab": {
     "base_uri": "https://localhost:8080/",
     "height": 35
    },
    "colab_type": "code",
    "id": "zxQ1u8Bvoj1M",
    "outputId": "68a016d9-bc32-446f-c302-8a684dae5c0f"
   },
   "outputs": [
    {
     "data": {
      "text/plain": [
       "['images', 'masks']"
      ]
     },
     "execution_count": 17,
     "metadata": {
      "tags": []
     },
     "output_type": "execute_result"
    }
   ],
   "source": [
    "os.listdir(path_train)"
   ]
  },
  {
   "cell_type": "markdown",
   "metadata": {
    "colab_type": "text",
    "id": "iwCH81ZWomLA"
   },
   "source": [
    "### 5. Get the list of names of images and masks and name the list imagelist and masklist.\n",
    "\n",
    "Hint - Use os.listdir() funtions."
   ]
  },
  {
   "cell_type": "code",
   "execution_count": 0,
   "metadata": {
    "colab": {},
    "colab_type": "code",
    "collapsed": true,
    "id": "Clt5ya_JoplC"
   },
   "outputs": [],
   "source": [
    "#Getting the image list \n",
    "imagelist = os.listdir(path_train +'images')\n",
    "masklist = os.listdir(path_train +'masks')"
   ]
  },
  {
   "cell_type": "code",
   "execution_count": 12,
   "metadata": {
    "colab": {
     "base_uri": "https://localhost:8080/",
     "height": 35
    },
    "colab_type": "code",
    "id": "4nMsiwe2FQw4",
    "outputId": "cd2826c4-b0cf-4843-8f18-9888705202d2"
   },
   "outputs": [
    {
     "data": {
      "text/plain": [
       "4000"
      ]
     },
     "execution_count": 12,
     "metadata": {
      "tags": []
     },
     "output_type": "execute_result"
    }
   ],
   "source": [
    "len(masklist)"
   ]
  },
  {
   "cell_type": "code",
   "execution_count": 62,
   "metadata": {
    "colab": {
     "base_uri": "https://localhost:8080/",
     "height": 91
    },
    "colab_type": "code",
    "id": "-vHPQoHVoppK",
    "outputId": "798d2593-9c41-4353-b9b8-052e80b3bcb6"
   },
   "outputs": [
    {
     "name": "stdout",
     "output_type": "stream",
     "text": [
      "7cc53fe88b.png\n",
      "7cc53fe88b.png\n",
      "de08c5a3b7.png\n",
      "de08c5a3b7.png\n"
     ]
    }
   ],
   "source": [
    "#Test your list names by printing some of the names as given below.\n",
    "print(imagelist[-1])\n",
    "print(masklist[-1])\n",
    "print(imagelist[10])\n",
    "print(masklist[10])"
   ]
  },
  {
   "cell_type": "code",
   "execution_count": 0,
   "metadata": {
    "colab": {},
    "colab_type": "code",
    "collapsed": true,
    "id": "WUZw-kSKoqIr"
   },
   "outputs": [],
   "source": []
  },
  {
   "cell_type": "markdown",
   "metadata": {
    "colab_type": "text",
    "id": "1t8raFq5ous8"
   },
   "source": [
    "# 6. Read and test your images and respective masks.\n",
    "\n",
    "Hint -\n",
    "\n",
    "import  matplotlib.pyplot as plt\n",
    "\n",
    "import cv2\n",
    "\n",
    "plt.imshow(cv2.imread('path of image'))\n",
    "\n",
    "plt.imshow(cv2.imread('path of mask'))\n"
   ]
  },
  {
   "cell_type": "code",
   "execution_count": 0,
   "metadata": {
    "colab": {},
    "colab_type": "code",
    "collapsed": true,
    "id": "1gGpCSPpovvH"
   },
   "outputs": [],
   "source": [
    "import cv2"
   ]
  },
  {
   "cell_type": "code",
   "execution_count": 64,
   "metadata": {
    "colab": {
     "base_uri": "https://localhost:8080/",
     "height": 287
    },
    "colab_type": "code",
    "id": "9E-McW2toyaR",
    "outputId": "e327d0c0-d02d-42af-873d-aa5e655b8dd7"
   },
   "outputs": [
    {
     "data": {
      "text/plain": [
       "<matplotlib.image.AxesImage at 0x7fc2affd6be0>"
      ]
     },
     "execution_count": 64,
     "metadata": {
      "tags": []
     },
     "output_type": "execute_result"
    },
    {
     "data": {
      "image/png": "[encoded data removed]",
      "text/plain": [
       "<Figure size 432x288 with 1 Axes>"
      ]
     },
     "metadata": {
      "tags": []
     },
     "output_type": "display_data"
    }
   ],
   "source": [
    "plt.imshow(cv2.imread(path_train+'images/'+imagelist[0]))\n"
   ]
  },
  {
   "cell_type": "code",
   "execution_count": 65,
   "metadata": {
    "colab": {
     "base_uri": "https://localhost:8080/",
     "height": 287
    },
    "colab_type": "code",
    "id": "tpwBvb93HD-L",
    "outputId": "a170953e-df2b-4ad4-bc9e-f1193e68a9f7"
   },
   "outputs": [
    {
     "data": {
      "text/plain": [
       "<matplotlib.image.AxesImage at 0x7fc2afd1a470>"
      ]
     },
     "execution_count": 65,
     "metadata": {
      "tags": []
     },
     "output_type": "execute_result"
    },
    {
     "data": {
      "image/png": "[encoded data removed]",
      "text/plain": [
       "<Figure size 432x288 with 1 Axes>"
      ]
     },
     "metadata": {
      "tags": []
     },
     "output_type": "display_data"
    }
   ],
   "source": [
    "plt.imshow(cv2.imread(path_train+'masks/'+masklist[0]))"
   ]
  },
  {
   "cell_type": "markdown",
   "metadata": {
    "colab_type": "text",
    "id": "_qFeroMNoylc"
   },
   "source": [
    "# 7. Create your training data.\n",
    "\n",
    "Hints - \n",
    "\n",
    "image_path = os.path.join(project_path +'path of your image directory' +n )\n",
    "\n",
    "mask_path = os.path.join(project_path +'path of your mask directory'+n )"
   ]
  },
  {
   "cell_type": "code",
   "execution_count": 0,
   "metadata": {
    "colab": {},
    "colab_type": "code",
    "collapsed": true,
    "id": "WmFDmIOjKTDL"
   },
   "outputs": [],
   "source": [
    "from PIL import Image"
   ]
  },
  {
   "cell_type": "code",
   "execution_count": 66,
   "metadata": {
    "colab": {
     "base_uri": "https://localhost:8080/",
     "height": 35
    },
    "colab_type": "code",
    "id": "gJbRVbL4o1qT",
    "outputId": "83c083a6-f039-4ae5-f323-54a2a150d81a"
   },
   "outputs": [
    {
     "name": "stdout",
     "output_type": "stream",
     "text": [
      "Done!\n"
     ]
    }
   ],
   "source": [
    "# Get and resize train images and masks\n",
    "def get_data():\n",
    "    X = np.zeros(((len(imagelist), im_height, im_width, 1)), dtype=np.float32) # Create an array for image\n",
    "    y = np.zeros(((len(masklist), im_height, im_width, 1)), dtype=np.float32) #Create an array for mask\n",
    "    \n",
    "    for n in imagelist: \n",
    "        k = imagelist.index(n)\n",
    "        ##Add image_path\n",
    "        image_path =  os.path.join(path_train+'images/', n)\n",
    "        ##Add mask_path\n",
    "        mask_path = os.path.join(path_train+'masks/', n)                                                          \n",
    "              \n",
    "        # Load images and resize to (128,128,1)\n",
    "        img = Image.open(image_path)\n",
    "        img = img.resize((im_width, im_height))\n",
    "        resized_img = np.reshape(img.convert('L'), (128,128,1))\n",
    "        # Load masks and resize to (128,128,1)\n",
    "        img = Image.open(mask_path)\n",
    "        img = img.resize((im_width, im_height))\n",
    "        resized_mask = np.reshape(img.convert('L'), (128,128,1))\n",
    "        # Save images\n",
    "        X[k, ..., 0] = resized_img.squeeze() / 255\n",
    "        y[k] = resized_mask/255\n",
    "    print('Done!')\n",
    "    return X, y\n",
    "    \n",
    "X, y = get_data()"
   ]
  },
  {
   "cell_type": "code",
   "execution_count": 67,
   "metadata": {
    "colab": {
     "base_uri": "https://localhost:8080/",
     "height": 54
    },
    "colab_type": "code",
    "id": "uZCM1hyBLUma",
    "outputId": "05501607-b95b-4de1-f7ee-58c76e5cc779"
   },
   "outputs": [
    {
     "name": "stdout",
     "output_type": "stream",
     "text": [
      "(4000, 128, 128, 1)\n",
      "(4000, 128, 128, 1)\n"
     ]
    }
   ],
   "source": [
    "#Check the data\n",
    "print(X.shape)\n",
    "print(y.shape)"
   ]
  },
  {
   "cell_type": "code",
   "execution_count": 0,
   "metadata": {
    "colab": {},
    "colab_type": "code",
    "collapsed": true,
    "id": "kt6zXJPHo35y"
   },
   "outputs": [],
   "source": [
    "# Split train and valid\n",
    "from sklearn.model_selection import train_test_split\n",
    "X_train, X_valid, y_train, y_valid = train_test_split(X, y, test_size=0.15, random_state=2019)"
   ]
  },
  {
   "cell_type": "code",
   "execution_count": 70,
   "metadata": {
    "colab": {
     "base_uri": "https://localhost:8080/",
     "height": 319
    },
    "colab_type": "code",
    "id": "mh_SRFGro6wr",
    "outputId": "307c6300-9ee2-44d0-e452-78b8fe5d40d1"
   },
   "outputs": [
    {
     "data": {
      "image/png": "[encoded data removed]",
      "text/plain": [
       "<Figure size 720x720 with 2 Axes>"
      ]
     },
     "metadata": {
      "tags": []
     },
     "output_type": "display_data"
    }
   ],
   "source": [
    "## Test your data whether it looks fine - Random check\n",
    "import random \n",
    "# Check if training data looks all right\n",
    "ix = random.randint(0, len(X_train))\n",
    "has_mask = y_train[ix].max() > 0\n",
    "\n",
    "fig, ax = plt.subplots(1, 2, figsize=(10, 10))\n",
    "\n",
    "ax[0].imshow(X_train[ix, ..., 0], cmap='seismic', interpolation='bilinear')\n",
    "if has_mask:\n",
    "    ax[0].contour(y_train[ix].squeeze(), colors='k', levels=[0.5])\n",
    "ax[0].set_title('Seismic')\n",
    "\n",
    "ax[1].imshow(y_train[ix].squeeze(), interpolation='bilinear', cmap='gray')\n",
    "ax[1].set_title('Salt');\n",
    "\n",
    "\n"
   ]
  },
  {
   "cell_type": "markdown",
   "metadata": {
    "colab_type": "text",
    "id": "em5jGV93o8qR"
   },
   "source": [
    "### 8. Define loss and dice_coeff function."
   ]
  },
  {
   "cell_type": "code",
   "execution_count": 0,
   "metadata": {
    "colab": {},
    "colab_type": "code",
    "collapsed": true,
    "id": "Uyxf8uhQpA78"
   },
   "outputs": [],
   "source": [
    "def dice_coefficient(y_true, y_pred):\n",
    "    numerator = 2 * tf.reduce_sum(y_true * y_pred)\n",
    "    denominator = tf.reduce_sum(y_true + y_pred)\n",
    "\n",
    "    return numerator / (denominator + tf.keras.backend.epsilon())"
   ]
  },
  {
   "cell_type": "code",
   "execution_count": 0,
   "metadata": {
    "colab": {},
    "colab_type": "code",
    "collapsed": true,
    "id": "EmCjyEUUpA_V"
   },
   "outputs": [],
   "source": [
    "def loss(y_true, y_pred):\n",
    "    return binary_crossentropy(y_true, y_pred) - tf.log(dice_coefficient(y_true, y_pred) + tf.keras.backend.epsilon())"
   ]
  },
  {
   "cell_type": "markdown",
   "metadata": {
    "colab_type": "text",
    "id": "-ofKZA-9pDVJ"
   },
   "source": [
    "### 9. Build and compile UNet Model for your data.\n",
    "\n",
    "Hint - \n",
    "You can install and use segmentation models from this github repository.\n",
    "\n",
    "#Install segmentation models\n",
    "\n",
    "!pip install git+https://github.com/qubvel/segmentation_models"
   ]
  },
  {
   "cell_type": "code",
   "execution_count": 73,
   "metadata": {
    "colab": {
     "base_uri": "https://localhost:8080/",
     "height": 610
    },
    "colab_type": "code",
    "id": "DFh1hMp6Lr-L",
    "outputId": "fa55aafa-d1d8-4254-c374-0a18b84d820a"
   },
   "outputs": [
    {
     "name": "stdout",
     "output_type": "stream",
     "text": [
      "Collecting git+https://github.com/qubvel/segmentation_models\n",
      "  Cloning https://github.com/qubvel/segmentation_models to /tmp/pip-req-build-5dh8dyln\n",
      "Requirement already satisfied (use --upgrade to upgrade): segmentation-models==0.2.0 from git+https://github.com/qubvel/segmentation_models in /usr/local/lib/python3.6/dist-packages\n",
      "Requirement already satisfied: keras>=2.2.0 in /usr/local/lib/python3.6/dist-packages (from segmentation-models==0.2.0) (2.2.4)\n",
      "Requirement already satisfied: keras_applications>=1.0.7 in /usr/local/lib/python3.6/dist-packages (from segmentation-models==0.2.0) (1.0.7)\n",
      "Requirement already satisfied: scikit-image in /usr/local/lib/python3.6/dist-packages (from segmentation-models==0.2.0) (0.14.2)\n",
      "Requirement already satisfied: image-classifiers==0.2.0 in /usr/local/lib/python3.6/dist-packages (from segmentation-models==0.2.0) (0.2.0)\n",
      "Requirement already satisfied: keras-preprocessing>=1.0.5 in /usr/local/lib/python3.6/dist-packages (from keras>=2.2.0->segmentation-models==0.2.0) (1.0.9)\n",
      "Requirement already satisfied: h5py in /usr/local/lib/python3.6/dist-packages (from keras>=2.2.0->segmentation-models==0.2.0) (2.8.0)\n",
      "Requirement already satisfied: six>=1.9.0 in /usr/local/lib/python3.6/dist-packages (from keras>=2.2.0->segmentation-models==0.2.0) (1.12.0)\n",
      "Requirement already satisfied: scipy>=0.14 in /usr/local/lib/python3.6/dist-packages (from keras>=2.2.0->segmentation-models==0.2.0) (1.2.1)\n",
      "Requirement already satisfied: numpy>=1.9.1 in /usr/local/lib/python3.6/dist-packages (from keras>=2.2.0->segmentation-models==0.2.0) (1.16.3)\n",
      "Requirement already satisfied: pyyaml in /usr/local/lib/python3.6/dist-packages (from keras>=2.2.0->segmentation-models==0.2.0) (3.13)\n",
      "Requirement already satisfied: pillow>=4.3.0 in /usr/local/lib/python3.6/dist-packages (from scikit-image->segmentation-models==0.2.0) (4.3.0)\n",
      "Requirement already satisfied: matplotlib>=2.0.0 in /usr/local/lib/python3.6/dist-packages (from scikit-image->segmentation-models==0.2.0) (3.0.3)\n",
      "Requirement already satisfied: networkx>=1.8 in /usr/local/lib/python3.6/dist-packages (from scikit-image->segmentation-models==0.2.0) (2.3)\n",
      "Requirement already satisfied: cloudpickle>=0.2.1 in /usr/local/lib/python3.6/dist-packages (from scikit-image->segmentation-models==0.2.0) (0.6.1)\n",
      "Requirement already satisfied: PyWavelets>=0.4.0 in /usr/local/lib/python3.6/dist-packages (from scikit-image->segmentation-models==0.2.0) (1.0.3)\n",
      "Requirement already satisfied: dask[array]>=1.0.0 in /usr/local/lib/python3.6/dist-packages (from scikit-image->segmentation-models==0.2.0) (1.1.5)\n",
      "Requirement already satisfied: olefile in /usr/local/lib/python3.6/dist-packages (from pillow>=4.3.0->scikit-image->segmentation-models==0.2.0) (0.46)\n",
      "Requirement already satisfied: pyparsing!=2.0.4,!=2.1.2,!=2.1.6,>=2.0.1 in /usr/local/lib/python3.6/dist-packages (from matplotlib>=2.0.0->scikit-image->segmentation-models==0.2.0) (2.4.0)\n",
      "Requirement already satisfied: kiwisolver>=1.0.1 in /usr/local/lib/python3.6/dist-packages (from matplotlib>=2.0.0->scikit-image->segmentation-models==0.2.0) (1.0.1)\n",
      "Requirement already satisfied: python-dateutil>=2.1 in /usr/local/lib/python3.6/dist-packages (from matplotlib>=2.0.0->scikit-image->segmentation-models==0.2.0) (2.5.3)\n",
      "Requirement already satisfied: cycler>=0.10 in /usr/local/lib/python3.6/dist-packages (from matplotlib>=2.0.0->scikit-image->segmentation-models==0.2.0) (0.10.0)\n",
      "Requirement already satisfied: decorator>=4.3.0 in /usr/local/lib/python3.6/dist-packages (from networkx>=1.8->scikit-image->segmentation-models==0.2.0) (4.4.0)\n",
      "Requirement already satisfied: toolz>=0.7.3; extra == \"array\" in /usr/local/lib/python3.6/dist-packages (from dask[array]>=1.0.0->scikit-image->segmentation-models==0.2.0) (0.9.0)\n",
      "Requirement already satisfied: setuptools in /usr/local/lib/python3.6/dist-packages (from kiwisolver>=1.0.1->matplotlib>=2.0.0->scikit-image->segmentation-models==0.2.0) (40.9.0)\n",
      "Building wheels for collected packages: segmentation-models\n",
      "  Building wheel for segmentation-models (setup.py) ... \u001b[?25ldone\n",
      "\u001b[?25h  Stored in directory: /tmp/pip-ephem-wheel-cache-lyr7d_6z/wheels/49/cf/46/cbb4bb64518c402aea99df9d466f1081450597e653256bbcf4\n",
      "Successfully built segmentation-models\n"
     ]
    }
   ],
   "source": [
    "!pip install git+https://github.com/qubvel/segmentation_models"
   ]
  },
  {
   "cell_type": "code",
   "execution_count": 0,
   "metadata": {
    "colab": {},
    "colab_type": "code",
    "collapsed": true,
    "id": "noOcDEUXM5sQ"
   },
   "outputs": [],
   "source": [
    "from segmentation_models import Unet\n",
    "from segmentation_models.backbones import get_preprocessing\n",
    "from segmentation_models.losses import bce_jaccard_loss\n",
    "from segmentation_models.metrics import iou_score\n",
    "import tensorflow as tf\n",
    "from keras.optimizers import Adam\n",
    "from tensorflow.keras.losses import binary_crossentropy"
   ]
  },
  {
   "cell_type": "code",
   "execution_count": 75,
   "metadata": {
    "colab": {
     "base_uri": "https://localhost:8080/",
     "height": 7872
    },
    "colab_type": "code",
    "id": "456utznCpGco",
    "outputId": "8bc421b6-e3c8-494c-ef6d-b3dfee968480"
   },
   "outputs": [
    {
     "name": "stdout",
     "output_type": "stream",
     "text": [
      "__________________________________________________________________________________________________\n",
      "Layer (type)                    Output Shape         Param #     Connected to                     \n",
      "==================================================================================================\n",
      "data (InputLayer)               (None, 128, 128, 1)  0                                            \n",
      "__________________________________________________________________________________________________\n",
      "bn_data (BatchNormalization)    (None, 128, 128, 1)  3           data[0][0]                       \n",
      "__________________________________________________________________________________________________\n",
      "zero_padding2d_69 (ZeroPadding2 (None, 134, 134, 1)  0           bn_data[0][0]                    \n",
      "__________________________________________________________________________________________________\n",
      "conv0 (Conv2D)                  (None, 64, 64, 64)   3136        zero_padding2d_69[0][0]          \n",
      "__________________________________________________________________________________________________\n",
      "bn0 (BatchNormalization)        (None, 64, 64, 64)   256         conv0[0][0]                      \n",
      "__________________________________________________________________________________________________\n",
      "relu0 (Activation)              (None, 64, 64, 64)   0           bn0[0][0]                        \n",
      "__________________________________________________________________________________________________\n",
      "zero_padding2d_70 (ZeroPadding2 (None, 66, 66, 64)   0           relu0[0][0]                      \n",
      "__________________________________________________________________________________________________\n",
      "pooling0 (MaxPooling2D)         (None, 32, 32, 64)   0           zero_padding2d_70[0][0]          \n",
      "__________________________________________________________________________________________________\n",
      "stage1_unit1_bn1 (BatchNormaliz (None, 32, 32, 64)   256         pooling0[0][0]                   \n",
      "__________________________________________________________________________________________________\n",
      "stage1_unit1_relu1 (Activation) (None, 32, 32, 64)   0           stage1_unit1_bn1[0][0]           \n",
      "__________________________________________________________________________________________________\n",
      "zero_padding2d_71 (ZeroPadding2 (None, 34, 34, 64)   0           stage1_unit1_relu1[0][0]         \n",
      "__________________________________________________________________________________________________\n",
      "stage1_unit1_conv1 (Conv2D)     (None, 32, 32, 64)   36864       zero_padding2d_71[0][0]          \n",
      "__________________________________________________________________________________________________\n",
      "stage1_unit1_bn2 (BatchNormaliz (None, 32, 32, 64)   256         stage1_unit1_conv1[0][0]         \n",
      "__________________________________________________________________________________________________\n",
      "stage1_unit1_relu2 (Activation) (None, 32, 32, 64)   0           stage1_unit1_bn2[0][0]           \n",
      "__________________________________________________________________________________________________\n",
      "zero_padding2d_72 (ZeroPadding2 (None, 34, 34, 64)   0           stage1_unit1_relu2[0][0]         \n",
      "__________________________________________________________________________________________________\n",
      "stage1_unit1_conv2 (Conv2D)     (None, 32, 32, 64)   36864       zero_padding2d_72[0][0]          \n",
      "__________________________________________________________________________________________________\n",
      "stage1_unit1_sc (Conv2D)        (None, 32, 32, 64)   4096        stage1_unit1_relu1[0][0]         \n",
      "__________________________________________________________________________________________________\n",
      "add_33 (Add)                    (None, 32, 32, 64)   0           stage1_unit1_conv2[0][0]         \n",
      "                                                                 stage1_unit1_sc[0][0]            \n",
      "__________________________________________________________________________________________________\n",
      "stage1_unit2_bn1 (BatchNormaliz (None, 32, 32, 64)   256         add_33[0][0]                     \n",
      "__________________________________________________________________________________________________\n",
      "stage1_unit2_relu1 (Activation) (None, 32, 32, 64)   0           stage1_unit2_bn1[0][0]           \n",
      "__________________________________________________________________________________________________\n",
      "zero_padding2d_73 (ZeroPadding2 (None, 34, 34, 64)   0           stage1_unit2_relu1[0][0]         \n",
      "__________________________________________________________________________________________________\n",
      "stage1_unit2_conv1 (Conv2D)     (None, 32, 32, 64)   36864       zero_padding2d_73[0][0]          \n",
      "__________________________________________________________________________________________________\n",
      "stage1_unit2_bn2 (BatchNormaliz (None, 32, 32, 64)   256         stage1_unit2_conv1[0][0]         \n",
      "__________________________________________________________________________________________________\n",
      "stage1_unit2_relu2 (Activation) (None, 32, 32, 64)   0           stage1_unit2_bn2[0][0]           \n",
      "__________________________________________________________________________________________________\n",
      "zero_padding2d_74 (ZeroPadding2 (None, 34, 34, 64)   0           stage1_unit2_relu2[0][0]         \n",
      "__________________________________________________________________________________________________\n",
      "stage1_unit2_conv2 (Conv2D)     (None, 32, 32, 64)   36864       zero_padding2d_74[0][0]          \n",
      "__________________________________________________________________________________________________\n",
      "add_34 (Add)                    (None, 32, 32, 64)   0           stage1_unit2_conv2[0][0]         \n",
      "                                                                 add_33[0][0]                     \n",
      "__________________________________________________________________________________________________\n",
      "stage1_unit3_bn1 (BatchNormaliz (None, 32, 32, 64)   256         add_34[0][0]                     \n",
      "__________________________________________________________________________________________________\n",
      "stage1_unit3_relu1 (Activation) (None, 32, 32, 64)   0           stage1_unit3_bn1[0][0]           \n",
      "__________________________________________________________________________________________________\n",
      "zero_padding2d_75 (ZeroPadding2 (None, 34, 34, 64)   0           stage1_unit3_relu1[0][0]         \n",
      "__________________________________________________________________________________________________\n",
      "stage1_unit3_conv1 (Conv2D)     (None, 32, 32, 64)   36864       zero_padding2d_75[0][0]          \n",
      "__________________________________________________________________________________________________\n",
      "stage1_unit3_bn2 (BatchNormaliz (None, 32, 32, 64)   256         stage1_unit3_conv1[0][0]         \n",
      "__________________________________________________________________________________________________\n",
      "stage1_unit3_relu2 (Activation) (None, 32, 32, 64)   0           stage1_unit3_bn2[0][0]           \n",
      "__________________________________________________________________________________________________\n",
      "zero_padding2d_76 (ZeroPadding2 (None, 34, 34, 64)   0           stage1_unit3_relu2[0][0]         \n",
      "__________________________________________________________________________________________________\n",
      "stage1_unit3_conv2 (Conv2D)     (None, 32, 32, 64)   36864       zero_padding2d_76[0][0]          \n",
      "__________________________________________________________________________________________________\n",
      "add_35 (Add)                    (None, 32, 32, 64)   0           stage1_unit3_conv2[0][0]         \n",
      "                                                                 add_34[0][0]                     \n",
      "__________________________________________________________________________________________________\n",
      "stage2_unit1_bn1 (BatchNormaliz (None, 32, 32, 64)   256         add_35[0][0]                     \n",
      "__________________________________________________________________________________________________\n",
      "stage2_unit1_relu1 (Activation) (None, 32, 32, 64)   0           stage2_unit1_bn1[0][0]           \n",
      "__________________________________________________________________________________________________\n",
      "zero_padding2d_77 (ZeroPadding2 (None, 34, 34, 64)   0           stage2_unit1_relu1[0][0]         \n",
      "__________________________________________________________________________________________________\n",
      "stage2_unit1_conv1 (Conv2D)     (None, 16, 16, 128)  73728       zero_padding2d_77[0][0]          \n",
      "__________________________________________________________________________________________________\n",
      "stage2_unit1_bn2 (BatchNormaliz (None, 16, 16, 128)  512         stage2_unit1_conv1[0][0]         \n",
      "__________________________________________________________________________________________________\n",
      "stage2_unit1_relu2 (Activation) (None, 16, 16, 128)  0           stage2_unit1_bn2[0][0]           \n",
      "__________________________________________________________________________________________________\n",
      "zero_padding2d_78 (ZeroPadding2 (None, 18, 18, 128)  0           stage2_unit1_relu2[0][0]         \n",
      "__________________________________________________________________________________________________\n",
      "stage2_unit1_conv2 (Conv2D)     (None, 16, 16, 128)  147456      zero_padding2d_78[0][0]          \n",
      "__________________________________________________________________________________________________\n",
      "stage2_unit1_sc (Conv2D)        (None, 16, 16, 128)  8192        stage2_unit1_relu1[0][0]         \n",
      "__________________________________________________________________________________________________\n",
      "add_36 (Add)                    (None, 16, 16, 128)  0           stage2_unit1_conv2[0][0]         \n",
      "                                                                 stage2_unit1_sc[0][0]            \n",
      "__________________________________________________________________________________________________\n",
      "stage2_unit2_bn1 (BatchNormaliz (None, 16, 16, 128)  512         add_36[0][0]                     \n",
      "__________________________________________________________________________________________________\n",
      "stage2_unit2_relu1 (Activation) (None, 16, 16, 128)  0           stage2_unit2_bn1[0][0]           \n",
      "__________________________________________________________________________________________________\n",
      "zero_padding2d_79 (ZeroPadding2 (None, 18, 18, 128)  0           stage2_unit2_relu1[0][0]         \n",
      "__________________________________________________________________________________________________\n",
      "stage2_unit2_conv1 (Conv2D)     (None, 16, 16, 128)  147456      zero_padding2d_79[0][0]          \n",
      "__________________________________________________________________________________________________\n",
      "stage2_unit2_bn2 (BatchNormaliz (None, 16, 16, 128)  512         stage2_unit2_conv1[0][0]         \n",
      "__________________________________________________________________________________________________\n",
      "stage2_unit2_relu2 (Activation) (None, 16, 16, 128)  0           stage2_unit2_bn2[0][0]           \n",
      "__________________________________________________________________________________________________\n",
      "zero_padding2d_80 (ZeroPadding2 (None, 18, 18, 128)  0           stage2_unit2_relu2[0][0]         \n",
      "__________________________________________________________________________________________________\n",
      "stage2_unit2_conv2 (Conv2D)     (None, 16, 16, 128)  147456      zero_padding2d_80[0][0]          \n",
      "__________________________________________________________________________________________________\n",
      "add_37 (Add)                    (None, 16, 16, 128)  0           stage2_unit2_conv2[0][0]         \n",
      "                                                                 add_36[0][0]                     \n",
      "__________________________________________________________________________________________________\n",
      "stage2_unit3_bn1 (BatchNormaliz (None, 16, 16, 128)  512         add_37[0][0]                     \n",
      "__________________________________________________________________________________________________\n",
      "stage2_unit3_relu1 (Activation) (None, 16, 16, 128)  0           stage2_unit3_bn1[0][0]           \n",
      "__________________________________________________________________________________________________\n",
      "zero_padding2d_81 (ZeroPadding2 (None, 18, 18, 128)  0           stage2_unit3_relu1[0][0]         \n",
      "__________________________________________________________________________________________________\n",
      "stage2_unit3_conv1 (Conv2D)     (None, 16, 16, 128)  147456      zero_padding2d_81[0][0]          \n",
      "__________________________________________________________________________________________________\n",
      "stage2_unit3_bn2 (BatchNormaliz (None, 16, 16, 128)  512         stage2_unit3_conv1[0][0]         \n",
      "__________________________________________________________________________________________________\n",
      "stage2_unit3_relu2 (Activation) (None, 16, 16, 128)  0           stage2_unit3_bn2[0][0]           \n",
      "__________________________________________________________________________________________________\n",
      "zero_padding2d_82 (ZeroPadding2 (None, 18, 18, 128)  0           stage2_unit3_relu2[0][0]         \n",
      "__________________________________________________________________________________________________\n",
      "stage2_unit3_conv2 (Conv2D)     (None, 16, 16, 128)  147456      zero_padding2d_82[0][0]          \n",
      "__________________________________________________________________________________________________\n",
      "add_38 (Add)                    (None, 16, 16, 128)  0           stage2_unit3_conv2[0][0]         \n",
      "                                                                 add_37[0][0]                     \n",
      "__________________________________________________________________________________________________\n",
      "stage2_unit4_bn1 (BatchNormaliz (None, 16, 16, 128)  512         add_38[0][0]                     \n",
      "__________________________________________________________________________________________________\n",
      "stage2_unit4_relu1 (Activation) (None, 16, 16, 128)  0           stage2_unit4_bn1[0][0]           \n",
      "__________________________________________________________________________________________________\n",
      "zero_padding2d_83 (ZeroPadding2 (None, 18, 18, 128)  0           stage2_unit4_relu1[0][0]         \n",
      "__________________________________________________________________________________________________\n",
      "stage2_unit4_conv1 (Conv2D)     (None, 16, 16, 128)  147456      zero_padding2d_83[0][0]          \n",
      "__________________________________________________________________________________________________\n",
      "stage2_unit4_bn2 (BatchNormaliz (None, 16, 16, 128)  512         stage2_unit4_conv1[0][0]         \n",
      "__________________________________________________________________________________________________\n",
      "stage2_unit4_relu2 (Activation) (None, 16, 16, 128)  0           stage2_unit4_bn2[0][0]           \n",
      "__________________________________________________________________________________________________\n",
      "zero_padding2d_84 (ZeroPadding2 (None, 18, 18, 128)  0           stage2_unit4_relu2[0][0]         \n",
      "__________________________________________________________________________________________________\n",
      "stage2_unit4_conv2 (Conv2D)     (None, 16, 16, 128)  147456      zero_padding2d_84[0][0]          \n",
      "__________________________________________________________________________________________________\n",
      "add_39 (Add)                    (None, 16, 16, 128)  0           stage2_unit4_conv2[0][0]         \n",
      "                                                                 add_38[0][0]                     \n",
      "__________________________________________________________________________________________________\n",
      "stage3_unit1_bn1 (BatchNormaliz (None, 16, 16, 128)  512         add_39[0][0]                     \n",
      "__________________________________________________________________________________________________\n",
      "stage3_unit1_relu1 (Activation) (None, 16, 16, 128)  0           stage3_unit1_bn1[0][0]           \n",
      "__________________________________________________________________________________________________\n",
      "zero_padding2d_85 (ZeroPadding2 (None, 18, 18, 128)  0           stage3_unit1_relu1[0][0]         \n",
      "__________________________________________________________________________________________________\n",
      "stage3_unit1_conv1 (Conv2D)     (None, 8, 8, 256)    294912      zero_padding2d_85[0][0]          \n",
      "__________________________________________________________________________________________________\n",
      "stage3_unit1_bn2 (BatchNormaliz (None, 8, 8, 256)    1024        stage3_unit1_conv1[0][0]         \n",
      "__________________________________________________________________________________________________\n",
      "stage3_unit1_relu2 (Activation) (None, 8, 8, 256)    0           stage3_unit1_bn2[0][0]           \n",
      "__________________________________________________________________________________________________\n",
      "zero_padding2d_86 (ZeroPadding2 (None, 10, 10, 256)  0           stage3_unit1_relu2[0][0]         \n",
      "__________________________________________________________________________________________________\n",
      "stage3_unit1_conv2 (Conv2D)     (None, 8, 8, 256)    589824      zero_padding2d_86[0][0]          \n",
      "__________________________________________________________________________________________________\n",
      "stage3_unit1_sc (Conv2D)        (None, 8, 8, 256)    32768       stage3_unit1_relu1[0][0]         \n",
      "__________________________________________________________________________________________________\n",
      "add_40 (Add)                    (None, 8, 8, 256)    0           stage3_unit1_conv2[0][0]         \n",
      "                                                                 stage3_unit1_sc[0][0]            \n",
      "__________________________________________________________________________________________________\n",
      "stage3_unit2_bn1 (BatchNormaliz (None, 8, 8, 256)    1024        add_40[0][0]                     \n",
      "__________________________________________________________________________________________________\n",
      "stage3_unit2_relu1 (Activation) (None, 8, 8, 256)    0           stage3_unit2_bn1[0][0]           \n",
      "__________________________________________________________________________________________________\n",
      "zero_padding2d_87 (ZeroPadding2 (None, 10, 10, 256)  0           stage3_unit2_relu1[0][0]         \n",
      "__________________________________________________________________________________________________\n",
      "stage3_unit2_conv1 (Conv2D)     (None, 8, 8, 256)    589824      zero_padding2d_87[0][0]          \n",
      "__________________________________________________________________________________________________\n",
      "stage3_unit2_bn2 (BatchNormaliz (None, 8, 8, 256)    1024        stage3_unit2_conv1[0][0]         \n",
      "__________________________________________________________________________________________________\n",
      "stage3_unit2_relu2 (Activation) (None, 8, 8, 256)    0           stage3_unit2_bn2[0][0]           \n",
      "__________________________________________________________________________________________________\n",
      "zero_padding2d_88 (ZeroPadding2 (None, 10, 10, 256)  0           stage3_unit2_relu2[0][0]         \n",
      "__________________________________________________________________________________________________\n",
      "stage3_unit2_conv2 (Conv2D)     (None, 8, 8, 256)    589824      zero_padding2d_88[0][0]          \n",
      "__________________________________________________________________________________________________\n",
      "add_41 (Add)                    (None, 8, 8, 256)    0           stage3_unit2_conv2[0][0]         \n",
      "                                                                 add_40[0][0]                     \n",
      "__________________________________________________________________________________________________\n",
      "stage3_unit3_bn1 (BatchNormaliz (None, 8, 8, 256)    1024        add_41[0][0]                     \n",
      "__________________________________________________________________________________________________\n",
      "stage3_unit3_relu1 (Activation) (None, 8, 8, 256)    0           stage3_unit3_bn1[0][0]           \n",
      "__________________________________________________________________________________________________\n",
      "zero_padding2d_89 (ZeroPadding2 (None, 10, 10, 256)  0           stage3_unit3_relu1[0][0]         \n",
      "__________________________________________________________________________________________________\n",
      "stage3_unit3_conv1 (Conv2D)     (None, 8, 8, 256)    589824      zero_padding2d_89[0][0]          \n",
      "__________________________________________________________________________________________________\n",
      "stage3_unit3_bn2 (BatchNormaliz (None, 8, 8, 256)    1024        stage3_unit3_conv1[0][0]         \n",
      "__________________________________________________________________________________________________\n",
      "stage3_unit3_relu2 (Activation) (None, 8, 8, 256)    0           stage3_unit3_bn2[0][0]           \n",
      "__________________________________________________________________________________________________\n",
      "zero_padding2d_90 (ZeroPadding2 (None, 10, 10, 256)  0           stage3_unit3_relu2[0][0]         \n",
      "__________________________________________________________________________________________________\n",
      "stage3_unit3_conv2 (Conv2D)     (None, 8, 8, 256)    589824      zero_padding2d_90[0][0]          \n",
      "__________________________________________________________________________________________________\n",
      "add_42 (Add)                    (None, 8, 8, 256)    0           stage3_unit3_conv2[0][0]         \n",
      "                                                                 add_41[0][0]                     \n",
      "__________________________________________________________________________________________________\n",
      "stage3_unit4_bn1 (BatchNormaliz (None, 8, 8, 256)    1024        add_42[0][0]                     \n",
      "__________________________________________________________________________________________________\n",
      "stage3_unit4_relu1 (Activation) (None, 8, 8, 256)    0           stage3_unit4_bn1[0][0]           \n",
      "__________________________________________________________________________________________________\n",
      "zero_padding2d_91 (ZeroPadding2 (None, 10, 10, 256)  0           stage3_unit4_relu1[0][0]         \n",
      "__________________________________________________________________________________________________\n",
      "stage3_unit4_conv1 (Conv2D)     (None, 8, 8, 256)    589824      zero_padding2d_91[0][0]          \n",
      "__________________________________________________________________________________________________\n",
      "stage3_unit4_bn2 (BatchNormaliz (None, 8, 8, 256)    1024        stage3_unit4_conv1[0][0]         \n",
      "__________________________________________________________________________________________________\n",
      "stage3_unit4_relu2 (Activation) (None, 8, 8, 256)    0           stage3_unit4_bn2[0][0]           \n",
      "__________________________________________________________________________________________________\n",
      "zero_padding2d_92 (ZeroPadding2 (None, 10, 10, 256)  0           stage3_unit4_relu2[0][0]         \n",
      "__________________________________________________________________________________________________\n",
      "stage3_unit4_conv2 (Conv2D)     (None, 8, 8, 256)    589824      zero_padding2d_92[0][0]          \n",
      "__________________________________________________________________________________________________\n",
      "add_43 (Add)                    (None, 8, 8, 256)    0           stage3_unit4_conv2[0][0]         \n",
      "                                                                 add_42[0][0]                     \n",
      "__________________________________________________________________________________________________\n",
      "stage3_unit5_bn1 (BatchNormaliz (None, 8, 8, 256)    1024        add_43[0][0]                     \n",
      "__________________________________________________________________________________________________\n",
      "stage3_unit5_relu1 (Activation) (None, 8, 8, 256)    0           stage3_unit5_bn1[0][0]           \n",
      "__________________________________________________________________________________________________\n",
      "zero_padding2d_93 (ZeroPadding2 (None, 10, 10, 256)  0           stage3_unit5_relu1[0][0]         \n",
      "__________________________________________________________________________________________________\n",
      "stage3_unit5_conv1 (Conv2D)     (None, 8, 8, 256)    589824      zero_padding2d_93[0][0]          \n",
      "__________________________________________________________________________________________________\n",
      "stage3_unit5_bn2 (BatchNormaliz (None, 8, 8, 256)    1024        stage3_unit5_conv1[0][0]         \n",
      "__________________________________________________________________________________________________\n",
      "stage3_unit5_relu2 (Activation) (None, 8, 8, 256)    0           stage3_unit5_bn2[0][0]           \n",
      "__________________________________________________________________________________________________\n",
      "zero_padding2d_94 (ZeroPadding2 (None, 10, 10, 256)  0           stage3_unit5_relu2[0][0]         \n",
      "__________________________________________________________________________________________________\n",
      "stage3_unit5_conv2 (Conv2D)     (None, 8, 8, 256)    589824      zero_padding2d_94[0][0]          \n",
      "__________________________________________________________________________________________________\n",
      "add_44 (Add)                    (None, 8, 8, 256)    0           stage3_unit5_conv2[0][0]         \n",
      "                                                                 add_43[0][0]                     \n",
      "__________________________________________________________________________________________________\n",
      "stage3_unit6_bn1 (BatchNormaliz (None, 8, 8, 256)    1024        add_44[0][0]                     \n",
      "__________________________________________________________________________________________________\n",
      "stage3_unit6_relu1 (Activation) (None, 8, 8, 256)    0           stage3_unit6_bn1[0][0]           \n",
      "__________________________________________________________________________________________________\n",
      "zero_padding2d_95 (ZeroPadding2 (None, 10, 10, 256)  0           stage3_unit6_relu1[0][0]         \n",
      "__________________________________________________________________________________________________\n",
      "stage3_unit6_conv1 (Conv2D)     (None, 8, 8, 256)    589824      zero_padding2d_95[0][0]          \n",
      "__________________________________________________________________________________________________\n",
      "stage3_unit6_bn2 (BatchNormaliz (None, 8, 8, 256)    1024        stage3_unit6_conv1[0][0]         \n",
      "__________________________________________________________________________________________________\n",
      "stage3_unit6_relu2 (Activation) (None, 8, 8, 256)    0           stage3_unit6_bn2[0][0]           \n",
      "__________________________________________________________________________________________________\n",
      "zero_padding2d_96 (ZeroPadding2 (None, 10, 10, 256)  0           stage3_unit6_relu2[0][0]         \n",
      "__________________________________________________________________________________________________\n",
      "stage3_unit6_conv2 (Conv2D)     (None, 8, 8, 256)    589824      zero_padding2d_96[0][0]          \n",
      "__________________________________________________________________________________________________\n",
      "add_45 (Add)                    (None, 8, 8, 256)    0           stage3_unit6_conv2[0][0]         \n",
      "                                                                 add_44[0][0]                     \n",
      "__________________________________________________________________________________________________\n",
      "stage4_unit1_bn1 (BatchNormaliz (None, 8, 8, 256)    1024        add_45[0][0]                     \n",
      "__________________________________________________________________________________________________\n",
      "stage4_unit1_relu1 (Activation) (None, 8, 8, 256)    0           stage4_unit1_bn1[0][0]           \n",
      "__________________________________________________________________________________________________\n",
      "zero_padding2d_97 (ZeroPadding2 (None, 10, 10, 256)  0           stage4_unit1_relu1[0][0]         \n",
      "__________________________________________________________________________________________________\n",
      "stage4_unit1_conv1 (Conv2D)     (None, 4, 4, 512)    1179648     zero_padding2d_97[0][0]          \n",
      "__________________________________________________________________________________________________\n",
      "stage4_unit1_bn2 (BatchNormaliz (None, 4, 4, 512)    2048        stage4_unit1_conv1[0][0]         \n",
      "__________________________________________________________________________________________________\n",
      "stage4_unit1_relu2 (Activation) (None, 4, 4, 512)    0           stage4_unit1_bn2[0][0]           \n",
      "__________________________________________________________________________________________________\n",
      "zero_padding2d_98 (ZeroPadding2 (None, 6, 6, 512)    0           stage4_unit1_relu2[0][0]         \n",
      "__________________________________________________________________________________________________\n",
      "stage4_unit1_conv2 (Conv2D)     (None, 4, 4, 512)    2359296     zero_padding2d_98[0][0]          \n",
      "__________________________________________________________________________________________________\n",
      "stage4_unit1_sc (Conv2D)        (None, 4, 4, 512)    131072      stage4_unit1_relu1[0][0]         \n",
      "__________________________________________________________________________________________________\n",
      "add_46 (Add)                    (None, 4, 4, 512)    0           stage4_unit1_conv2[0][0]         \n",
      "                                                                 stage4_unit1_sc[0][0]            \n",
      "__________________________________________________________________________________________________\n",
      "stage4_unit2_bn1 (BatchNormaliz (None, 4, 4, 512)    2048        add_46[0][0]                     \n",
      "__________________________________________________________________________________________________\n",
      "stage4_unit2_relu1 (Activation) (None, 4, 4, 512)    0           stage4_unit2_bn1[0][0]           \n",
      "__________________________________________________________________________________________________\n",
      "zero_padding2d_99 (ZeroPadding2 (None, 6, 6, 512)    0           stage4_unit2_relu1[0][0]         \n",
      "__________________________________________________________________________________________________\n",
      "stage4_unit2_conv1 (Conv2D)     (None, 4, 4, 512)    2359296     zero_padding2d_99[0][0]          \n",
      "__________________________________________________________________________________________________\n",
      "stage4_unit2_bn2 (BatchNormaliz (None, 4, 4, 512)    2048        stage4_unit2_conv1[0][0]         \n",
      "__________________________________________________________________________________________________\n",
      "stage4_unit2_relu2 (Activation) (None, 4, 4, 512)    0           stage4_unit2_bn2[0][0]           \n",
      "__________________________________________________________________________________________________\n",
      "zero_padding2d_100 (ZeroPadding (None, 6, 6, 512)    0           stage4_unit2_relu2[0][0]         \n",
      "__________________________________________________________________________________________________\n",
      "stage4_unit2_conv2 (Conv2D)     (None, 4, 4, 512)    2359296     zero_padding2d_100[0][0]         \n",
      "__________________________________________________________________________________________________\n",
      "add_47 (Add)                    (None, 4, 4, 512)    0           stage4_unit2_conv2[0][0]         \n",
      "                                                                 add_46[0][0]                     \n",
      "__________________________________________________________________________________________________\n",
      "stage4_unit3_bn1 (BatchNormaliz (None, 4, 4, 512)    2048        add_47[0][0]                     \n",
      "__________________________________________________________________________________________________\n",
      "stage4_unit3_relu1 (Activation) (None, 4, 4, 512)    0           stage4_unit3_bn1[0][0]           \n",
      "__________________________________________________________________________________________________\n",
      "zero_padding2d_101 (ZeroPadding (None, 6, 6, 512)    0           stage4_unit3_relu1[0][0]         \n",
      "__________________________________________________________________________________________________\n",
      "stage4_unit3_conv1 (Conv2D)     (None, 4, 4, 512)    2359296     zero_padding2d_101[0][0]         \n",
      "__________________________________________________________________________________________________\n",
      "stage4_unit3_bn2 (BatchNormaliz (None, 4, 4, 512)    2048        stage4_unit3_conv1[0][0]         \n",
      "__________________________________________________________________________________________________\n",
      "stage4_unit3_relu2 (Activation) (None, 4, 4, 512)    0           stage4_unit3_bn2[0][0]           \n",
      "__________________________________________________________________________________________________\n",
      "zero_padding2d_102 (ZeroPadding (None, 6, 6, 512)    0           stage4_unit3_relu2[0][0]         \n",
      "__________________________________________________________________________________________________\n",
      "stage4_unit3_conv2 (Conv2D)     (None, 4, 4, 512)    2359296     zero_padding2d_102[0][0]         \n",
      "__________________________________________________________________________________________________\n",
      "add_48 (Add)                    (None, 4, 4, 512)    0           stage4_unit3_conv2[0][0]         \n",
      "                                                                 add_47[0][0]                     \n",
      "__________________________________________________________________________________________________\n",
      "bn1 (BatchNormalization)        (None, 4, 4, 512)    2048        add_48[0][0]                     \n",
      "__________________________________________________________________________________________________\n",
      "relu1 (Activation)              (None, 4, 4, 512)    0           bn1[0][0]                        \n",
      "__________________________________________________________________________________________________\n",
      "decoder_stage0_upsample (UpSamp (None, 8, 8, 512)    0           relu1[0][0]                      \n",
      "__________________________________________________________________________________________________\n",
      "concatenate_9 (Concatenate)     (None, 8, 8, 768)    0           decoder_stage0_upsample[0][0]    \n",
      "                                                                 stage4_unit1_relu1[0][0]         \n",
      "__________________________________________________________________________________________________\n",
      "decoder_stage0_conv1 (Conv2D)   (None, 8, 8, 256)    1769472     concatenate_9[0][0]              \n",
      "__________________________________________________________________________________________________\n",
      "decoder_stage0_bn1 (BatchNormal (None, 8, 8, 256)    1024        decoder_stage0_conv1[0][0]       \n",
      "__________________________________________________________________________________________________\n",
      "decoder_stage0_relu1 (Activatio (None, 8, 8, 256)    0           decoder_stage0_bn1[0][0]         \n",
      "__________________________________________________________________________________________________\n",
      "decoder_stage0_conv2 (Conv2D)   (None, 8, 8, 256)    589824      decoder_stage0_relu1[0][0]       \n",
      "__________________________________________________________________________________________________\n",
      "decoder_stage0_bn2 (BatchNormal (None, 8, 8, 256)    1024        decoder_stage0_conv2[0][0]       \n",
      "__________________________________________________________________________________________________\n",
      "decoder_stage0_relu2 (Activatio (None, 8, 8, 256)    0           decoder_stage0_bn2[0][0]         \n",
      "__________________________________________________________________________________________________\n",
      "decoder_stage1_upsample (UpSamp (None, 16, 16, 256)  0           decoder_stage0_relu2[0][0]       \n",
      "__________________________________________________________________________________________________\n",
      "concatenate_10 (Concatenate)    (None, 16, 16, 384)  0           decoder_stage1_upsample[0][0]    \n",
      "                                                                 stage3_unit1_relu1[0][0]         \n",
      "__________________________________________________________________________________________________\n",
      "decoder_stage1_conv1 (Conv2D)   (None, 16, 16, 128)  442368      concatenate_10[0][0]             \n",
      "__________________________________________________________________________________________________\n",
      "decoder_stage1_bn1 (BatchNormal (None, 16, 16, 128)  512         decoder_stage1_conv1[0][0]       \n",
      "__________________________________________________________________________________________________\n",
      "decoder_stage1_relu1 (Activatio (None, 16, 16, 128)  0           decoder_stage1_bn1[0][0]         \n",
      "__________________________________________________________________________________________________\n",
      "decoder_stage1_conv2 (Conv2D)   (None, 16, 16, 128)  147456      decoder_stage1_relu1[0][0]       \n",
      "__________________________________________________________________________________________________\n",
      "decoder_stage1_bn2 (BatchNormal (None, 16, 16, 128)  512         decoder_stage1_conv2[0][0]       \n",
      "__________________________________________________________________________________________________\n",
      "decoder_stage1_relu2 (Activatio (None, 16, 16, 128)  0           decoder_stage1_bn2[0][0]         \n",
      "__________________________________________________________________________________________________\n",
      "decoder_stage2_upsample (UpSamp (None, 32, 32, 128)  0           decoder_stage1_relu2[0][0]       \n",
      "__________________________________________________________________________________________________\n",
      "concatenate_11 (Concatenate)    (None, 32, 32, 192)  0           decoder_stage2_upsample[0][0]    \n",
      "                                                                 stage2_unit1_relu1[0][0]         \n",
      "__________________________________________________________________________________________________\n",
      "decoder_stage2_conv1 (Conv2D)   (None, 32, 32, 64)   110592      concatenate_11[0][0]             \n",
      "__________________________________________________________________________________________________\n",
      "decoder_stage2_bn1 (BatchNormal (None, 32, 32, 64)   256         decoder_stage2_conv1[0][0]       \n",
      "__________________________________________________________________________________________________\n",
      "decoder_stage2_relu1 (Activatio (None, 32, 32, 64)   0           decoder_stage2_bn1[0][0]         \n",
      "__________________________________________________________________________________________________\n",
      "decoder_stage2_conv2 (Conv2D)   (None, 32, 32, 64)   36864       decoder_stage2_relu1[0][0]       \n",
      "__________________________________________________________________________________________________\n",
      "decoder_stage2_bn2 (BatchNormal (None, 32, 32, 64)   256         decoder_stage2_conv2[0][0]       \n",
      "__________________________________________________________________________________________________\n",
      "decoder_stage2_relu2 (Activatio (None, 32, 32, 64)   0           decoder_stage2_bn2[0][0]         \n",
      "__________________________________________________________________________________________________\n",
      "decoder_stage3_upsample (UpSamp (None, 64, 64, 64)   0           decoder_stage2_relu2[0][0]       \n",
      "__________________________________________________________________________________________________\n",
      "concatenate_12 (Concatenate)    (None, 64, 64, 128)  0           decoder_stage3_upsample[0][0]    \n",
      "                                                                 relu0[0][0]                      \n",
      "__________________________________________________________________________________________________\n",
      "decoder_stage3_conv1 (Conv2D)   (None, 64, 64, 32)   36864       concatenate_12[0][0]             \n",
      "__________________________________________________________________________________________________\n",
      "decoder_stage3_bn1 (BatchNormal (None, 64, 64, 32)   128         decoder_stage3_conv1[0][0]       \n",
      "__________________________________________________________________________________________________\n",
      "decoder_stage3_relu1 (Activatio (None, 64, 64, 32)   0           decoder_stage3_bn1[0][0]         \n",
      "__________________________________________________________________________________________________\n",
      "decoder_stage3_conv2 (Conv2D)   (None, 64, 64, 32)   9216        decoder_stage3_relu1[0][0]       \n",
      "__________________________________________________________________________________________________\n",
      "decoder_stage3_bn2 (BatchNormal (None, 64, 64, 32)   128         decoder_stage3_conv2[0][0]       \n",
      "__________________________________________________________________________________________________\n",
      "decoder_stage3_relu2 (Activatio (None, 64, 64, 32)   0           decoder_stage3_bn2[0][0]         \n",
      "__________________________________________________________________________________________________\n",
      "decoder_stage4_upsample (UpSamp (None, 128, 128, 32) 0           decoder_stage3_relu2[0][0]       \n",
      "__________________________________________________________________________________________________\n",
      "decoder_stage4_conv1 (Conv2D)   (None, 128, 128, 16) 4608        decoder_stage4_upsample[0][0]    \n",
      "__________________________________________________________________________________________________\n",
      "decoder_stage4_bn1 (BatchNormal (None, 128, 128, 16) 64          decoder_stage4_conv1[0][0]       \n",
      "__________________________________________________________________________________________________\n",
      "decoder_stage4_relu1 (Activatio (None, 128, 128, 16) 0           decoder_stage4_bn1[0][0]         \n",
      "__________________________________________________________________________________________________\n",
      "decoder_stage4_conv2 (Conv2D)   (None, 128, 128, 16) 2304        decoder_stage4_relu1[0][0]       \n",
      "__________________________________________________________________________________________________\n",
      "decoder_stage4_bn2 (BatchNormal (None, 128, 128, 16) 64          decoder_stage4_conv2[0][0]       \n",
      "__________________________________________________________________________________________________\n",
      "decoder_stage4_relu2 (Activatio (None, 128, 128, 16) 0           decoder_stage4_bn2[0][0]         \n",
      "__________________________________________________________________________________________________\n",
      "final_conv (Conv2D)             (None, 128, 128, 1)  145         decoder_stage4_relu2[0][0]       \n",
      "__________________________________________________________________________________________________\n",
      "sigmoid (Activation)            (None, 128, 128, 1)  0           final_conv[0][0]                 \n",
      "==================================================================================================\n",
      "Total params: 24,449,876\n",
      "Trainable params: 24,432,530\n",
      "Non-trainable params: 17,346\n",
      "__________________________________________________________________________________________________\n"
     ]
    }
   ],
   "source": [
    "model = Unet(backbone_name='resnet34', encoder_weights=None, input_shape=(128, 128, 1))\n",
    "#compile your model by adding the parameters like optimizer, loss and metrics.\n",
    "model.compile(optimizer='adam', loss=loss, metrics=[dice_coefficient])\n",
    "model.summary()"
   ]
  },
  {
   "cell_type": "code",
   "execution_count": 0,
   "metadata": {
    "colab": {},
    "colab_type": "code",
    "collapsed": true,
    "id": "eL1lRlXDpIHl"
   },
   "outputs": [],
   "source": [
    "#Get the summary of your model\n"
   ]
  },
  {
   "cell_type": "code",
   "execution_count": 0,
   "metadata": {
    "colab": {},
    "colab_type": "code",
    "collapsed": true,
    "id": "cA4f4oYYpJA6"
   },
   "outputs": [],
   "source": []
  },
  {
   "cell_type": "markdown",
   "metadata": {
    "colab_type": "text",
    "id": "6UYvb8OdpLV5"
   },
   "source": [
    "### 10. Fit your model using model.fit function.\n",
    "Hint - As it might take long time to run. Run it for only 1 or 2 epochs."
   ]
  },
  {
   "cell_type": "code",
   "execution_count": 77,
   "metadata": {
    "colab": {
     "base_uri": "https://localhost:8080/",
     "height": 91
    },
    "colab_type": "code",
    "id": "bFw1Yq06pQbp",
    "outputId": "b9f02eb3-87de-4fd6-917c-c3f8eb25b7b3"
   },
   "outputs": [
    {
     "name": "stdout",
     "output_type": "stream",
     "text": [
      "Train on 3400 samples, validate on 600 samples\n",
      "Epoch 1/1\n",
      "3400/3400 [==============================] - 1705s 501ms/step - loss: 1.1808 - dice_coefficient: 0.5142 - val_loss: 1.4924 - val_dice_coefficient: 0.5524\n"
     ]
    },
    {
     "data": {
      "text/plain": [
       "<keras.callbacks.History at 0x7fc2ac603cf8>"
      ]
     },
     "execution_count": 77,
     "metadata": {
      "tags": []
     },
     "output_type": "execute_result"
    }
   ],
   "source": [
    "model.fit(\n",
    "    x=X_train,\n",
    "    y=y_train,\n",
    "    batch_size=64,    \n",
    "    epochs=1,\n",
    "    validation_data=(X_valid, y_valid)\n",
    ")"
   ]
  },
  {
   "cell_type": "markdown",
   "metadata": {
    "colab_type": "text",
    "id": "iH34vMq9pSnh"
   },
   "source": [
    "### 11.Predict on val set using model.predict funtion and store in preds_val variable.\n",
    "\n"
   ]
  },
  {
   "cell_type": "code",
   "execution_count": 78,
   "metadata": {
    "colab": {
     "base_uri": "https://localhost:8080/",
     "height": 35
    },
    "colab_type": "code",
    "id": "FymN5QpopXW-",
    "outputId": "8e438325-62c9-4115-d729-7cdd9ca88a36"
   },
   "outputs": [
    {
     "name": "stdout",
     "output_type": "stream",
     "text": [
      "600/600 [==============================] - 73s 121ms/step\n"
     ]
    }
   ],
   "source": [
    "preds_val = model.predict(X_valid, verbose=1)"
   ]
  },
  {
   "cell_type": "code",
   "execution_count": 0,
   "metadata": {
    "colab": {},
    "colab_type": "code",
    "collapsed": true,
    "id": "uKkpE3vEpXi8"
   },
   "outputs": [],
   "source": [
    "#Get the threshold predictions to look at refined results.\n",
    "preds_val_t = (preds_val > 0.5).astype(np.uint8)"
   ]
  },
  {
   "cell_type": "code",
   "execution_count": 0,
   "metadata": {
    "colab": {},
    "colab_type": "code",
    "collapsed": true,
    "id": "Pyn3RyCRpaRH"
   },
   "outputs": [],
   "source": [
    "#Plot a sample\n",
    "def plot_sample(X, y, preds, binary_preds, ix=None):\n",
    "    if ix is None:\n",
    "        ix = random.randint(0, len(X))\n",
    "\n",
    "    has_mask = y[ix].max() > 0\n",
    "\n",
    "    fig, ax = plt.subplots(1, 4, figsize=(20, 10))\n",
    "    ax[0].imshow(X[ix, ..., 0], cmap='seismic')\n",
    "    if has_mask:\n",
    "        ax[0].contour(y[ix].squeeze(), colors='k', levels=[0.5])\n",
    "    ax[0].set_title('Seismic')\n",
    "\n",
    "    ax[1].imshow(y[ix].squeeze())\n",
    "    ax[1].set_title('Salt')\n",
    "\n",
    "    ax[2].imshow(preds[ix].squeeze(), vmin=0, vmax=1)\n",
    "    if has_mask:\n",
    "        ax[2].contour(y[ix].squeeze(), colors='k', levels=[0.5])\n",
    "    ax[2].set_title('Salt Predicted')\n",
    "    \n",
    "    ax[3].imshow(binary_preds[ix].squeeze(), vmin=0, vmax=1)\n",
    "    if has_mask:\n",
    "        ax[3].contour(y[ix].squeeze(), colors='k', levels=[0.5])\n",
    "    ax[3].set_title('Salt Predicted binary');"
   ]
  },
  {
   "cell_type": "code",
   "execution_count": 101,
   "metadata": {
    "colab": {
     "base_uri": "https://localhost:8080/",
     "height": 906
    },
    "colab_type": "code",
    "id": "s_h5fcgYpbyR",
    "outputId": "670af037-57c0-414a-c0ec-210c8dd57557"
   },
   "outputs": [
    {
     "ename": "TypeError",
     "evalue": "ignored",
     "output_type": "error",
     "traceback": [
      "\u001b[0;31m---------------------------------------------------------------------------\u001b[0m",
      "\u001b[0;31mTypeError\u001b[0m                                 Traceback (most recent call last)",
      "\u001b[0;32m<ipython-input-101-dfe4b6676693>\u001b[0m in \u001b[0;36m<module>\u001b[0;34m()\u001b[0m\n\u001b[0;32m----> 1\u001b[0;31m \u001b[0mplot_sample\u001b[0m\u001b[0;34m(\u001b[0m\u001b[0mX_valid\u001b[0m\u001b[0;34m,\u001b[0m \u001b[0my_valid\u001b[0m\u001b[0;34m,\u001b[0m \u001b[0mpreds_val\u001b[0m\u001b[0;34m,\u001b[0m \u001b[0mpreds_val_t\u001b[0m\u001b[0;34m,\u001b[0m \u001b[0mix\u001b[0m\u001b[0;34m=\u001b[0m\u001b[0;36m15\u001b[0m\u001b[0;34m)\u001b[0m\u001b[0;34m\u001b[0m\u001b[0;34m\u001b[0m\u001b[0m\n\u001b[0m",
      "\u001b[0;32m<ipython-input-100-74ff40d866f9>\u001b[0m in \u001b[0;36mplot_sample\u001b[0;34m(X, y, preds, binary_preds, ix)\u001b[0m\n\u001b[1;32m      6\u001b[0m \u001b[0;34m\u001b[0m\u001b[0m\n\u001b[1;32m      7\u001b[0m     \u001b[0mfig\u001b[0m\u001b[0;34m,\u001b[0m \u001b[0max\u001b[0m \u001b[0;34m=\u001b[0m \u001b[0mplt\u001b[0m\u001b[0;34m.\u001b[0m\u001b[0msubplots\u001b[0m\u001b[0;34m(\u001b[0m\u001b[0;36m1\u001b[0m\u001b[0;34m,\u001b[0m \u001b[0;36m4\u001b[0m\u001b[0;34m,\u001b[0m \u001b[0mfigsize\u001b[0m\u001b[0;34m=\u001b[0m\u001b[0;34m(\u001b[0m\u001b[0;36m20\u001b[0m\u001b[0;34m,\u001b[0m \u001b[0;36m10\u001b[0m\u001b[0;34m)\u001b[0m\u001b[0;34m)\u001b[0m\u001b[0;34m\u001b[0m\u001b[0;34m\u001b[0m\u001b[0m\n\u001b[0;32m----> 8\u001b[0;31m     \u001b[0max\u001b[0m\u001b[0;34m[\u001b[0m\u001b[0;36m0\u001b[0m\u001b[0;34m]\u001b[0m\u001b[0;34m.\u001b[0m\u001b[0mimshow\u001b[0m\u001b[0;34m(\u001b[0m\u001b[0mX\u001b[0m\u001b[0;34m[\u001b[0m\u001b[0mix\u001b[0m\u001b[0;34m,\u001b[0m \u001b[0;34m...\u001b[0m\u001b[0;34m,\u001b[0m \u001b[0;36m0\u001b[0m\u001b[0;34m]\u001b[0m\u001b[0;34m,\u001b[0m \u001b[0mcmap\u001b[0m\u001b[0;34m=\u001b[0m\u001b[0;34m'seismic'\u001b[0m\u001b[0;34m)\u001b[0m\u001b[0;34m\u001b[0m\u001b[0;34m\u001b[0m\u001b[0m\n\u001b[0m\u001b[1;32m      9\u001b[0m     \u001b[0;32mif\u001b[0m \u001b[0mhas_mask\u001b[0m\u001b[0;34m:\u001b[0m\u001b[0;34m\u001b[0m\u001b[0;34m\u001b[0m\u001b[0m\n\u001b[1;32m     10\u001b[0m         \u001b[0max\u001b[0m\u001b[0;34m[\u001b[0m\u001b[0;36m0\u001b[0m\u001b[0;34m]\u001b[0m\u001b[0;34m.\u001b[0m\u001b[0mcontour\u001b[0m\u001b[0;34m(\u001b[0m\u001b[0my\u001b[0m\u001b[0;34m[\u001b[0m\u001b[0mix\u001b[0m\u001b[0;34m]\u001b[0m\u001b[0;34m.\u001b[0m\u001b[0msqueeze\u001b[0m\u001b[0;34m(\u001b[0m\u001b[0;34m)\u001b[0m\u001b[0;34m,\u001b[0m \u001b[0mcolors\u001b[0m\u001b[0;34m=\u001b[0m\u001b[0;34m'k'\u001b[0m\u001b[0;34m,\u001b[0m \u001b[0mlevels\u001b[0m\u001b[0;34m=\u001b[0m\u001b[0;34m[\u001b[0m\u001b[0;36m0.5\u001b[0m\u001b[0;34m]\u001b[0m\u001b[0;34m)\u001b[0m\u001b[0;34m\u001b[0m\u001b[0;34m\u001b[0m\u001b[0m\n",
      "\u001b[0;32m/usr/local/lib/python3.6/dist-packages/matplotlib/__init__.py\u001b[0m in \u001b[0;36minner\u001b[0;34m(ax, data, *args, **kwargs)\u001b[0m\n\u001b[1;32m   1808\u001b[0m                         \u001b[0;34m\"the Matplotlib list!)\"\u001b[0m \u001b[0;34m%\u001b[0m \u001b[0;34m(\u001b[0m\u001b[0mlabel_namer\u001b[0m\u001b[0;34m,\u001b[0m \u001b[0mfunc\u001b[0m\u001b[0;34m.\u001b[0m\u001b[0m__name__\u001b[0m\u001b[0;34m)\u001b[0m\u001b[0;34m,\u001b[0m\u001b[0;34m\u001b[0m\u001b[0;34m\u001b[0m\u001b[0m\n\u001b[1;32m   1809\u001b[0m                         RuntimeWarning, stacklevel=2)\n\u001b[0;32m-> 1810\u001b[0;31m             \u001b[0;32mreturn\u001b[0m \u001b[0mfunc\u001b[0m\u001b[0;34m(\u001b[0m\u001b[0max\u001b[0m\u001b[0;34m,\u001b[0m \u001b[0;34m*\u001b[0m\u001b[0margs\u001b[0m\u001b[0;34m,\u001b[0m \u001b[0;34m**\u001b[0m\u001b[0mkwargs\u001b[0m\u001b[0;34m)\u001b[0m\u001b[0;34m\u001b[0m\u001b[0;34m\u001b[0m\u001b[0m\n\u001b[0m\u001b[1;32m   1811\u001b[0m \u001b[0;34m\u001b[0m\u001b[0m\n\u001b[1;32m   1812\u001b[0m         inner.__doc__ = _add_data_doc(inner.__doc__,\n",
      "\u001b[0;32m/usr/local/lib/python3.6/dist-packages/matplotlib/axes/_axes.py\u001b[0m in \u001b[0;36mimshow\u001b[0;34m(self, X, cmap, norm, aspect, interpolation, alpha, vmin, vmax, origin, extent, shape, filternorm, filterrad, imlim, resample, url, **kwargs)\u001b[0m\n\u001b[1;32m   5492\u001b[0m                               resample=resample, **kwargs)\n\u001b[1;32m   5493\u001b[0m \u001b[0;34m\u001b[0m\u001b[0m\n\u001b[0;32m-> 5494\u001b[0;31m         \u001b[0mim\u001b[0m\u001b[0;34m.\u001b[0m\u001b[0mset_data\u001b[0m\u001b[0;34m(\u001b[0m\u001b[0mX\u001b[0m\u001b[0;34m)\u001b[0m\u001b[0;34m\u001b[0m\u001b[0;34m\u001b[0m\u001b[0m\n\u001b[0m\u001b[1;32m   5495\u001b[0m         \u001b[0mim\u001b[0m\u001b[0;34m.\u001b[0m\u001b[0mset_alpha\u001b[0m\u001b[0;34m(\u001b[0m\u001b[0malpha\u001b[0m\u001b[0;34m)\u001b[0m\u001b[0;34m\u001b[0m\u001b[0;34m\u001b[0m\u001b[0m\n\u001b[1;32m   5496\u001b[0m         \u001b[0;32mif\u001b[0m \u001b[0mim\u001b[0m\u001b[0;34m.\u001b[0m\u001b[0mget_clip_path\u001b[0m\u001b[0;34m(\u001b[0m\u001b[0;34m)\u001b[0m \u001b[0;32mis\u001b[0m \u001b[0;32mNone\u001b[0m\u001b[0;34m:\u001b[0m\u001b[0;34m\u001b[0m\u001b[0;34m\u001b[0m\u001b[0m\n",
      "\u001b[0;32m/usr/local/lib/python3.6/dist-packages/matplotlib/image.py\u001b[0m in \u001b[0;36mset_data\u001b[0;34m(self, A)\u001b[0m\n\u001b[1;32m    636\u001b[0m         if not (self._A.ndim == 2\n\u001b[1;32m    637\u001b[0m                 or self._A.ndim == 3 and self._A.shape[-1] in [3, 4]):\n\u001b[0;32m--> 638\u001b[0;31m             \u001b[0;32mraise\u001b[0m \u001b[0mTypeError\u001b[0m\u001b[0;34m(\u001b[0m\u001b[0;34m\"Invalid dimensions for image data\"\u001b[0m\u001b[0;34m)\u001b[0m\u001b[0;34m\u001b[0m\u001b[0;34m\u001b[0m\u001b[0m\n\u001b[0m\u001b[1;32m    639\u001b[0m \u001b[0;34m\u001b[0m\u001b[0m\n\u001b[1;32m    640\u001b[0m         \u001b[0;32mif\u001b[0m \u001b[0mself\u001b[0m\u001b[0;34m.\u001b[0m\u001b[0m_A\u001b[0m\u001b[0;34m.\u001b[0m\u001b[0mndim\u001b[0m \u001b[0;34m==\u001b[0m \u001b[0;36m3\u001b[0m\u001b[0;34m:\u001b[0m\u001b[0;34m\u001b[0m\u001b[0;34m\u001b[0m\u001b[0m\n",
      "\u001b[0;31mTypeError\u001b[0m: Invalid dimensions for image data"
     ]
    },
    {
     "data": {
      "image/png": "[encoded data removed]",
      "text/plain": [
       "<Figure size 1440x720 with 4 Axes>"
      ]
     },
     "metadata": {
      "tags": []
     },
     "output_type": "display_data"
    }
   ],
   "source": [
    "# Check if valid data looks all right\n",
    "plot_sample(X_valid, y_valid, preds_val, preds_val_t, ix=15)"
   ]
  },
  {
   "cell_type": "markdown",
   "metadata": {
    "colab_type": "text",
    "id": "oasnhlaDpeU0"
   },
   "source": [
    "If you are getting good results- Congratulations.\n",
    "If you are not, try to explore what might be the reason."
   ]
  },
  {
   "cell_type": "markdown",
   "metadata": {
    "colab_type": "text",
    "id": "yllJR0PQpm4M"
   },
   "source": [
    "# Text generation using a RNN"
   ]
  },
  {
   "cell_type": "markdown",
   "metadata": {
    "colab_type": "text",
    "id": "2W6g03QsptwG"
   },
   "source": [
    "Given a sequence of words from this data, train a model to predict the next word in the sequence. Longer sequences of text can be generated by calling the model repeatedly."
   ]
  },
  {
   "cell_type": "markdown",
   "metadata": {
    "colab_type": "text",
    "id": "hbd3E0IuHwjz"
   },
   "source": [
    "**Mount your Google Drive**"
   ]
  },
  {
   "cell_type": "code",
   "execution_count": 0,
   "metadata": {
    "colab": {},
    "colab_type": "code",
    "collapsed": true,
    "id": "Dikrw1ylHtAL"
   },
   "outputs": [],
   "source": [
    "#Mount drive\n",
    "from google.colab import drive\n",
    "drive.mount('/content/drive/')"
   ]
  },
  {
   "cell_type": "markdown",
   "metadata": {
    "colab_type": "text",
    "id": "fnIX_mLXHdxS"
   },
   "source": [
    "### Import Keras and other libraries"
   ]
  },
  {
   "cell_type": "code",
   "execution_count": 0,
   "metadata": {
    "colab": {},
    "colab_type": "code",
    "collapsed": true,
    "id": "voJwnMdZjNPS"
   },
   "outputs": [],
   "source": [
    "from sklearn.utils import shuffle\n",
    "import numpy as np\n",
    "\n",
    "from keras.preprocessing.text import Tokenizer\n",
    "from keras.models import Sequential, load_model\n",
    "from keras.layers import LSTM, Dense, Dropout, Embedding, Masking, Bidirectional\n",
    "from keras.optimizers import Adam\n",
    "from keras import backend"
   ]
  },
  {
   "cell_type": "code",
   "execution_count": 0,
   "metadata": {
    "colab": {},
    "colab_type": "code",
    "collapsed": true,
    "id": "0TmrQuvpHdxU"
   },
   "outputs": [],
   "source": [
    "#Already done"
   ]
  },
  {
   "cell_type": "markdown",
   "metadata": {
    "colab_type": "text",
    "id": "zKBXQflGlPjG"
   },
   "source": [
    "## Download data\n",
    "Reference: Data is collected from http://www.gutenberg.org\n",
    "\n",
    "For the lab purpose, you can load the dataset provided by Great Learning"
   ]
  },
  {
   "cell_type": "markdown",
   "metadata": {
    "colab_type": "text",
    "id": "s321mV4DHdxZ"
   },
   "source": [
    "### Load the Oscar Wilde dataset\n",
    "\n",
    "Store all the \".txt\" file names in a list"
   ]
  },
  {
   "cell_type": "code",
   "execution_count": 0,
   "metadata": {
    "colab": {},
    "colab_type": "code",
    "collapsed": true,
    "id": "VUanlzNJHdxa"
   },
   "outputs": [],
   "source": [
    "fileLst = os.listdir(project_path+'data')"
   ]
  },
  {
   "cell_type": "code",
   "execution_count": 81,
   "metadata": {
    "colab": {
     "base_uri": "https://localhost:8080/",
     "height": 202
    },
    "colab_type": "code",
    "id": "8c4ufjO4jONs",
    "outputId": "0a8f02fc-2127-4c0c-d728-8085c9526bcc"
   },
   "outputs": [
    {
     "data": {
      "text/plain": [
       "['The Soul of Man.txt',\n",
       " 'The Canterville Ghost.txt',\n",
       " 'The Happy Prince and other tales.txt',\n",
       " 'Selected prose of oscar wilde with a Preface by Robert Ross.txt',\n",
       " 'The Duchess of Padua.txt',\n",
       " 'The Importance of Being Earnest.txt',\n",
       " 'The Picture of Dorian Gray.txt',\n",
       " 'Vera or, The Nihilists.txt',\n",
       " 'The Ballad of Reading Gaol.txt',\n",
       " 'Shorter Prose Pieces.txt']"
      ]
     },
     "execution_count": 81,
     "metadata": {
      "tags": []
     },
     "output_type": "execute_result"
    }
   ],
   "source": [
    "fileLst"
   ]
  },
  {
   "cell_type": "markdown",
   "metadata": {
    "colab_type": "text",
    "id": "glr4hv6uZkL-"
   },
   "source": [
    "### Read the data\n",
    "\n",
    "Read contents of every file from the list and append the text in a new list"
   ]
  },
  {
   "cell_type": "code",
   "execution_count": 0,
   "metadata": {
    "colab": {},
    "colab_type": "code",
    "collapsed": true,
    "id": "zLrMMjrkRt9x"
   },
   "outputs": [],
   "source": [
    "os.chdir(project_path+'data')\n",
    "textLst = []\n",
    "for txtFile in fileLst:\n",
    "  f = open(txtFile, \"r\")\n",
    "  textLst.append(f.read())"
   ]
  },
  {
   "cell_type": "code",
   "execution_count": 85,
   "metadata": {
    "colab": {
     "base_uri": "https://localhost:8080/",
     "height": 55
    },
    "colab_type": "code",
    "id": "i1puLo5Rj_kV",
    "outputId": "67e6fff2-9bb6-4017-9ff8-a3dfa17b5d51"
   },
   "outputs": [
    {
     "data": {
      "text/plain": [
       "'\\ufeffThe Project Gutenberg eBook, The Soul of Man, by Oscar Wilde\\n\\n\\nThis eBook is for the use of anyone anywhere in the United States and most\\nother parts of the world at no cost and with almost no restrictions \\nwhatsoever.  You may copy it, give it away or re-use it under the terms of\\nthe Project Gutenberg License included with this eBook or online at \\nwww.gutenberg.org.  If you are not located in the United States, you\\'ll have\\nto check the laws of the country where you are located before using this ebook.\\n\\n\\n\\n\\nTitle: The Soul of Man\\n\\n\\nAuthor: Oscar Wilde\\n\\n\\n\\nRelease Date: September 26, 2014  [eBook #1017]\\n[This file was first posted on August 10, 1997]\\n\\nLanguage: English\\n\\nCharacter set encoding: UTF-8\\n\\n\\n***START OF THE PROJECT GUTENBERG EBOOK THE SOUL OF MAN***\\n\\n\\nTranscribed from the 1909 Arthur L. Humphreys edition by David Price,\\nemail ccx074@pglaf.org\\n\\n                          [Picture: Book cover]\\n\\n\\n\\n\\nTHE\\nSOUL OF MAN\\n\\n\\n                                * * * * *\\n\\n                                  LONDON\\n                            ARTHUR L. HUMPREYS\\n                                   1900\\n\\n                                * * * * *\\n\\n                           _Second Impression_\\n\\n\\n\\n\\nTHE SOUL OF MAN\\n\\n\\nTHE chief advantage that would result from the establishment of Socialism\\nis, undoubtedly, the fact that Socialism would relieve us from that\\nsordid necessity of living for others which, in the present condition of\\nthings, presses so hardly upon almost everybody.  In fact, scarcely\\nanyone at all escapes.\\n\\nNow and then, in the course of the century, a great man of science, like\\nDarwin; a great poet, like Keats; a fine critical spirit, like M. Renan;\\na supreme artist, like Flaubert, has been able to isolate himself, to\\nkeep himself out of reach of the clamorous claims of others, to stand\\n‘under the shelter of the wall,’ as Plato puts it, and so to realise the\\nperfection of what was in him, to his own incomparable gain, and to the\\nincomparable and lasting gain of the whole world.  These, however, are\\nexceptions.  The majority of people spoil their lives by an unhealthy and\\nexaggerated altruism—are forced, indeed, so to spoil them.  They find\\nthemselves surrounded by hideous poverty, by hideous ugliness, by hideous\\nstarvation.  It is inevitable that they should be strongly moved by all\\nthis.  The emotions of man are stirred more quickly than man’s\\nintelligence; and, as I pointed out some time ago in an article on the\\nfunction of criticism, it is much more easy to have sympathy with\\nsuffering than it is to have sympathy with thought.  Accordingly, with\\nadmirable, though misdirected intentions, they very seriously and very\\nsentimentally set themselves to the task of remedying the evils that they\\nsee.  But their remedies do not cure the disease: they merely prolong it.\\nIndeed, their remedies are part of the disease.\\n\\nThey try to solve the problem of poverty, for instance, by keeping the\\npoor alive; or, in the case of a very advanced school, by amusing the\\npoor.\\n\\nBut this is not a solution: it is an aggravation of the difficulty.  The\\nproper aim is to try and reconstruct society on such a basis that poverty\\nwill be impossible.  And the altruistic virtues have really prevented the\\ncarrying out of this aim.  Just as the worst slave-owners were those who\\nwere kind to their slaves, and so prevented the horror of the system\\nbeing realised by those who suffered from it, and understood by those who\\ncontemplated it, so, in the present state of things in England, the\\npeople who do most harm are the people who try to do most good; and at\\nlast we have had the spectacle of men who have really studied the problem\\nand know the life—educated men who live in the East End—coming forward\\nand imploring the community to restrain its altruistic impulses of\\ncharity, benevolence, and the like.  They do so on the ground that such\\ncharity degrades and demoralises.  They are perfectly right.  Charity\\ncreates a multitude of sins.\\n\\nThere is also this to be said.  It is immoral to use private property in\\norder to alleviate the horrible evils that result from the institution of\\nprivate property.  It is both immoral and unfair.\\n\\nUnder Socialism all this will, of course, be altered.  There will be no\\npeople living in fetid dens and fetid rags, and bringing up unhealthy,\\nhunger-pinched children in the midst of impossible and absolutely\\nrepulsive surroundings.  The security of society will not depend, as it\\ndoes now, on the state of the weather.  If a frost comes we shall not\\nhave a hundred thousand men out of work, tramping about the streets in a\\nstate of disgusting misery, or whining to their neighbours for alms, or\\ncrowding round the doors of loathsome shelters to try and secure a hunch\\nof bread and a night’s unclean lodging.  Each member of the society will\\nshare in the general prosperity and happiness of the society, and if a\\nfrost comes no one will practically be anything the worse.\\n\\nUpon the other hand, Socialism itself will be of value simply because it\\nwill lead to Individualism.\\n\\nSocialism, Communism, or whatever one chooses to call it, by converting\\nprivate property into public wealth, and substituting co-operation for\\ncompetition, will restore society to its proper condition of a thoroughly\\nhealthy organism, and insure the material well-being of each member of\\nthe community.  It will, in fact, give Life its proper basis and its\\nproper environment.  But for the full development of Life to its highest\\nmode of perfection, something more is needed.  What is needed is\\nIndividualism.  If the Socialism is Authoritarian; if there are\\nGovernments armed with economic power as they are now with political\\npower; if, in a word, we are to have Industrial Tyrannies, then the last\\nstate of man will be worse than the first.  At present, in consequence of\\nthe existence of private property, a great many people are enabled to\\ndevelop a certain very limited amount of Individualism.  They are either\\nunder no necessity to work for their living, or are enabled to choose the\\nsphere of activity that is really congenial to them, and gives them\\npleasure.  These are the poets, the philosophers, the men of science, the\\nmen of culture—in a word, the real men, the men who have realised\\nthemselves, and in whom all Humanity gains a partial realisation.  Upon\\nthe other hand, there are a great many people who, having no private\\nproperty of their own, and being always on the brink of sheer starvation,\\nare compelled to do the work of beasts of burden, to do work that is\\nquite uncongenial to them, and to which they are forced by the\\nperemptory, unreasonable, degrading Tyranny of want.  These are the poor,\\nand amongst them there is no grace of manner, or charm of speech, or\\ncivilisation, or culture, or refinement in pleasures, or joy of life.\\nFrom their collective force Humanity gains much in material prosperity.\\nBut it is only the material result that it gains, and the man who is poor\\nis in himself absolutely of no importance.  He is merely the\\ninfinitesimal atom of a force that, so far from regarding him, crushes\\nhim: indeed, prefers him crushed, as in that case he is far more\\nobedient.\\n\\nOf course, it might be said that the Individualism generated under\\nconditions of private property is not always, or even as a rule, of a\\nfine or wonderful type, and that the poor, if they have not culture and\\ncharm, have still many virtues.  Both these statements would be quite\\ntrue.  The possession of private property is very often extremely\\ndemoralising, and that is, of course, one of the reasons why Socialism\\nwants to get rid of the institution.  In fact, property is really a\\nnuisance.  Some years ago people went about the country saying that\\nproperty has duties.  They said it so often and so tediously that, at\\nlast, the Church has begun to say it.  One hears it now from every\\npulpit.  It is perfectly true.  Property not merely has duties, but has\\nso many duties that its possession to any large extent is a bore.  It\\ninvolves endless claims upon one, endless attention to business, endless\\nbother.  If property had simply pleasures, we could stand it; but its\\nduties make it unbearable.  In the interest of the rich we must get rid\\nof it.  The virtues of the poor may be readily admitted, and are much to\\nbe regretted.  We are often told that the poor are grateful for charity.\\nSome of them are, no doubt, but the best amongst the poor are never\\ngrateful.  They are ungrateful, discontented, disobedient, and\\nrebellious.  They are quite right to be so.  Charity they feel to be a\\nridiculously inadequate mode of partial restitution, or a sentimental\\ndole, usually accompanied by some impertinent attempt on the part of the\\nsentimentalist to tyrannise over their private lives.  Why should they be\\ngrateful for the crumbs that fall from the rich man’s table?  They should\\nbe seated at the board, and are beginning to know it.  As for being\\ndiscontented, a man who would not be discontented with such surroundings\\nand such a low mode of life would be a perfect brute.  Disobedience, in\\nthe eyes of anyone who has read history, is man’s original virtue.  It is\\nthrough disobedience that progress has been made, through disobedience\\nand through rebellion.  Sometimes the poor are praised for being thrifty.\\nBut to recommend thrift to the poor is both grotesque and insulting.  It\\nis like advising a man who is starving to eat less.  For a town or\\ncountry labourer to practise thrift would be absolutely immoral.  Man\\nshould not be ready to show that he can live like a badly-fed animal.  He\\nshould decline to live like that, and should either steal or go on the\\nrates, which is considered by many to be a form of stealing.  As for\\nbegging, it is safer to beg than to take, but it is finer to take than to\\nbeg.  No: a poor man who is ungrateful, unthrifty, discontented, and\\nrebellious, is probably a real personality, and has much in him.  He is\\nat any rate a healthy protest.  As for the virtuous poor, one can pity\\nthem, of course, but one cannot possibly admire them.  They have made\\nprivate terms with the enemy, and sold their birthright for very bad\\npottage.  They must also be extraordinarily stupid.  I can quite\\nunderstand a man accepting laws that protect private property, and admit\\nof its accumulation, as long as he himself is able under those conditions\\nto realise some form of beautiful and intellectual life.  But it is\\nalmost incredible to me how a man whose life is marred and made hideous\\nby such laws can possibly acquiesce in their continuance.\\n\\nHowever, the explanation is not really difficult to find.  It is simply\\nthis.  Misery and poverty are so absolutely degrading, and exercise such\\na paralysing effect over the nature of men, that no class is ever really\\nconscious of its own suffering.  They have to be told of it by other\\npeople, and they often entirely disbelieve them.  What is said by great\\nemployers of labour against agitators is unquestionably true.  Agitators\\nare a set of interfering, meddling people, who come down to some\\nperfectly contented class of the community, and sow the seeds of\\ndiscontent amongst them.  That is the reason why agitators are so\\nabsolutely necessary.  Without them, in our incomplete state, there would\\nbe no advance towards civilisation.  Slavery was put down in America, not\\nin consequence of any action on the part of the slaves, or even any\\nexpress desire on their part that they should be free.  It was put down\\nentirely through the grossly illegal conduct of certain agitators in\\nBoston and elsewhere, who were not slaves themselves, nor owners of\\nslaves, nor had anything to do with the question really.  It was,\\nundoubtedly, the Abolitionists who set the torch alight, who began the\\nwhole thing.  And it is curious to note that from the slaves themselves\\nthey received, not merely very little assistance, but hardly any sympathy\\neven; and when at the close of the war the slaves found themselves free,\\nfound themselves indeed so absolutely free that they were free to starve,\\nmany of them bitterly regretted the new state of things.  To the thinker,\\nthe most tragic fact in the whole of the French Revolution is not that\\nMarie Antoinette was killed for being a queen, but that the starved\\npeasant of the Vendée voluntarily went out to die for the hideous cause\\nof feudalism.\\n\\nIt is clear, then, that no Authoritarian Socialism will do.  For while\\nunder the present system a very large number of people can lead lives of\\na certain amount of freedom and expression and happiness, under an\\nindustrial-barrack system, or a system of economic tyranny, nobody would\\nbe able to have any such freedom at all.  It is to be regretted that a\\nportion of our community should be practically in slavery, but to propose\\nto solve the problem by enslaving the entire community is childish.\\nEvery man must be left quite free to choose his own work.  No form of\\ncompulsion must be exercised over him.  If there is, his work will not be\\ngood for him, will not be good in itself, and will not be good for\\nothers.  And by work I simply mean activity of any kind.\\n\\nI hardly think that any Socialist, nowadays, would seriously propose that\\nan inspector should call every morning at each house to see that each\\ncitizen rose up and did manual labour for eight hours.  Humanity has got\\nbeyond that stage, and reserves such a form of life for the people whom,\\nin a very arbitrary manner, it chooses to call criminals.  But I confess\\nthat many of the socialistic views that I have come across seem to me to\\nbe tainted with ideas of authority, if not of actual compulsion.  Of\\ncourse, authority and compulsion are out of the question.  All\\nassociation must be quite voluntary.  It is only in voluntary\\nassociations that man is fine.\\n\\nBut it may be asked how Individualism, which is now more or less\\ndependent on the existence of private property for its development, will\\nbenefit by the abolition of such private property.  The answer is very\\nsimple.  It is true that, under existing conditions, a few men who have\\nhad private means of their own, such as Byron, Shelley, Browning, Victor\\nHugo, Baudelaire, and others, have been able to realise their personality\\nmore or less completely.  Not one of these men ever did a single day’s\\nwork for hire.  They were relieved from poverty.  They had an immense\\nadvantage.  The question is whether it would be for the good of\\nIndividualism that such an advantage should be taken away.  Let us\\nsuppose that it is taken away.  What happens then to Individualism?  How\\nwill it benefit?\\n\\nIt will benefit in this way.  Under the new conditions Individualism will\\nbe far freer, far finer, and far more intensified than it is now.  I am\\nnot talking of the great imaginatively-realised Individualism of such\\npoets as I have mentioned, but of the great actual Individualism latent\\nand potential in mankind generally.  For the recognition of private\\nproperty has really harmed Individualism, and obscured it, by confusing a\\nman with what he possesses.  It has led Individualism entirely astray.\\nIt has made gain not growth its aim.  So that man thought that the\\nimportant thing was to have, and did not know that the important thing is\\nto be.  The true perfection of man lies, not in what man has, but in what\\nman is.  Private property has crushed true Individualism, and set up an\\nIndividualism that is false.  It has debarred one part of the community\\nfrom being individual by starving them.  It has debarred the other part\\nof the community from being individual by putting them on the wrong road,\\nand encumbering them.  Indeed, so completely has man’s personality been\\nabsorbed by his possessions that the English law has always treated\\noffences against a man’s property with far more severity than offences\\nagainst his person, and property is still the test of complete\\ncitizenship.  The industry necessary for the making money is also very\\ndemoralising.  In a community like ours, where property confers immense\\ndistinction, social position, honour, respect, titles, and other pleasant\\nthings of the kind, man, being naturally ambitious, makes it his aim to\\naccumulate this property, and goes on wearily and tediously accumulating\\nit long after he has got far more than he wants, or can use, or enjoy, or\\nperhaps even know of.  Man will kill himself by overwork in order to\\nsecure property, and really, considering the enormous advantages that\\nproperty brings, one is hardly surprised.  One’s regret is that society\\nshould be constructed on such a basis that man has been forced into a\\ngroove in which he cannot freely develop what is wonderful, and\\nfascinating, and delightful in him—in which, in fact, he misses the true\\npleasure and joy of living.  He is also, under existing conditions, very\\ninsecure.  An enormously wealthy merchant may be—often is—at every moment\\nof his life at the mercy of things that are not under his control.  If\\nthe wind blows an extra point or so, or the weather suddenly changes, or\\nsome trivial thing happens, his ship may go down, his speculations may go\\nwrong, and he finds himself a poor man, with his social position quite\\ngone.  Now, nothing should be able to harm a man except himself.  Nothing\\nshould be able to rob a man at all.  What a man really has, is what is in\\nhim.  What is outside of him should be a matter of no importance.\\n\\nWith the abolition of private property, then, we shall have true,\\nbeautiful, healthy Individualism.  Nobody will waste his life in\\naccumulating things, and the symbols for things.  One will live.  To live\\nis the rarest thing in the world.  Most people exist, that is all.\\n\\nIt is a question whether we have ever seen the full expression of a\\npersonality, except on the imaginative plane of art.  In action, we never\\nhave.  Cæsar, says Mommsen, was the complete and perfect man.  But how\\ntragically insecure was Cæsar!  Wherever there is a man who exercises\\nauthority, there is a man who resists authority.  Cæsar was very perfect,\\nbut his perfection travelled by too dangerous a road.  Marcus Aurelius\\nwas the perfect man, says Renan.  Yes; the great emperor was a perfect\\nman.  But how intolerable were the endless claims upon him!  He staggered\\nunder the burden of the empire.  He was conscious how inadequate one man\\nwas to bear the weight of that Titan and too vast orb.  What I mean by a\\nperfect man is one who develops under perfect conditions; one who is not\\nwounded, or worried or maimed, or in danger.  Most personalities have\\nbeen obliged to be rebels.  Half their strength has been wasted in\\nfriction.  Byron’s personality, for instance, was terribly wasted in its\\nbattle with the stupidity, and hypocrisy, and Philistinism of the\\nEnglish.  Such battles do not always intensify strength: they often\\nexaggerate weakness.  Byron was never able to give us what he might have\\ngiven us.  Shelley escaped better.  Like Byron, he got out of England as\\nsoon as possible.  But he was not so well known.  If the English had had\\nany idea of what a great poet he really was, they would have fallen on\\nhim with tooth and nail, and made his life as unbearable to him as they\\npossibly could.  But he was not a remarkable figure in society, and\\nconsequently he escaped, to a certain degree.  Still, even in Shelley the\\nnote of rebellion is sometimes too strong.  The note of the perfect\\npersonality is not rebellion, but peace.\\n\\nIt will be a marvellous thing—the true personality of man—when we see it.\\nIt will grow naturally and simply, flowerlike, or as a tree grows.  It\\nwill not be at discord.  It will never argue or dispute.  It will not\\nprove things.  It will know everything.  And yet it will not busy itself\\nabout knowledge.  It will have wisdom.  Its value will not be measured by\\nmaterial things.  It will have nothing.  And yet it will have everything,\\nand whatever one takes from it, it will still have, so rich will it be.\\nIt will not be always meddling with others, or asking them to be like\\nitself.  It will love them because they will be different.  And yet while\\nit will not meddle with others, it will help all, as a beautiful thing\\nhelps us, by being what it is.  The personality of man will be very\\nwonderful.  It will be as wonderful as the personality of a child.\\n\\nIn its development it will be assisted by Christianity, if men desire\\nthat; but if men do not desire that, it will develop none the less\\nsurely.  For it will not worry itself about the past, nor care whether\\nthings happened or did not happen.  Nor will it admit any laws but its\\nown laws; nor any authority but its own authority.  Yet it will love\\nthose who sought to intensify it, and speak often of them.  And of these\\nChrist was one.\\n\\n‘Know thyself’ was written over the portal of the antique world.  Over\\nthe portal of the new world, ‘Be thyself’ shall be written.  And the\\nmessage of Christ to man was simply ‘Be thyself.’  That is the secret of\\nChrist.\\n\\nWhen Jesus talks about the poor he simply means personalities, just as\\nwhen he talks about the rich he simply means people who have not\\ndeveloped their personalities.  Jesus moved in a community that allowed\\nthe accumulation of private property just as ours does, and the gospel\\nthat he preached was not that in such a community it is an advantage for\\na man to live on scanty, unwholesome food, to wear ragged, unwholesome\\nclothes, to sleep in horrid, unwholesome dwellings, and a disadvantage\\nfor a man to live under healthy, pleasant, and decent conditions.  Such a\\nview would have been wrong there and then, and would, of course, be still\\nmore wrong now and in England; for as man moves northward the material\\nnecessities of life become of more vital importance, and our society is\\ninfinitely more complex, and displays far greater extremes of luxury and\\npauperism than any society of the antique world.  What Jesus meant, was\\nthis.  He said to man, ‘You have a wonderful personality.  Develop it.\\nBe yourself.  Don’t imagine that your perfection lies in accumulating or\\npossessing external things.  Your affection is inside of you.  If only\\nyou could realise that, you would not want to be rich.  Ordinary riches\\ncan be stolen from a man.  Real riches cannot.  In the treasury-house of\\nyour soul, there are infinitely precious things, that may not be taken\\nfrom you.  And so, try to so shape your life that external things will\\nnot harm you.  And try also to get rid of personal property.  It involves\\nsordid preoccupation, endless industry, continual wrong.  Personal\\nproperty hinders Individualism at every step.’  It is to be noted that\\nJesus never says that impoverished people are necessarily good, or\\nwealthy people necessarily bad.  That would not have been true.  Wealthy\\npeople are, as a class, better than impoverished people, more moral, more\\nintellectual, more well-behaved.  There is only one class in the\\ncommunity that thinks more about money than the rich, and that is the\\npoor.  The poor can think of nothing else.  That is the misery of being\\npoor.  What Jesus does say is that man reaches his perfection, not\\nthrough what he has, not even through what he does, but entirely through\\nwhat he is.  And so the wealthy young man who comes to Jesus is\\nrepresented as a thoroughly good citizen, who has broken none of the laws\\nof his state, none of the commandments of his religion.  He is quite\\nrespectable, in the ordinary sense of that extraordinary word.  Jesus\\nsays to him, ‘You should give up private property.  It hinders you from\\nrealising your perfection.  It is a drag upon you.  It is a burden.  Your\\npersonality does not need it.  It is within you, and not outside of you,\\nthat you will find what you really are, and what you really want.’  To\\nhis own friends he says the same thing.  He tells them to be themselves,\\nand not to be always worrying about other things.  What do other things\\nmatter?  Man is complete in himself.  When they go into the world, the\\nworld will disagree with them.  That is inevitable.  The world hates\\nIndividualism.  But that is not to trouble them.  They are to be calm and\\nself-centred.  If a man takes their cloak, they are to give him their\\ncoat, just to show that material things are of no importance.  If people\\nabuse them, they are not to answer back.  What does it signify?  The\\nthings people say of a man do not alter a man.  He is what he is.  Public\\nopinion is of no value whatsoever.  Even if people employ actual\\nviolence, they are not to be violent in turn.  That would be to fall to\\nthe same low level.  After all, even in prison, a man can be quite free.\\nHis soul can be free.  His personality can be untroubled.  He can be at\\npeace.  And, above all things, they are not to interfere with other\\npeople or judge them in any way.  Personality is a very mysterious thing.\\nA man cannot always be estimated by what he does.  He may keep the law,\\nand yet be worthless.  He may break the law, and yet be fine.  He may be\\nbad, without ever doing anything bad.  He may commit a sin against\\nsociety, and yet realise through that sin his true perfection.\\n\\nThere was a woman who was taken in adultery.  We are not told the history\\nof her love, but that love must have been very great; for Jesus said that\\nher sins were forgiven her, not because she repented, but because her\\nlove was so intense and wonderful.  Later on, a short time before his\\ndeath, as he sat at a feast, the woman came in and poured costly perfumes\\non his hair.  His friends tried to interfere with her, and said that it\\nwas an extravagance, and that the money that the perfume cost should have\\nbeen expended on charitable relief of people in want, or something of\\nthat kind.  Jesus did not accept that view.  He pointed out that the\\nmaterial needs of Man were great and very permanent, but that the\\nspiritual needs of Man were greater still, and that in one divine moment,\\nand by selecting its own mode of expression, a personality might make\\nitself perfect.  The world worships the woman, even now, as a saint.\\n\\nYes; there are suggestive things in Individualism.  Socialism annihilates\\nfamily life, for instance.  With the abolition of private property,\\nmarriage in its present form must disappear.  This is part of the\\nprogramme.  Individualism accepts this and makes it fine.  It converts\\nthe abolition of legal restraint into a form of freedom that will help\\nthe full development of personality, and make the love of man and woman\\nmore wonderful, more beautiful, and more ennobling.  Jesus knew this.  He\\nrejected the claims of family life, although they existed in his day and\\ncommunity in a very marked form.  ‘Who is my mother?  Who are my\\nbrothers?’ he said, when he was told that they wished to speak to him.\\nWhen one of his followers asked leave to go and bury his father, ‘Let the\\ndead bury the dead,’ was his terrible answer.  He would allow no claim\\nwhatsoever to be made on personality.\\n\\nAnd so he who would lead a Christlike life is he who is perfectly and\\nabsolutely himself.  He may be a great poet, or a great man of science;\\nor a young student at a University, or one who watches sheep upon a moor;\\nor a maker of dramas, like Shakespeare, or a thinker about God, like\\nSpinoza; or a child who plays in a garden, or a fisherman who throws his\\nnet into the sea.  It does not matter what he is, as long as he realises\\nthe perfection of the soul that is within him.  All imitation in morals\\nand in life is wrong.  Through the streets of Jerusalem at the present\\nday crawls one who is mad and carries a wooden cross on his shoulders.\\nHe is a symbol of the lives that are marred by imitation.  Father Damien\\nwas Christlike when he went out to live with the lepers, because in such\\nservice he realised fully what was best in him.  But he was not more\\nChristlike than Wagner when he realised his soul in music; or than\\nShelley, when he realised his soul in song.  There is no one type for\\nman.  There are as many perfections as there are imperfect men.  And\\nwhile to the claims of charity a man may yield and yet be free, to the\\nclaims of conformity no man may yield and remain free at all.\\n\\nIndividualism, then, is what through Socialism we are to attain to.  As a\\nnatural result the State must give up all idea of government.  It must\\ngive it up because, as a wise man once said many centuries before Christ,\\nthere is such a thing as leaving mankind alone; there is no such thing as\\ngoverning mankind.  All modes of government are failures.  Despotism is\\nunjust to everybody, including the despot, who was probably made for\\nbetter things.  Oligarchies are unjust to the many, and ochlocracies are\\nunjust to the few.  High hopes were once formed of democracy; but\\ndemocracy means simply the bludgeoning of the people by the people for\\nthe people.  It has been found out.  I must say that it was high time,\\nfor all authority is quite degrading.  It degrades those who exercise it,\\nand degrades those over whom it is exercised.  When it is violently,\\ngrossly, and cruelly used, it produces a good effect, by creating, or at\\nany rate bringing out, the spirit of revolt and Individualism that is to\\nkill it.  When it is used with a certain amount of kindness, and\\naccompanied by prizes and rewards, it is dreadfully demoralising.\\nPeople, in that case, are less conscious of the horrible pressure that is\\nbeing put on them, and so go through their lives in a sort of coarse\\ncomfort, like petted animals, without ever realising that they are\\nprobably thinking other people’s thoughts, living by other people’s\\nstandards, wearing practically what one may call other people’s\\nsecond-hand clothes, and never being themselves for a single moment.  ‘He\\nwho would be free,’ says a fine thinker, ‘must not conform.’  And\\nauthority, by bribing people to conform, produces a very gross kind of\\nover-fed barbarism amongst us.\\n\\nWith authority, punishment will pass away.  This will be a great gain—a\\ngain, in fact, of incalculable value.  As one reads history, not in the\\nexpurgated editions written for school-boys and passmen, but in the\\noriginal authorities of each time, one is absolutely sickened, not by the\\ncrimes that the wicked have committed, but by the punishments that the\\ngood have inflicted; and a community is infinitely more brutalised by the\\nhabitual employment of punishment, than it is by the occurrence of crime.\\nIt obviously follows that the more punishment is inflicted the more crime\\nis produced, and most modern legislation has clearly recognised this, and\\nhas made it its task to diminish punishment as far as it thinks it can.\\nWherever it has really diminished it, the results have always been\\nextremely good.  The less punishment, the less crime.  When there is no\\npunishment at all, crime will either cease to exist, or, if it occurs,\\nwill be treated by physicians as a very distressing form of dementia, to\\nbe cured by care and kindness.  For what are called criminals nowadays\\nare not criminals at all.  Starvation, and not sin, is the parent of\\nmodern crime.  That indeed is the reason why our criminals are, as a\\nclass, so absolutely uninteresting from any psychological point of view.\\nThey are not marvellous Macbeths and terrible Vautrins.  They are merely\\nwhat ordinary, respectable, commonplace people would be if they had not\\ngot enough to eat.  When private property is abolished there will be no\\nnecessity for crime, no demand for it; it will cease to exist.  Of\\ncourse, all crimes are not crimes against property, though such are the\\ncrimes that the English law, valuing what a man has more than what a man\\nis, punishes with the harshest and most horrible severity, if we except\\nthe crime of murder, and regard death as worse than penal servitude, a\\npoint on which our criminals, I believe, disagree.  But though a crime\\nmay not be against property, it may spring from the misery and rage and\\ndepression produced by our wrong system of property-holding, and so, when\\nthat system is abolished, will disappear.  When each member of the\\ncommunity has sufficient for his wants, and is not interfered with by his\\nneighbour, it will not be an object of any interest to him to interfere\\nwith anyone else.  Jealousy, which is an extraordinary source of crime in\\nmodern life, is an emotion closely bound up with our conceptions of\\nproperty, and under Socialism and Individualism will die out.  It is\\nremarkable that in communistic tribes jealousy is entirely unknown.\\n\\nNow as the State is not to govern, it may be asked what the State is to\\ndo.  The State is to be a voluntary association that will organise\\nlabour, and be the manufacturer and distributor of necessary commodities.\\nThe State is to make what is useful.  The individual is to make what is\\nbeautiful.  And as I have mentioned the word labour, I cannot help saying\\nthat a great deal of nonsense is being written and talked nowadays about\\nthe dignity of manual labour.  There is nothing necessarily dignified\\nabout manual labour at all, and most of it is absolutely degrading.  It\\nis mentally and morally injurious to man to do anything in which he does\\nnot find pleasure, and many forms of labour are quite pleasureless\\nactivities, and should be regarded as such.  To sweep a slushy crossing\\nfor eight hours, on a day when the east wind is blowing is a disgusting\\noccupation.  To sweep it with mental, moral, or physical dignity seems to\\nme to be impossible.  To sweep it with joy would be appalling.  Man is\\nmade for something better than disturbing dirt.  All work of that kind\\nshould be done by a machine.\\n\\nAnd I have no doubt that it will be so.  Up to the present, man has been,\\nto a certain extent, the slave of machinery, and there is something\\ntragic in the fact that as soon as man had invented a machine to do his\\nwork he began to starve.  This, however, is, of course, the result of our\\nproperty system and our system of competition.  One man owns a machine\\nwhich does the work of five hundred men.  Five hundred men are, in\\nconsequence, thrown out of employment, and, having no work to do, become\\nhungry and take to thieving.  The one man secures the produce of the\\nmachine and keeps it, and has five hundred times as much as he should\\nhave, and probably, which is of much more importance, a great deal more\\nthan he really wants.  Were that machine the property of all, every one\\nwould benefit by it.  It would be an immense advantage to the community.\\nAll unintellectual labour, all monotonous, dull labour, all labour that\\ndeals with dreadful things, and involves unpleasant conditions, must be\\ndone by machinery.  Machinery must work for us in coal mines, and do all\\nsanitary services, and be the stoker of steamers, and clean the streets,\\nand run messages on wet days, and do anything that is tedious or\\ndistressing.  At present machinery competes against man.  Under proper\\nconditions machinery will serve man.  There is no doubt at all that this\\nis the future of machinery, and just as trees grow while the country\\ngentleman is asleep, so while Humanity will be amusing itself, or\\nenjoying cultivated leisure—which, and not labour, is the aim of man—or\\nmaking beautiful things, or reading beautiful things, or simply\\ncontemplating the world with admiration and delight, machinery will be\\ndoing all the necessary and unpleasant work.  The fact is, that\\ncivilisation requires slaves.  The Greeks were quite right there.  Unless\\nthere are slaves to do the ugly, horrible, uninteresting work, culture\\nand contemplation become almost impossible.  Human slavery is wrong,\\ninsecure, and demoralising.  On mechanical slavery, on the slavery of the\\nmachine, the future of the world depends.  And when scientific men are no\\nlonger called upon to go down to a depressing East End and distribute bad\\ncocoa and worse blankets to starving people, they will have delightful\\nleisure in which to devise wonderful and marvellous things for their own\\njoy and the joy of everyone else.  There will be great storages of force\\nfor every city, and for every house if required, and this force man will\\nconvert into heat, light, or motion, according to his needs.  Is this\\nUtopian?  A map of the world that does not include Utopia is not worth\\neven glancing at, for it leaves out the one country at which Humanity is\\nalways landing.  And when Humanity lands there, it looks out, and, seeing\\na better country, sets sail.  Progress is the realisation of Utopias.\\n\\nNow, I have said that the community by means of organisation of machinery\\nwill supply the useful things, and that the beautiful things will be made\\nby the individual.  This is not merely necessary, but it is the only\\npossible way by which we can get either the one or the other.  An\\nindividual who has to make things for the use of others, and with\\nreference to their wants and their wishes, does not work with interest,\\nand consequently cannot put into his work what is best in him.  Upon the\\nother hand, whenever a community or a powerful section of a community, or\\na government of any kind, attempts to dictate to the artist what he is to\\ndo, Art either entirely vanishes, or becomes stereotyped, or degenerates\\ninto a low and ignoble form of craft.  A work of art is the unique result\\nof a unique temperament.  Its beauty comes from the fact that the author\\nis what he is.  It has nothing to do with the fact that other people want\\nwhat they want.  Indeed, the moment that an artist takes notice of what\\nother people want, and tries to supply the demand, he ceases to be an\\nartist, and becomes a dull or an amusing craftsman, an honest or a\\ndishonest tradesman.  He has no further claim to be considered as an\\nartist.  Art is the most intense mode of Individualism that the world has\\nknown.  I am inclined to say that it is the only real mode of\\nIndividualism that the world has known.  Crime, which, under certain\\nconditions, may seem to have created Individualism, must take cognisance\\nof other people and interfere with them.  It belongs to the sphere of\\naction.  But alone, without any reference to his neighbours, without any\\ninterference, the artist can fashion a beautiful thing; and if he does\\nnot do it solely for his own pleasure, he is not an artist at all.\\n\\nAnd it is to be noted that it is the fact that Art is this intense form\\nof Individualism that makes the public try to exercise over it in an\\nauthority that is as immoral as it is ridiculous, and as corrupting as it\\nis contemptible.  It is not quite their fault.  The public has always,\\nand in every age, been badly brought up.  They are continually asking Art\\nto be popular, to please their want of taste, to flatter their absurd\\nvanity, to tell them what they have been told before, to show them what\\nthey ought to be tired of seeing, to amuse them when they feel heavy\\nafter eating too much, and to distract their thoughts when they are\\nwearied of their own stupidity.  Now Art should never try to be popular.\\nThe public should try to make itself artistic.  There is a very wide\\ndifference.  If a man of science were told that the results of his\\nexperiments, and the conclusions that he arrived at, should be of such a\\ncharacter that they would not upset the received popular notions on the\\nsubject, or disturb popular prejudice, or hurt the sensibilities of\\npeople who knew nothing about science; if a philosopher were told that he\\nhad a perfect right to speculate in the highest spheres of thought,\\nprovided that he arrived at the same conclusions as were held by those\\nwho had never thought in any sphere at all—well, nowadays the man of\\nscience and the philosopher would be considerably amused.  Yet it is\\nreally a very few years since both philosophy and science were subjected\\nto brutal popular control, to authority in fact—the authority of either\\nthe general ignorance of the community, or the terror and greed for power\\nof an ecclesiastical or governmental class.  Of course, we have to a very\\ngreat extent got rid of any attempt on the part of the community, or the\\nChurch, or the Government, to interfere with the individualism of\\nspeculative thought, but the attempt to interfere with the individualism\\nof imaginative art still lingers.  In fact, it does more than linger; it\\nis aggressive, offensive, and brutalising.\\n\\nIn England, the arts that have escaped best are the arts in which the\\npublic take no interest.  Poetry is an instance of what I mean.  We have\\nbeen able to have fine poetry in England because the public do not read\\nit, and consequently do not influence it.  The public like to insult\\npoets because they are individual, but once they have insulted them, they\\nleave them alone.  In the case of the novel and the drama, arts in which\\nthe public do take an interest, the result of the exercise of popular\\nauthority has been absolutely ridiculous.  No country produces such\\nbadly-written fiction, such tedious, common work in the novel form, such\\nsilly, vulgar plays as England.  It must necessarily be so.  The popular\\nstandard is of such a character that no artist can get to it.  It is at\\nonce too easy and too difficult to be a popular novelist.  It is too\\neasy, because the requirements of the public as far as plot, style,\\npsychology, treatment of life, and treatment of literature are concerned\\nare within the reach of the very meanest capacity and the most\\nuncultivated mind.  It is too difficult, because to meet such\\nrequirements the artist would have to do violence to his temperament,\\nwould have to write not for the artistic joy of writing, but for the\\namusement of half-educated people, and so would have to suppress his\\nindividualism, forget his culture, annihilate his style, and surrender\\neverything that is valuable in him.  In the case of the drama, things are\\na little better: the theatre-going public like the obvious, it is true,\\nbut they do not like the tedious; and burlesque and farcical comedy, the\\ntwo most popular forms, are distinct forms of art.  Delightful work may\\nbe produced under burlesque and farcical conditions, and in work of this\\nkind the artist in England is allowed very great freedom.  It is when one\\ncomes to the higher forms of the drama that the result of popular control\\nis seen.  The one thing that the public dislike is novelty.  Any attempt\\nto extend the subject-matter of art is extremely distasteful to the\\npublic; and yet the vitality and progress of art depend in a large\\nmeasure on the continual extension of subject-matter.  The public dislike\\nnovelty because they are afraid of it.  It represents to them a mode of\\nIndividualism, an assertion on the part of the artist that he selects his\\nown subject, and treats it as he chooses.  The public are quite right in\\ntheir attitude.  Art is Individualism, and Individualism is a disturbing\\nand disintegrating force.  Therein lies its immense value.  For what it\\nseeks to disturb is monotony of type, slavery of custom, tyranny of\\nhabit, and the reduction of man to the level of a machine.  In Art, the\\npublic accept what has been, because they cannot alter it, not because\\nthey appreciate it.  They swallow their classics whole, and never taste\\nthem.  They endure them as the inevitable, and as they cannot mar them,\\nthey mouth about them.  Strangely enough, or not strangely, according to\\none’s own views, this acceptance of the classics does a great deal of\\nharm.  The uncritical admiration of the Bible and Shakespeare in England\\nis an instance of what I mean.  With regard to the Bible, considerations\\nof ecclesiastical authority enter into the matter, so that I need not\\ndwell upon the point.\\n\\nBut in the case of Shakespeare it is quite obvious that the public really\\nsee neither the beauties nor the defects of his plays.  If they saw the\\nbeauties, they would not object to the development of the drama; and if\\nthey saw the defects, they would not object to the development of the\\ndrama either.  The fact is, the public make use of the classics of a\\ncountry as a means of checking the progress of Art.  They degrade the\\nclassics into authorities.  They use them as bludgeons for preventing the\\nfree expression of Beauty in new forms.  They are always asking a writer\\nwhy he does not write like somebody else, or a painter why he does not\\npaint like somebody else, quite oblivious of the fact that if either of\\nthem did anything of the kind he would cease to be an artist.  A fresh\\nmode of Beauty is absolutely distasteful to them, and whenever it appears\\nthey get so angry, and bewildered that they always use two stupid\\nexpressions—one is that the work of art is grossly unintelligible; the\\nother, that the work of art is grossly immoral.  What they mean by these\\nwords seems to me to be this.  When they say a work is grossly\\nunintelligible, they mean that the artist has said or made a beautiful\\nthing that is new; when they describe a work as grossly immoral, they\\nmean that the artist has said or made a beautiful thing that is true.\\nThe former expression has reference to style; the latter to\\nsubject-matter.  But they probably use the words very vaguely, as an\\nordinary mob will use ready-made paving-stones.  There is not a single\\nreal poet or prose-writer of this century, for instance, on whom the\\nBritish public have not solemnly conferred diplomas of immorality, and\\nthese diplomas practically take the place, with us, of what in France, is\\nthe formal recognition of an Academy of Letters, and fortunately make the\\nestablishment of such an institution quite unnecessary in England.  Of\\ncourse, the public are very reckless in their use of the word.  That they\\nshould have called Wordsworth an immoral poet, was only to be expected.\\nWordsworth was a poet.  But that they should have called Charles Kingsley\\nan immoral novelist is extraordinary.  Kingsley’s prose was not of a very\\nfine quality.  Still, there is the word, and they use it as best they\\ncan.  An artist is, of course, not disturbed by it.  The true artist is a\\nman who believes absolutely in himself, because he is absolutely himself.\\nBut I can fancy that if an artist produced a work of art in England that\\nimmediately on its appearance was recognised by the public, through their\\nmedium, which is the public press, as a work that was quite intelligible\\nand highly moral, he would begin to seriously question whether in its\\ncreation he had really been himself at all, and consequently whether the\\nwork was not quite unworthy of him, and either of a thoroughly\\nsecond-rate order, or of no artistic value whatsoever.\\n\\nPerhaps, however, I have wronged the public in limiting them to such\\nwords as ‘immoral,’ ‘unintelligible,’ ‘exotic,’ and ‘unhealthy.’  There\\nis one other word that they use.  That word is ‘morbid.’  They do not use\\nit often.  The meaning of the word is so simple that they are afraid of\\nusing it.  Still, they use it sometimes, and, now and then, one comes\\nacross it in popular newspapers.  It is, of course, a ridiculous word to\\napply to a work of art.  For what is morbidity but a mood of emotion or a\\nmode of thought that one cannot express?  The public are all morbid,\\nbecause the public can never find expression for anything.  The artist is\\nnever morbid.  He expresses everything.  He stands outside his subject,\\nand through its medium produces incomparable and artistic effects.  To\\ncall an artist morbid because he deals with morbidity as his\\nsubject-matter is as silly as if one called Shakespeare mad because he\\nwrote ‘King Lear.’\\n\\nOn the whole, an artist in England gains something by being attacked.\\nHis individuality is intensified.  He becomes more completely himself.\\nOf course, the attacks are very gross, very impertinent, and very\\ncontemptible.  But then no artist expects grace from the vulgar mind, or\\nstyle from the suburban intellect.  Vulgarity and stupidity are two very\\nvivid facts in modern life.  One regrets them, naturally.  But there they\\nare.  They are subjects for study, like everything else.  And it is only\\nfair to state, with regard to modern journalists, that they always\\napologise to one in private for what they have written against one in\\npublic.\\n\\nWithin the last few years two other adjectives, it may be mentioned, have\\nbeen added to the very limited vocabulary of art-abuse that is at the\\ndisposal of the public.  One is the word ‘unhealthy,’ the other is the\\nword ‘exotic.’  The latter merely expresses the rage of the momentary\\nmushroom against the immortal, entrancing, and exquisitely lovely orchid.\\nIt is a tribute, but a tribute of no importance.  The word ‘unhealthy,’\\nhowever, admits of analysis.  It is a rather interesting word.  In fact,\\nit is so interesting that the people who use it do not know what it\\nmeans.\\n\\nWhat does it mean?  What is a healthy, or an unhealthy work of art?  All\\nterms that one applies to a work of art, provided that one applies them\\nrationally, have reference to either its style or its subject, or to both\\ntogether.  From the point of view of style, a healthy work of art is one\\nwhose style recognises the beauty of the material it employs, be that\\nmaterial one of words or of bronze, of colour or of ivory, and uses that\\nbeauty as a factor in producing the æsthetic effect.  From the point of\\nview of subject, a healthy work of art is one the choice of whose subject\\nis conditioned by the temperament of the artist, and comes directly out\\nof it.  In fine, a healthy work of art is one that has both perfection\\nand personality.  Of course, form and substance cannot be separated in a\\nwork of art; they are always one.  But for purposes of analysis, and\\nsetting the wholeness of æsthetic impression aside for a moment, we can\\nintellectually so separate them.  An unhealthy work of art, on the other\\nhand, is a work whose style is obvious, old-fashioned, and common, and\\nwhose subject is deliberately chosen, not because the artist has any\\npleasure in it, but because he thinks that the public will pay him for\\nit.  In fact, the popular novel that the public calls healthy is always a\\nthoroughly unhealthy production; and what the public call an unhealthy\\nnovel is always a beautiful and healthy work of art.\\n\\nI need hardly say that I am not, for a single moment, complaining that\\nthe public and the public press misuse these words.  I do not see how,\\nwith their lack of comprehension of what Art is, they could possibly use\\nthem in the proper sense.  I am merely pointing out the misuse; and as\\nfor the origin of the misuse and the meaning that lies behind it all, the\\nexplanation is very simple.  It comes from the barbarous conception of\\nauthority.  It comes from the natural inability of a community corrupted\\nby authority to understand or appreciate Individualism.  In a word, it\\ncomes from that monstrous and ignorant thing that is called Public\\nOpinion, which, bad and well-meaning as it is when it tries to control\\naction, is infamous and of evil meaning when it tries to control Thought\\nor Art.\\n\\nIndeed, there is much more to be said in favour of the physical force of\\nthe public than there is in favour of the public’s opinion.  The former\\nmay be fine.  The latter must be foolish.  It is often said that force is\\nno argument.  That, however, entirely depends on what one wants to prove.\\nMany of the most important problems of the last few centuries, such as\\nthe continuance of personal government in England, or of feudalism in\\nFrance, have been solved entirely by means of physical force.  The very\\nviolence of a revolution may make the public grand and splendid for a\\nmoment.  It was a fatal day when the public discovered that the pen is\\nmightier than the paving-stone, and can be made as offensive as the\\nbrickbat.  They at once sought for the journalist, found him, developed\\nhim, and made him their industrious and well-paid servant.  It is greatly\\nto be regretted, for both their sakes.  Behind the barricade there may be\\nmuch that is noble and heroic.  But what is there behind the\\nleading-article but prejudice, stupidity, cant, and twaddle?  And when\\nthese four are joined together they make a terrible force, and constitute\\nthe new authority.\\n\\nIn old days men had the rack.  Now they have the press.  That is an\\nimprovement certainly.  But still it is very bad, and wrong, and\\ndemoralising.  Somebody—was it Burke?—called journalism the fourth\\nestate.  That was true at the time, no doubt.  But at the present moment\\nit really is the only estate.  It has eaten up the other three.  The\\nLords Temporal say nothing, the Lords Spiritual have nothing to say, and\\nthe House of Commons has nothing to say and says it.  We are dominated by\\nJournalism.  In America the President reigns for four years, and\\nJournalism governs for ever and ever.  Fortunately in America Journalism\\nhas carried its authority to the grossest and most brutal extreme.  As a\\nnatural consequence it has begun to create a spirit of revolt.  People\\nare amused by it, or disgusted by it, according to their temperaments.\\nBut it is no longer the real force it was.  It is not seriously treated.\\nIn England, Journalism, not, except in a few well-known instances, having\\nbeen carried to such excesses of brutality, is still a great factor, a\\nreally remarkable power.  The tyranny that it proposes to exercise over\\npeople’s private lives seems to me to be quite extraordinary.  The fact\\nis, that the public have an insatiable curiosity to know everything,\\nexcept what is worth knowing.  Journalism, conscious of this, and having\\ntradesman-like habits, supplies their demands.  In centuries before ours\\nthe public nailed the ears of journalists to the pump.  That was quite\\nhideous.  In this century journalists have nailed their own ears to the\\nkeyhole.  That is much worse.  And what aggravates the mischief is that\\nthe journalists who are most to blame are not the amusing journalists who\\nwrite for what are called Society papers.  The harm is done by the\\nserious, thoughtful, earnest journalists, who solemnly, as they are doing\\nat present, will drag before the eyes of the public some incident in the\\nprivate life of a great statesman, of a man who is a leader of political\\nthought as he is a creator of political force, and invite the public to\\ndiscuss the incident, to exercise authority in the matter, to give their\\nviews, and not merely to give their views, but to carry them into action,\\nto dictate to the man upon all other points, to dictate to his party, to\\ndictate to his country; in fact, to make themselves ridiculous,\\noffensive, and harmful.  The private lives of men and women should not be\\ntold to the public.  The public have nothing to do with them at all.  In\\nFrance they manage these things better.  There they do not allow the\\ndetails of the trials that take place in the divorce courts to be\\npublished for the amusement or criticism of the public.  All that the\\npublic are allowed to know is that the divorce has taken place and was\\ngranted on petition of one or other or both of the married parties\\nconcerned.  In France, in fact, they limit the journalist, and allow the\\nartist almost perfect freedom.  Here we allow absolute freedom to the\\njournalist, and entirely limit the artist.  English public opinion, that\\nis to say, tries to constrain and impede and warp the man who makes\\nthings that are beautiful in effect, and compels the journalist to retail\\nthings that are ugly, or disgusting, or revolting in fact, so that we\\nhave the most serious journalists in the world, and the most indecent\\nnewspapers.  It is no exaggeration to talk of compulsion.  There are\\npossibly some journalists who take a real pleasure in publishing horrible\\nthings, or who, being poor, look to scandals as forming a sort of\\npermanent basis for an income.  But there are other journalists, I feel\\ncertain, men of education and cultivation, who really dislike publishing\\nthese things, who know that it is wrong to do so, and only do it because\\nthe unhealthy conditions under which their occupation is carried on\\noblige them to supply the public with what the public wants, and to\\ncompete with other journalists in making that supply as full and\\nsatisfying to the gross popular appetite as possible.  It is a very\\ndegrading position for any body of educated men to be placed in, and I\\nhave no doubt that most of them feel it acutely.\\n\\nHowever, let us leave what is really a very sordid side of the subject,\\nand return to the question of popular control in the matter of Art, by\\nwhich I mean Public Opinion dictating to the artist the form which he is\\nto use, the mode in which he is to use it, and the materials with which\\nhe is to work.  I have pointed out that the arts which have escaped best\\nin England are the arts in which the public have not been interested.\\nThey are, however, interested in the drama, and as a certain advance has\\nbeen made in the drama within the last ten or fifteen years, it is\\nimportant to point out that this advance is entirely due to a few\\nindividual artists refusing to accept the popular want of taste as their\\nstandard, and refusing to regard Art as a mere matter of demand and\\nsupply.  With his marvellous and vivid personality, with a style that has\\nreally a true colour-element in it, with his extraordinary power, not\\nover mere mimicry but over imaginative and intellectual creation, Mr\\nIrving, had his sole object been to give the public what they wanted,\\ncould have produced the commonest plays in the commonest manner, and made\\nas much success and money as a man could possibly desire.  But his object\\nwas not that.  His object was to realise his own perfection as an artist,\\nunder certain conditions, and in certain forms of Art.  At first he\\nappealed to the few: now he has educated the many.  He has created in the\\npublic both taste and temperament.  The public appreciate his artistic\\nsuccess immensely.  I often wonder, however, whether the public\\nunderstand that that success is entirely due to the fact that he did not\\naccept their standard, but realised his own.  With their standard the\\nLyceum would have been a sort of second-rate booth, as some of the\\npopular theatres in London are at present.  Whether they understand it or\\nnot the fact however remains, that taste and temperament have, to a\\ncertain extent been created in the public, and that the public is capable\\nof developing these qualities.  The problem then is, why do not the\\npublic become more civilised?  They have the capacity.  What stops them?\\n\\nThe thing that stops them, it must be said again, is their desire to\\nexercise authority over the artist and over works of art.  To certain\\ntheatres, such as the Lyceum and the Haymarket, the public seem to come\\nin a proper mood.  In both of these theatres there have been individual\\nartists, who have succeeded in creating in their audiences—and every\\ntheatre in London has its own audience—the temperament to which Art\\nappeals.  And what is that temperament?  It is the temperament of\\nreceptivity.  That is all.\\n\\nIf a man approaches a work of art with any desire to exercise authority\\nover it and the artist, he approaches it in such a spirit that he cannot\\nreceive any artistic impression from it at all.  The work of art is to\\ndominate the spectator: the spectator is not to dominate the work of art.\\nThe spectator is to be receptive.  He is to be the violin on which the\\nmaster is to play.  And the more completely he can suppress his own silly\\nviews, his own foolish prejudices, his own absurd ideas of what Art\\nshould be, or should not be, the more likely he is to understand and\\nappreciate the work of art in question.  This is, of course, quite\\nobvious in the case of the vulgar theatre-going public of English men and\\nwomen.  But it is equally true of what are called educated people.  For\\nan educated person’s ideas of Art are drawn naturally from what Art has\\nbeen, whereas the new work of art is beautiful by being what Art has\\nnever been; and to measure it by the standard of the past is to measure\\nit by a standard on the rejection of which its real perfection depends.\\nA temperament capable of receiving, through an imaginative medium, and\\nunder imaginative conditions, new and beautiful impressions, is the only\\ntemperament that can appreciate a work of art.  And true as this is in\\nthe case of the appreciation of sculpture and painting, it is still more\\ntrue of the appreciation of such arts as the drama.  For a picture and a\\nstatue are not at war with Time.  They take no count of its succession.\\nIn one moment their unity may be apprehended.  In the case of literature\\nit is different.  Time must be traversed before the unity of effect is\\nrealised.  And so, in the drama, there may occur in the first act of the\\nplay something whose real artistic value may not be evident to the\\nspectator till the third or fourth act is reached.  Is the silly fellow\\nto get angry and call out, and disturb the play, and annoy the artists?\\nNo.  The honest man is to sit quietly, and know the delightful emotions\\nof wonder, curiosity, and suspense.  He is not to go to the play to lose\\na vulgar temper.  He is to go to the play to realise an artistic\\ntemperament.  He is to go to the play to gain an artistic temperament.\\nHe is not the arbiter of the work of art.  He is one who is admitted to\\ncontemplate the work of art, and, if the work be fine, to forget in its\\ncontemplation and the egotism that mars him—the egotism of his ignorance,\\nor the egotism of his information.  This point about the drama is hardly,\\nI think, sufficiently recognised.  I can quite understand that were\\n‘Macbeth’ produced for the first time before a modern London audience,\\nmany of the people present would strongly and vigorously object to the\\nintroduction of the witches in the first act, with their grotesque\\nphrases and their ridiculous words.  But when the play is over one\\nrealises that the laughter of the witches in ‘Macbeth’ is as terrible as\\nthe laughter of madness in ‘Lear,’ more terrible than the laughter of\\nIago in the tragedy of the Moor.  No spectator of art needs a more\\nperfect mood of receptivity than the spectator of a play.  The moment he\\nseeks to exercise authority he becomes the avowed enemy of Art and of\\nhimself.  Art does not mind.  It is he who suffers.\\n\\nWith the novel it is the same thing.  Popular authority and the\\nrecognition of popular authority are fatal.  Thackeray’s ‘Esmond’ is a\\nbeautiful work of art because he wrote it to please himself.  In his\\nother novels, in ‘Pendennis,’ in ‘Philip,’ in ‘Vanity Fair’ even, at\\ntimes, he is too conscious of the public, and spoils his work by\\nappealing directly to the sympathies of the public, or by directly\\nmocking at them.  A true artist takes no notice whatever of the public.\\nThe public are to him non-existent.  He has no poppied or honeyed cakes\\nthrough which to give the monster sleep or sustenance.  He leaves that to\\nthe popular novelist.  One incomparable novelist we have now in England,\\nMr George Meredith.  There are better artists in France, but France has\\nno one whose view of life is so large, so varied, so imaginatively true.\\nThere are tellers of stories in Russia who have a more vivid sense of\\nwhat pain in fiction may be.  But to him belongs philosophy in fiction.\\nHis people not merely live, but they live in thought.  One can see them\\nfrom myriad points of view.  They are suggestive.  There is soul in them\\nand around them.  They are interpretative and symbolic.  And he who made\\nthem, those wonderful quickly-moving figures, made them for his own\\npleasure, and has never asked the public what they wanted, has never\\ncared to know what they wanted, has never allowed the public to dictate\\nto him or influence him in any way but has gone on intensifying his own\\npersonality, and producing his own individual work.  At first none came\\nto him.  That did not matter.  Then the few came to him.  That did not\\nchange him.  The many have come now.  He is still the same.  He is an\\nincomparable novelist.\\n\\nWith the decorative arts it is not different.  The public clung with\\nreally pathetic tenacity to what I believe were the direct traditions of\\nthe Great Exhibition of international vulgarity, traditions that were so\\nappalling that the houses in which people lived were only fit for blind\\npeople to live in.  Beautiful things began to be made, beautiful colours\\ncame from the dyer’s hand, beautiful patterns from the artist’s brain,\\nand the use of beautiful things and their value and importance were set\\nforth.  The public were really very indignant.  They lost their temper.\\nThey said silly things.  No one minded.  No one was a whit the worse.  No\\none accepted the authority of public opinion.  And now it is almost\\nimpossible to enter any modern house without seeing some recognition of\\ngood taste, some recognition of the value of lovely surroundings, some\\nsign of appreciation of beauty.  In fact, people’s houses are, as a rule,\\nquite charming nowadays.  People have been to a very great extent\\ncivilised.  It is only fair to state, however, that the extraordinary\\nsuccess of the revolution in house-decoration and furniture and the like\\nhas not really been due to the majority of the public developing a very\\nfine taste in such matters.  It has been chiefly due to the fact that the\\ncraftsmen of things so appreciated the pleasure of making what was\\nbeautiful, and woke to such a vivid consciousness of the hideousness and\\nvulgarity of what the public had previously wanted, that they simply\\nstarved the public out.  It would be quite impossible at the present\\nmoment to furnish a room as rooms were furnished a few years ago, without\\ngoing for everything to an auction of second-hand furniture from some\\nthird-rate lodging-house.  The things are no longer made.  However they\\nmay object to it, people must nowadays have something charming in their\\nsurroundings.  Fortunately for them, their assumption of authority in\\nthese art-matters came to entire grief.\\n\\nIt is evident, then, that all authority in such things is bad.  People\\nsometimes inquire what form of government is most suitable for an artist\\nto live under.  To this question there is only one answer.  The form of\\ngovernment that is most suitable to the artist is no government at all.\\nAuthority over him and his art is ridiculous.  It has been stated that\\nunder despotisms artists have produced lovely work.  This is not quite\\nso.  Artists have visited despots, not as subjects to be tyrannised over,\\nbut as wandering wonder-makers, as fascinating vagrant personalities, to\\nbe entertained and charmed and suffered to be at peace, and allowed to\\ncreate.  There is this to be said in favour of the despot, that he, being\\nan individual, may have culture, while the mob, being a monster, has\\nnone.  One who is an Emperor and King may stoop down to pick up a brush\\nfor a painter, but when the democracy stoops down it is merely to throw\\nmud.  And yet the democracy have not so far to stoop as the emperor.  In\\nfact, when they want to throw mud they have not to stoop at all.  But\\nthere is no necessity to separate the monarch from the mob; all authority\\nis equally bad.\\n\\nThere are three kinds of despots.  There is the despot who tyrannises\\nover the body.  There is the despot who tyrannises over the soul.  There\\nis the despot who tyrannises over the soul and body alike.  The first is\\ncalled the Prince.  The second is called the Pope.  The third is called\\nthe People.  The Prince may be cultivated.  Many Princes have been.  Yet\\nin the Prince there is danger.  One thinks of Dante at the bitter feast\\nin Verona, of Tasso in Ferrara’s madman’s cell.  It is better for the\\nartist not to live with Princes.  The Pope may be cultivated.  Many Popes\\nhave been; the bad Popes have been.  The bad Popes loved Beauty, almost\\nas passionately, nay, with as much passion as the good Popes hated\\nThought.  To the wickedness of the Papacy humanity owes much.  The\\ngoodness of the Papacy owes a terrible debt to humanity.  Yet, though the\\nVatican has kept the rhetoric of its thunders, and lost the rod of its\\nlightning, it is better for the artist not to live with Popes.  It was a\\nPope who said of Cellini to a conclave of Cardinals that common laws and\\ncommon authority were not made for men such as he; but it was a Pope who\\nthrust Cellini into prison, and kept him there till he sickened with\\nrage, and created unreal visions for himself, and saw the gilded sun\\nenter his room, and grew so enamoured of it that he sought to escape, and\\ncrept out from tower to tower, and falling through dizzy air at dawn,\\nmaimed himself, and was by a vine-dresser covered with vine leaves, and\\ncarried in a cart to one who, loving beautiful things, had care of him.\\nThere is danger in Popes.  And as for the People, what of them and their\\nauthority?  Perhaps of them and their authority one has spoken enough.\\nTheir authority is a thing blind, deaf, hideous, grotesque, tragic,\\namusing, serious, and obscene.  It is impossible for the artist to live\\nwith the People.  All despots bribe.  The people bribe and brutalise.\\nWho told them to exercise authority?  They were made to live, to listen,\\nand to love.  Someone has done them a great wrong.  They have marred\\nthemselves by imitation of their inferiors.  They have taken the sceptre\\nof the Prince.  How should they use it?  They have taken the triple tiara\\nof the Pope.  How should they carry its burden?  They are as a clown\\nwhose heart is broken.  They are as a priest whose soul is not yet born.\\nLet all who love Beauty pity them.  Though they themselves love not\\nBeauty, yet let them pity themselves.  Who taught them the trick of\\ntyranny?\\n\\nThere are many other things that one might point out.  One might point\\nout how the Renaissance was great, because it sought to solve no social\\nproblem, and busied itself not about such things, but suffered the\\nindividual to develop freely, beautifully, and naturally, and so had\\ngreat and individual artists, and great and individual men.  One might\\npoint out how Louis XIV., by creating the modern state, destroyed the\\nindividualism of the artist, and made things monstrous in their monotony\\nof repetition, and contemptible in their conformity to rule, and\\ndestroyed throughout all France all those fine freedoms of expression\\nthat had made tradition new in beauty, and new modes one with antique\\nform.  But the past is of no importance.  The present is of no\\nimportance.  It is with the future that we have to deal.  For the past is\\nwhat man should not have been.  The present is what man ought not to be.\\nThe future is what artists are.\\n\\nIt will, of course, be said that such a scheme as is set forth here is\\nquite unpractical, and goes against human nature.  This is perfectly\\ntrue.  It is unpractical, and it goes against human nature.  This is why\\nit is worth carrying out, and that is why one proposes it.  For what is a\\npractical scheme?  A practical scheme is either a scheme that is already\\nin existence, or a scheme that could be carried out under existing\\nconditions.  But it is exactly the existing conditions that one objects\\nto; and any scheme that could accept these conditions is wrong and\\nfoolish.  The conditions will be done away with, and human nature will\\nchange.  The only thing that one really knows about human nature is that\\nit changes.  Change is the one quality we can predicate of it.  The\\nsystems that fail are those that rely on the permanency of human nature,\\nand not on its growth and development.  The error of Louis XIV. was that\\nhe thought human nature would always be the same.  The result of his\\nerror was the French Revolution.  It was an admirable result.  All the\\nresults of the mistakes of governments are quite admirable.\\n\\nIt is to be noted also that Individualism does not come to man with any\\nsickly cant about duty, which merely means doing what other people want\\nbecause they want it; or any hideous cant about self-sacrifice, which is\\nmerely a survival of savage mutilation.  In fact, it does not come to man\\nwith any claims upon him at all.  It comes naturally and inevitably out\\nof man.  It is the point to which all development tends.  It is the\\ndifferentiation to which all organisms grow.  It is the perfection that\\nis inherent in every mode of life, and towards which every mode of life\\nquickens.  And so Individualism exercises no compulsion over man.  On the\\ncontrary, it says to man that he should suffer no compulsion to be\\nexercised over him.  It does not try to force people to be good.  It\\nknows that people are good when they are let alone.  Man will develop\\nIndividualism out of himself.  Man is now so developing Individualism.\\nTo ask whether Individualism is practical is like asking whether\\nEvolution is practical.  Evolution is the law of life, and there is no\\nevolution except towards Individualism.  Where this tendency is not\\nexpressed, it is a case of artificially-arrested growth, or of disease,\\nor of death.\\n\\nIndividualism will also be unselfish and unaffected.  It has been pointed\\nout that one of the results of the extraordinary tyranny of authority is\\nthat words are absolutely distorted from their proper and simple meaning,\\nand are used to express the obverse of their right signification.  What\\nis true about Art is true about Life.  A man is called affected,\\nnowadays, if he dresses as he likes to dress.  But in doing that he is\\nacting in a perfectly natural manner.  Affectation, in such matters,\\nconsists in dressing according to the views of one’s neighbour, whose\\nviews, as they are the views of the majority, will probably be extremely\\nstupid.  Or a man is called selfish if he lives in the manner that seems\\nto him most suitable for the full realisation of his own personality; if,\\nin fact, the primary aim of his life is self-development.  But this is\\nthe way in which everyone should live.  Selfishness is not living as one\\nwishes to live, it is asking others to live as one wishes to live.  And\\nunselfishness is letting other people’s lives alone, not interfering with\\nthem.  Selfishness always aims at creating around it an absolute\\nuniformity of type.  Unselfishness recognises infinite variety of type as\\na delightful thing, accepts it, acquiesces in it, enjoys it.  It is not\\nselfish to think for oneself.  A man who does not think for himself does\\nnot think at all.  It is grossly selfish to require of ones neighbour\\nthat he should think in the same way, and hold the same opinions.  Why\\nshould he?  If he can think, he will probably think differently.  If he\\ncannot think, it is monstrous to require thought of any kind from him.  A\\nred rose is not selfish because it wants to be a red rose.  It would be\\nhorribly selfish if it wanted all the other flowers in the garden to be\\nboth red and roses.  Under Individualism people will be quite natural and\\nabsolutely unselfish, and will know the meanings of the words, and\\nrealise them in their free, beautiful lives.  Nor will men be egotistic\\nas they are now.  For the egotist is he who makes claims upon others, and\\nthe Individualist will not desire to do that.  It will not give him\\npleasure.  When man has realised Individualism, he will also realise\\nsympathy and exercise it freely and spontaneously.  Up to the present man\\nhas hardly cultivated sympathy at all.  He has merely sympathy with pain,\\nand sympathy with pain is not the highest form of sympathy.  All sympathy\\nis fine, but sympathy with suffering is the least fine mode.  It is\\ntainted with egotism.  It is apt to become morbid.  There is in it a\\ncertain element of terror for our own safety.  We become afraid that we\\nourselves might be as the leper or as the blind, and that no man would\\nhave care of us.  It is curiously limiting, too.  One should sympathise\\nwith the entirety of life, not with life’s sores and maladies merely, but\\nwith life’s joy and beauty and energy and health and freedom.  The wider\\nsympathy is, of course, the more difficult.  It requires more\\nunselfishness.  Anybody can sympathise with the sufferings of a friend,\\nbut it requires a very fine nature—it requires, in fact, the nature of a\\ntrue Individualist—to sympathise with a friend’s success.\\n\\nIn the modern stress of competition and struggle for place, such sympathy\\nis naturally rare, and is also very much stifled by the immoral ideal of\\nuniformity of type and conformity to rule which is so prevalent\\neverywhere, and is perhaps most obnoxious in England.\\n\\nSympathy with pain there will, of course, always be.  It is one of the\\nfirst instincts of man.  The animals which are individual, the higher\\nanimals, that is to say, share it with us.  But it must be remembered\\nthat while sympathy with joy intensifies the sum of joy in the world,\\nsympathy with pain does not really diminish the amount of pain.  It may\\nmake man better able to endure evil, but the evil remains.  Sympathy with\\nconsumption does not cure consumption; that is what Science does.  And\\nwhen Socialism has solved the problem of poverty, and Science solved the\\nproblem of disease, the area of the sentimentalists will be lessened, and\\nthe sympathy of man will be large, healthy, and spontaneous.  Man will\\nhave joy in the contemplation of the joyous life of others.\\n\\nFor it is through joy that the Individualism of the future will develop\\nitself.  Christ made no attempt to reconstruct society, and consequently\\nthe Individualism that he preached to man could be realised only through\\npain or in solitude.  The ideals that we owe to Christ are the ideals of\\nthe man who abandons society entirely, or of the man who resists society\\nabsolutely.  But man is naturally social.  Even the Thebaid became\\npeopled at last.  And though the cenobite realises his personality, it is\\noften an impoverished personality that he so realises.  Upon the other\\nhand, the terrible truth that pain is a mode through which man may\\nrealise himself exercises a wonderful fascination over the world.\\nShallow speakers and shallow thinkers in pulpits and on platforms often\\ntalk about the world’s worship of pleasure, and whine against it.  But it\\nis rarely in the world’s history that its ideal has been one of joy and\\nbeauty.  The worship of pain has far more often dominated the world.\\nMediævalism, with its saints and martyrs, its love of self-torture, its\\nwild passion for wounding itself, its gashing with knives, and its\\nwhipping with rods—Mediævalism is real Christianity, and the mediæval\\nChrist is the real Christ.  When the Renaissance dawned upon the world,\\nand brought with it the new ideals of the beauty of life and the joy of\\nliving, men could not understand Christ.  Even Art shows us that.  The\\npainters of the Renaissance drew Christ as a little boy playing with\\nanother boy in a palace or a garden, or lying back in his mother’s arms,\\nsmiling at her, or at a flower, or at a bright bird; or as a noble,\\nstately figure moving nobly through the world; or as a wonderful figure\\nrising in a sort of ecstasy from death to life.  Even when they drew him\\ncrucified they drew him as a beautiful God on whom evil men had inflicted\\nsuffering.  But he did not preoccupy them much.  What delighted them was\\nto paint the men and women whom they admired, and to show the loveliness\\nof this lovely earth.  They painted many religious pictures—in fact, they\\npainted far too many, and the monotony of type and motive is wearisome,\\nand was bad for art.  It was the result of the authority of the public in\\nart-matters, and is to be deplored.  But their soul was not in the\\nsubject.  Raphael was a great artist when he painted his portrait of the\\nPope.  When he painted his Madonnas and infant Christs, he is not a great\\nartist at all.  Christ had no message for the Renaissance, which was\\nwonderful because it brought an ideal at variance with his, and to find\\nthe presentation of the real Christ we must go to mediæval art.  There he\\nis one maimed and marred; one who is not comely to look on, because\\nBeauty is a joy; one who is not in fair raiment, because that may be a\\njoy also: he is a beggar who has a marvellous soul; he is a leper whose\\nsoul is divine; he needs neither property nor health; he is a God\\nrealising his perfection through pain.\\n\\nThe evolution of man is slow.  The injustice of men is great.  It was\\nnecessary that pain should be put forward as a mode of self-realisation.\\nEven now, in some places in the world, the message of Christ is\\nnecessary.  No one who lived in modern Russia could possibly realise his\\nperfection except by pain.  A few Russian artists have realised\\nthemselves in Art; in a fiction that is mediæval in character, because\\nits dominant note is the realisation of men through suffering.  But for\\nthose who are not artists, and to whom there is no mode of life but the\\nactual life of fact, pain is the only door to perfection.  A Russian who\\nlives happily under the present system of government in Russia must\\neither believe that man has no soul, or that, if he has, it is not worth\\ndeveloping.  A Nihilist who rejects all authority, because he knows\\nauthority to be evil, and welcomes all pain, because through that he\\nrealises his personality, is a real Christian.  To him the Christian\\nideal is a true thing.\\n\\nAnd yet, Christ did not revolt against authority.  He accepted the\\nimperial authority of the Roman Empire and paid tribute.  He endured the\\necclesiastical authority of the Jewish Church, and would not repel its\\nviolence by any violence of his own.  He had, as I said before, no scheme\\nfor the reconstruction of society.  But the modern world has schemes.  It\\nproposes to do away with poverty and the suffering that it entails.  It\\ndesires to get rid of pain, and the suffering that pain entails.  It\\ntrusts to Socialism and to Science as its methods.  What it aims at is an\\nIndividualism expressing itself through joy.  This Individualism will be\\nlarger, fuller, lovelier than any Individualism has ever been.  Pain is\\nnot the ultimate mode of perfection.  It is merely provisional and a\\nprotest.  It has reference to wrong, unhealthy, unjust surroundings.\\nWhen the wrong, and the disease, and the injustice are removed, it will\\nhave no further place.  It will have done its work.  It was a great work,\\nbut it is almost over.  Its sphere lessens every day.\\n\\nNor will man miss it.  For what man has sought for is, indeed, neither\\npain nor pleasure, but simply Life.  Man has sought to live intensely,\\nfully, perfectly.  When he can do so without exercising restraint on\\nothers, or suffering it ever, and his activities are all pleasurable to\\nhim, he will be saner, healthier, more civilised, more himself.  Pleasure\\nis Nature’s test, her sign of approval.  When man is happy, he is in\\nharmony with himself and his environment.  The new Individualism, for\\nwhose service Socialism, whether it wills it or not, is working, will be\\nperfect harmony.  It will be what the Greeks sought for, but could not,\\nexcept in Thought, realise completely, because they had slaves, and fed\\nthem; it will be what the Renaissance sought for, but could not realise\\ncompletely except in Art, because they had slaves, and starved them.  It\\nwill be complete, and through it each man will attain to his perfection.\\nThe new Individualism is the new Hellenism.\\n\\n                                * * * * *\\n\\n               _Reprinted from the_ ‘_Fortnightly Review_,’\\n               _by permission of Messrs Chapman and Hall_.\\n\\n\\n\\n\\n***END OF THE PROJECT GUTENBERG EBOOK THE SOUL OF MAN***\\n\\n\\n******* This file should be named 1017-0.txt or 1017-0.zip *******\\n\\n\\nThis and all associated files of various formats will be found in:\\nhttp://www.gutenberg.org/dirs/1/0/1/1017\\n\\n\\nUpdated editions will replace the previous one--the old editions will\\nbe renamed.\\n\\nCreating the works from print editions not protected by U.S. copyright\\nlaw means that no one owns a United States copyright in these works,\\nso the Foundation (and you!) can copy and distribute it in the United\\nStates without permission and without paying copyright\\nroyalties. Special rules, set forth in the General Terms of Use part\\nof this license, apply to copying and distributing Project\\nGutenberg-tm electronic works to protect the PROJECT GUTENBERG-tm\\nconcept and trademark. Project Gutenberg is a registered trademark,\\nand may not be used if you charge for the eBooks, unless you receive\\nspecific permission. If you do not charge anything for copies of this\\neBook, complying with the rules is very easy. You may use this eBook\\nfor nearly any purpose such as creation of derivative works, reports,\\nperformances and research. They may be modified and printed and given\\naway--you may do practically ANYTHING in the United States with eBooks\\nnot protected by U.S. copyright law. Redistribution is subject to the\\ntrademark license, especially commercial redistribution.\\n\\nSTART: FULL LICENSE\\n\\nTHE FULL PROJECT GUTENBERG LICENSE\\nPLEASE READ THIS BEFORE YOU DISTRIBUTE OR USE THIS WORK\\n\\nTo protect the Project Gutenberg-tm mission of promoting the free\\ndistribution of electronic works, by using or distributing this work\\n(or any other work associated in any way with the phrase \"Project\\nGutenberg\"), you agree to comply with all the terms of the Full\\nProject Gutenberg-tm License available with this file or online at\\nwww.gutenberg.org/license.\\n\\nSection 1. General Terms of Use and Redistributing Project\\nGutenberg-tm electronic works\\n\\n1.A. By reading or using any part of this Project Gutenberg-tm\\nelectronic work, you indicate that you have read, understand, agree to\\nand accept all the terms of this license and intellectual property\\n(trademark/copyright) agreement. If you do not agree to abide by all\\nthe terms of this agreement, you must cease using and return or\\ndestroy all copies of Project Gutenberg-tm electronic works in your\\npossession. If you paid a fee for obtaining a copy of or access to a\\nProject Gutenberg-tm electronic work and you do not agree to be bound\\nby the terms of this agreement, you may obtain a refund from the\\nperson or entity to whom you paid the fee as set forth in paragraph\\n1.E.8.\\n\\n1.B. \"Project Gutenberg\" is a registered trademark. It may only be\\nused on or associated in any way with an electronic work by people who\\nagree to be bound by the terms of this agreement. There are a few\\nthings that you can do with most Project Gutenberg-tm electronic works\\neven without complying with the full terms of this agreement. See\\nparagraph 1.C below. There are a lot of things you can do with Project\\nGutenberg-tm electronic works if you follow the terms of this\\nagreement and help preserve free future access to Project Gutenberg-tm\\nelectronic works. See paragraph 1.E below.\\n\\n1.C. The Project Gutenberg Literary Archive Foundation (\"the\\nFoundation\" or PGLAF), owns a compilation copyright in the collection\\nof Project Gutenberg-tm electronic works. Nearly all the individual\\nworks in the collection are in the public domain in the United\\nStates. If an individual work is unprotected by copyright law in the\\nUnited States and you are located in the United States, we do not\\nclaim a right to prevent you from copying, distributing, performing,\\ndisplaying or creating derivative works based on the work as long as\\nall references to Project Gutenberg are removed. Of course, we hope\\nthat you will support the Project Gutenberg-tm mission of promoting\\nfree access to electronic works by freely sharing Project Gutenberg-tm\\nworks in compliance with the terms of this agreement for keeping the\\nProject Gutenberg-tm name associated with the work. You can easily\\ncomply with the terms of this agreement by keeping this work in the\\nsame format with its attached full Project Gutenberg-tm License when\\nyou share it without charge with others.\\n\\n1.D. The copyright laws of the place where you are located also govern\\nwhat you can do with this work. Copyright laws in most countries are\\nin a constant state of change. If you are outside the United States,\\ncheck the laws of your country in addition to the terms of this\\nagreement before downloading, copying, displaying, performing,\\ndistributing or creating derivative works based on this work or any\\nother Project Gutenberg-tm work. The Foundation makes no\\nrepresentations concerning the copyright status of any work in any\\ncountry outside the United States.\\n\\n1.E. Unless you have removed all references to Project Gutenberg:\\n\\n1.E.1. The following sentence, with active links to, or other\\nimmediate access to, the full Project Gutenberg-tm License must appear\\nprominently whenever any copy of a Project Gutenberg-tm work (any work\\non which the phrase \"Project Gutenberg\" appears, or with which the\\nphrase \"Project Gutenberg\" is associated) is accessed, displayed,\\nperformed, viewed, copied or distributed:\\n\\n  This eBook is for the use of anyone anywhere in the United States and\\n  most other parts of the world at no cost and with almost no\\n  restrictions whatsoever. You may copy it, give it away or re-use it\\n  under the terms of the Project Gutenberg License included with this\\n  eBook or online at www.gutenberg.org. If you are not located in the\\n  United States, you\\'ll have to check the laws of the country where you\\n  are located before using this ebook.\\n\\n1.E.2. If an individual Project Gutenberg-tm electronic work is\\nderived from texts not protected by U.S. copyright law (does not\\ncontain a notice indicating that it is posted with permission of the\\ncopyright holder), the work can be copied and distributed to anyone in\\nthe United States without paying any fees or charges. If you are\\nredistributing or providing access to a work with the phrase \"Project\\nGutenberg\" associated with or appearing on the work, you must comply\\neither with the requirements of paragraphs 1.E.1 through 1.E.7 or\\nobtain permission for the use of the work and the Project Gutenberg-tm\\ntrademark as set forth in paragraphs 1.E.8 or 1.E.9.\\n\\n1.E.3. If an individual Project Gutenberg-tm electronic work is posted\\nwith the permission of the copyright holder, your use and distribution\\nmust comply with both paragraphs 1.E.1 through 1.E.7 and any\\nadditional terms imposed by the copyright holder. Additional terms\\nwill be linked to the Project Gutenberg-tm License for all works\\nposted with the permission of the copyright holder found at the\\nbeginning of this work.\\n\\n1.E.4. Do not unlink or detach or remove the full Project Gutenberg-tm\\nLicense terms from this work, or any files containing a part of this\\nwork or any other work associated with Project Gutenberg-tm.\\n\\n1.E.5. Do not copy, display, perform, distribute or redistribute this\\nelectronic work, or any part of this electronic work, without\\nprominently displaying the sentence set forth in paragraph 1.E.1 with\\nactive links or immediate access to the full terms of the Project\\nGutenberg-tm License.\\n\\n1.E.6. You may convert to and distribute this work in any binary,\\ncompressed, marked up, nonproprietary or proprietary form, including\\nany word processing or hypertext form. However, if you provide access\\nto or distribute copies of a Project Gutenberg-tm work in a format\\nother than \"Plain Vanilla ASCII\" or other format used in the official\\nversion posted on the official Project Gutenberg-tm web site\\n(www.gutenberg.org), you must, at no additional cost, fee or expense\\nto the user, provide a copy, a means of exporting a copy, or a means\\nof obtaining a copy upon request, of the work in its original \"Plain\\nVanilla ASCII\" or other form. Any alternate format must include the\\nfull Project Gutenberg-tm License as specified in paragraph 1.E.1.\\n\\n1.E.7. Do not charge a fee for access to, viewing, displaying,\\nperforming, copying or distributing any Project Gutenberg-tm works\\nunless you comply with paragraph 1.E.8 or 1.E.9.\\n\\n1.E.8. You may charge a reasonable fee for copies of or providing\\naccess to or distributing Project Gutenberg-tm electronic works\\nprovided that\\n\\n* You pay a royalty fee of 20% of the gross profits you derive from\\n  the use of Project Gutenberg-tm works calculated using the method\\n  you already use to calculate your applicable taxes. The fee is owed\\n  to the owner of the Project Gutenberg-tm trademark, but he has\\n  agreed to donate royalties under this paragraph to the Project\\n  Gutenberg Literary Archive Foundation. Royalty payments must be paid\\n  within 60 days following each date on which you prepare (or are\\n  legally required to prepare) your periodic tax returns. Royalty\\n  payments should be clearly marked as such and sent to the Project\\n  Gutenberg Literary Archive Foundation at the address specified in\\n  Section 4, \"Information about donations to the Project Gutenberg\\n  Literary Archive Foundation.\"\\n\\n* You provide a full refund of any money paid by a user who notifies\\n  you in writing (or by e-mail) within 30 days of receipt that s/he\\n  does not agree to the terms of the full Project Gutenberg-tm\\n  License. You must require such a user to return or destroy all\\n  copies of the works possessed in a physical medium and discontinue\\n  all use of and all access to other copies of Project Gutenberg-tm\\n  works.\\n\\n* You provide, in accordance with paragraph 1.F.3, a full refund of\\n  any money paid for a work or a replacement copy, if a defect in the\\n  electronic work is discovered and reported to you within 90 days of\\n  receipt of the work.\\n\\n* You comply with all other terms of this agreement for free\\n  distribution of Project Gutenberg-tm works.\\n\\n1.E.9. If you wish to charge a fee or distribute a Project\\nGutenberg-tm electronic work or group of works on different terms than\\nare set forth in this agreement, you must obtain permission in writing\\nfrom both the Project Gutenberg Literary Archive Foundation and The\\nProject Gutenberg Trademark LLC, the owner of the Project Gutenberg-tm\\ntrademark. Contact the Foundation as set forth in Section 3 below.\\n\\n1.F.\\n\\n1.F.1. Project Gutenberg volunteers and employees expend considerable\\neffort to identify, do copyright research on, transcribe and proofread\\nworks not protected by U.S. copyright law in creating the Project\\nGutenberg-tm collection. Despite these efforts, Project Gutenberg-tm\\nelectronic works, and the medium on which they may be stored, may\\ncontain \"Defects,\" such as, but not limited to, incomplete, inaccurate\\nor corrupt data, transcription errors, a copyright or other\\nintellectual property infringement, a defective or damaged disk or\\nother medium, a computer virus, or computer codes that damage or\\ncannot be read by your equipment.\\n\\n1.F.2. LIMITED WARRANTY, DISCLAIMER OF DAMAGES - Except for the \"Right\\nof Replacement or Refund\" described in paragraph 1.F.3, the Project\\nGutenberg Literary Archive Foundation, the owner of the Project\\nGutenberg-tm trademark, and any other party distributing a Project\\nGutenberg-tm electronic work under this agreement, disclaim all\\nliability to you for damages, costs and expenses, including legal\\nfees. YOU AGREE THAT YOU HAVE NO REMEDIES FOR NEGLIGENCE, STRICT\\nLIABILITY, BREACH OF WARRANTY OR BREACH OF CONTRACT EXCEPT THOSE\\nPROVIDED IN PARAGRAPH 1.F.3. YOU AGREE THAT THE FOUNDATION, THE\\nTRADEMARK OWNER, AND ANY DISTRIBUTOR UNDER THIS AGREEMENT WILL NOT BE\\nLIABLE TO YOU FOR ACTUAL, DIRECT, INDIRECT, CONSEQUENTIAL, PUNITIVE OR\\nINCIDENTAL DAMAGES EVEN IF YOU GIVE NOTICE OF THE POSSIBILITY OF SUCH\\nDAMAGE.\\n\\n1.F.3. LIMITED RIGHT OF REPLACEMENT OR REFUND - If you discover a\\ndefect in this electronic work within 90 days of receiving it, you can\\nreceive a refund of the money (if any) you paid for it by sending a\\nwritten explanation to the person you received the work from. If you\\nreceived the work on a physical medium, you must return the medium\\nwith your written explanation. The person or entity that provided you\\nwith the defective work may elect to provide a replacement copy in\\nlieu of a refund. If you received the work electronically, the person\\nor entity providing it to you may choose to give you a second\\nopportunity to receive the work electronically in lieu of a refund. If\\nthe second copy is also defective, you may demand a refund in writing\\nwithout further opportunities to fix the problem.\\n\\n1.F.4. Except for the limited right of replacement or refund set forth\\nin paragraph 1.F.3, this work is provided to you \\'AS-IS\\', WITH NO\\nOTHER WARRANTIES OF ANY KIND, EXPRESS OR IMPLIED, INCLUDING BUT NOT\\nLIMITED TO WARRANTIES OF MERCHANTABILITY OR FITNESS FOR ANY PURPOSE.\\n\\n1.F.5. Some states do not allow disclaimers of certain implied\\nwarranties or the exclusion or limitation of certain types of\\ndamages. If any disclaimer or limitation set forth in this agreement\\nviolates the law of the state applicable to this agreement, the\\nagreement shall be interpreted to make the maximum disclaimer or\\nlimitation permitted by the applicable state law. The invalidity or\\nunenforceability of any provision of this agreement shall not void the\\nremaining provisions.\\n\\n1.F.6. INDEMNITY - You agree to indemnify and hold the Foundation, the\\ntrademark owner, any agent or employee of the Foundation, anyone\\nproviding copies of Project Gutenberg-tm electronic works in\\naccordance with this agreement, and any volunteers associated with the\\nproduction, promotion and distribution of Project Gutenberg-tm\\nelectronic works, harmless from all liability, costs and expenses,\\nincluding legal fees, that arise directly or indirectly from any of\\nthe following which you do or cause to occur: (a) distribution of this\\nor any Project Gutenberg-tm work, (b) alteration, modification, or\\nadditions or deletions to any Project Gutenberg-tm work, and (c) any\\nDefect you cause.\\n\\nSection 2. Information about the Mission of Project Gutenberg-tm\\n\\nProject Gutenberg-tm is synonymous with the free distribution of\\nelectronic works in formats readable by the widest variety of\\ncomputers including obsolete, old, middle-aged and new computers. It\\nexists because of the efforts of hundreds of volunteers and donations\\nfrom people in all walks of life.\\n\\nVolunteers and financial support to provide volunteers with the\\nassistance they need are critical to reaching Project Gutenberg-tm\\'s\\ngoals and ensuring that the Project Gutenberg-tm collection will\\nremain freely available for generations to come. In 2001, the Project\\nGutenberg Literary Archive Foundation was created to provide a secure\\nand permanent future for Project Gutenberg-tm and future\\ngenerations. To learn more about the Project Gutenberg Literary\\nArchive Foundation and how your efforts and donations can help, see\\nSections 3 and 4 and the Foundation information page at\\nwww.gutenberg.org Section 3. Information about the Project Gutenberg\\nLiterary Archive Foundation\\n\\nThe Project Gutenberg Literary Archive Foundation is a non profit\\n501(c)(3) educational corporation organized under the laws of the\\nstate of Mississippi and granted tax exempt status by the Internal\\nRevenue Service. The Foundation\\'s EIN or federal tax identification\\nnumber is 64-6221541. Contributions to the Project Gutenberg Literary\\nArchive Foundation are tax deductible to the full extent permitted by\\nU.S. federal laws and your state\\'s laws.\\n\\nThe Foundation\\'s principal office is in Fairbanks, Alaska, with the\\nmailing address: PO Box 750175, Fairbanks, AK 99775, but its\\nvolunteers and employees are scattered throughout numerous\\nlocations. Its business office is located at 809 North 1500 West, Salt\\nLake City, UT 84116, (801) 596-1887. Email contact links and up to\\ndate contact information can be found at the Foundation\\'s web site and\\nofficial page at www.gutenberg.org/contact\\n\\nFor additional contact information:\\n\\n    Dr. Gregory B. Newby\\n    Chief Executive and Director\\n    gbnewby@pglaf.org\\n\\nSection 4. Information about Donations to the Project Gutenberg\\nLiterary Archive Foundation\\n\\nProject Gutenberg-tm depends upon and cannot survive without wide\\nspread public support and donations to carry out its mission of\\nincreasing the number of public domain and licensed works that can be\\nfreely distributed in machine readable form accessible by the widest\\narray of equipment including outdated equipment. Many small donations\\n($1 to $5,000) are particularly important to maintaining tax exempt\\nstatus with the IRS.\\n\\nThe Foundation is committed to complying with the laws regulating\\ncharities and charitable donations in all 50 states of the United\\nStates. Compliance requirements are not uniform and it takes a\\nconsiderable effort, much paperwork and many fees to meet and keep up\\nwith these requirements. We do not solicit donations in locations\\nwhere we have not received written confirmation of compliance. To SEND\\nDONATIONS or determine the status of compliance for any particular\\nstate visit www.gutenberg.org/donate\\n\\nWhile we cannot and do not solicit contributions from states where we\\nhave not met the solicitation requirements, we know of no prohibition\\nagainst accepting unsolicited donations from donors in such states who\\napproach us with offers to donate.\\n\\nInternational donations are gratefully accepted, but we cannot make\\nany statements concerning tax treatment of donations received from\\noutside the United States. U.S. laws alone swamp our small staff.\\n\\nPlease check the Project Gutenberg Web pages for current donation\\nmethods and addresses. Donations are accepted in a number of other\\nways including checks, online payments and credit card donations. To\\ndonate, please visit: www.gutenberg.org/donate\\n\\nSection 5. General Information About Project Gutenberg-tm electronic works.\\n\\nProfessor Michael S. Hart was the originator of the Project\\nGutenberg-tm concept of a library of electronic works that could be\\nfreely shared with anyone. For forty years, he produced and\\ndistributed Project Gutenberg-tm eBooks with only a loose network of\\nvolunteer support.\\n\\nProject Gutenberg-tm eBooks are often created from several printed\\neditions, all of which are confirmed as not protected by copyright in\\nthe U.S. unless a copyright notice is included. Thus, we do not\\nnecessarily keep eBooks in compliance with any particular paper\\nedition.\\n\\nMost people start at our Web site which has the main PG search\\nfacility: www.gutenberg.org\\n\\nThis Web site includes information about Project Gutenberg-tm,\\nincluding how to make donations to the Project Gutenberg Literary\\nArchive Foundation, how to help produce our new eBooks, and how to\\nsubscribe to our email newsletter to hear about new eBooks.\\n\\n'"
      ]
     },
     "execution_count": 85,
     "metadata": {
      "tags": []
     },
     "output_type": "execute_result"
    }
   ],
   "source": [
    "textLst[0]"
   ]
  },
  {
   "cell_type": "markdown",
   "metadata": {
    "colab_type": "text",
    "id": "jMX-Fu-GHdxj"
   },
   "source": [
    "## Process the text\n",
    "Initialize and fit the tokenizer"
   ]
  },
  {
   "cell_type": "code",
   "execution_count": 0,
   "metadata": {
    "colab": {},
    "colab_type": "code",
    "collapsed": true,
    "id": "zQf1AV8wHdxl"
   },
   "outputs": [],
   "source": [
    "tokenizer = Tokenizer(lower=True, filters='!\"#$%&()*+,-./:;<=>?@[\\\\]^_`{|}~\\t\\n')\n",
    "tokenizer.fit_on_texts(textLst)"
   ]
  },
  {
   "cell_type": "markdown",
   "metadata": {
    "colab_type": "text",
    "id": "vpZ0A2-xHdxp"
   },
   "source": [
    "### Vectorize the text\n",
    "\n",
    "Before training, we need to map strings to a numerical representation. Create two lookup tables: one mapping words to numbers, and another for numbers to words."
   ]
  },
  {
   "cell_type": "code",
   "execution_count": 0,
   "metadata": {
    "colab": {},
    "colab_type": "code",
    "collapsed": true,
    "id": "_Nsq-rSPHdxq"
   },
   "outputs": [],
   "source": [
    "word_idx = tokenizer.word_index\n",
    "idx_word = tokenizer.index_word"
   ]
  },
  {
   "cell_type": "markdown",
   "metadata": {
    "colab_type": "text",
    "id": "YMYdjx4aHdxu"
   },
   "source": [
    "Get the word count for every word and also get the total number of words."
   ]
  },
  {
   "cell_type": "code",
   "execution_count": 0,
   "metadata": {
    "colab": {},
    "colab_type": "code",
    "collapsed": true,
    "id": "ioEZ2c21Hdxw"
   },
   "outputs": [],
   "source": [
    "word_counts = tokenizer.word_counts\n",
    "num_words = len(word_idx) + 1"
   ]
  },
  {
   "cell_type": "markdown",
   "metadata": {
    "colab_type": "text",
    "id": "dWUBr9rHHdx0"
   },
   "source": [
    "Convert text to sequence of numbers"
   ]
  },
  {
   "cell_type": "code",
   "execution_count": 0,
   "metadata": {
    "colab": {},
    "colab_type": "code",
    "collapsed": true,
    "id": "dwLl0BWKHdx2"
   },
   "outputs": [],
   "source": [
    "sequences = tokenizer.texts_to_sequences(textLst)"
   ]
  },
  {
   "cell_type": "markdown",
   "metadata": {
    "colab_type": "text",
    "id": "GkpK8McUHdx6"
   },
   "source": [
    "### Generate Features and Labels"
   ]
  },
  {
   "cell_type": "code",
   "execution_count": 0,
   "metadata": {
    "colab": {},
    "colab_type": "code",
    "collapsed": true,
    "id": "zxhQamjwHdx7"
   },
   "outputs": [],
   "source": [
    "features = []\n",
    "labels = []\n",
    "\n",
    "training_length = 50\n",
    "for seq in sequences:\n",
    "    for i in range(training_length, training_length+300):\n",
    "        extract = seq[i - training_length: i - training_length + 20]\n",
    "\n",
    "        features.append(extract[:-1])\n",
    "        labels.append(extract[-1])"
   ]
  },
  {
   "cell_type": "markdown",
   "metadata": {
    "colab_type": "text",
    "id": "bbmsf23Bymwe"
   },
   "source": [
    "### The prediction task"
   ]
  },
  {
   "cell_type": "markdown",
   "metadata": {
    "colab_type": "text",
    "id": "wssHQ1oGymwe"
   },
   "source": [
    "Given a word, or a sequence of words, what is the most probable next word? This is the task we're training the model to perform. The input to the model will be a sequence of words, and we train the model to predict the output—the following word at each time step.\n",
    "\n",
    "Since RNNs maintain an internal state that depends on the previously seen elements, given all the words computed until this moment, what is the next word?"
   ]
  },
  {
   "cell_type": "markdown",
   "metadata": {
    "colab_type": "text",
    "id": "T2bsVOl7HdyA"
   },
   "source": [
    "### Generate training and testing data"
   ]
  },
  {
   "cell_type": "code",
   "execution_count": 0,
   "metadata": {
    "colab": {},
    "colab_type": "code",
    "collapsed": true,
    "id": "j7-IsvynHdyB"
   },
   "outputs": [],
   "source": [
    "from sklearn.utils import shuffle\n",
    "import numpy as np\n",
    "\n",
    "features, labels = shuffle(features, labels, random_state=1)\n",
    "\n",
    "# Decide on number of samples for training\n",
    "train_end = int(0.7 * len(labels))\n",
    "\n",
    "train_features = np.array(features[:train_end])\n",
    "valid_features = np.array(features[train_end:])\n",
    "\n",
    "train_labels = labels[:train_end]\n",
    "valid_labels = labels[train_end:]\n",
    "\n",
    "# Convert to arrays\n",
    "X_train, X_valid = np.array(train_features), np.array(valid_features)\n",
    "\n",
    "# Using int8 for memory savings\n",
    "y_train = np.zeros((len(train_labels), num_words), dtype=np.int8)\n",
    "y_valid = np.zeros((len(valid_labels), num_words), dtype=np.int8)\n",
    "\n",
    "# One hot encoding of labels\n",
    "for example_index, word_index in enumerate(train_labels):\n",
    "    y_train[example_index, word_index] = 1\n",
    "\n",
    "for example_index, word_index in enumerate(valid_labels):\n",
    "    y_valid[example_index, word_index] = 1"
   ]
  },
  {
   "cell_type": "markdown",
   "metadata": {
    "colab_type": "text",
    "id": "juT1mZrUHdyE"
   },
   "source": [
    "This is just to check the features and labels"
   ]
  },
  {
   "cell_type": "code",
   "execution_count": 95,
   "metadata": {
    "colab": {
     "base_uri": "https://localhost:8080/",
     "height": 165
    },
    "colab_type": "code",
    "id": "wkdmNbgjHdyF",
    "outputId": "a5880d2a-979a-4c13-d2b9-469710e7dad7"
   },
   "outputs": [
    {
     "name": "stdout",
     "output_type": "stream",
     "text": [
      "Features: co london first printed in this edition april 1913 reprinted june 1913 september 1913 june 1914 january 1916 october\n",
      "\n",
      "Label: 1916\n",
      "\n",
      "Features: whom beautiful things mean only beauty there is no such thing as a moral or an immoral book books\n",
      "\n",
      "Label: are\n",
      "\n"
     ]
    }
   ],
   "source": [
    "for i, sequence in enumerate(X_train[:2]):\n",
    "    text = []\n",
    "#     print(i, sequence)\n",
    "    for idx in sequence:\n",
    "        text.append(idx_word[idx])\n",
    "        \n",
    "    print('Features: ' + ' '.join(text)+'\\n')\n",
    "    print('Label: ' + idx_word[np.argmax(y_train[i])] + '\\n')"
   ]
  },
  {
   "cell_type": "markdown",
   "metadata": {
    "colab_type": "text",
    "id": "r6oUuElIMgVx"
   },
   "source": [
    "## Build The Model"
   ]
  },
  {
   "cell_type": "markdown",
   "metadata": {
    "colab_type": "text",
    "id": "m8gPwEjRzf-Z"
   },
   "source": [
    "Use `keras.Sequential` to define the model. For this simple example three layers are used to define our model:\n",
    "\n",
    "* `keras.layers.Embedding`: The input layer. A trainable lookup table that will map the numbers of each character to a vector with `embedding_dim` dimensions;\n",
    "* `keras.layers.LSTM`: A type of RNN with size `units=rnn_units` (You can also use a GRU layer here.)\n",
    "* `keras.layers.Dense`: The output layer, with `num_words` outputs."
   ]
  },
  {
   "cell_type": "code",
   "execution_count": 96,
   "metadata": {
    "colab": {
     "base_uri": "https://localhost:8080/",
     "height": 407
    },
    "colab_type": "code",
    "id": "GKpCQFZLHdyN",
    "outputId": "69e4effb-fb07-4db8-f6a5-d34c97b4ecee"
   },
   "outputs": [
    {
     "name": "stdout",
     "output_type": "stream",
     "text": [
      "WARNING:tensorflow:From /usr/local/lib/python3.6/dist-packages/keras/backend/tensorflow_backend.py:3445: calling dropout (from tensorflow.python.ops.nn_ops) with keep_prob is deprecated and will be removed in a future version.\n",
      "Instructions for updating:\n",
      "Please use `rate` instead of `keep_prob`. Rate should be set to `rate = 1 - keep_prob`.\n",
      "_________________________________________________________________\n",
      "Layer (type)                 Output Shape              Param #   \n",
      "=================================================================\n",
      "embedding_1 (Embedding)      (None, None, 100)         1478800   \n",
      "_________________________________________________________________\n",
      "lstm_1 (LSTM)                (None, 64)                42240     \n",
      "_________________________________________________________________\n",
      "dense_1 (Dense)              (None, 64)                4160      \n",
      "_________________________________________________________________\n",
      "dropout_1 (Dropout)          (None, 64)                0         \n",
      "_________________________________________________________________\n",
      "dense_2 (Dense)              (None, 14788)             961220    \n",
      "=================================================================\n",
      "Total params: 2,486,420\n",
      "Trainable params: 2,486,420\n",
      "Non-trainable params: 0\n",
      "_________________________________________________________________\n"
     ]
    }
   ],
   "source": [
    "model = Sequential()\n",
    "\n",
    "# Embedding layer\n",
    "model.add(\n",
    "    Embedding(\n",
    "        input_dim=len(word_idx) + 1,\n",
    "        output_dim=100,\n",
    "        weights=None,\n",
    "        trainable=True))\n",
    "\n",
    "# Recurrent layer\n",
    "model.add(\n",
    "    LSTM(\n",
    "        64, return_sequences=False, dropout=0.1,\n",
    "        recurrent_dropout=0.1))\n",
    "\n",
    "# Fully connected layer\n",
    "model.add(Dense(64, activation='relu'))\n",
    "\n",
    "# Dropout for regularization\n",
    "model.add(Dropout(0.5))\n",
    "\n",
    "# Output layer\n",
    "model.add(Dense(num_words, activation='softmax'))\n",
    "\n",
    "# Compile the model\n",
    "model.compile(\n",
    "    optimizer='adam', loss='categorical_crossentropy', metrics=['accuracy'])\n",
    "\n",
    "model.summary()"
   ]
  },
  {
   "cell_type": "markdown",
   "metadata": {
    "colab_type": "text",
    "id": "vL3tUp1UHdyS"
   },
   "source": [
    "For each word the model looks up the embedding, runs the LSTM one timestep with the embedding as input, and applies the dense layer to generate logits predicting the log-liklihood of the next word."
   ]
  },
  {
   "cell_type": "markdown",
   "metadata": {
    "colab_type": "text",
    "id": "LJL0Q0YPY6Ee"
   },
   "source": [
    "## Train the model"
   ]
  },
  {
   "cell_type": "code",
   "execution_count": 97,
   "metadata": {
    "colab": {
     "base_uri": "https://localhost:8080/",
     "height": 18500
    },
    "colab_type": "code",
    "id": "6o84puBcHdyV",
    "outputId": "56328367-3a61-42ce-fd98-787df86bdaf6"
   },
   "outputs": [
    {
     "name": "stdout",
     "output_type": "stream",
     "text": [
      "Epoch 1/500\n",
      "2100/2100 [==============================] - 10s 5ms/step - loss: 9.2461 - acc: 0.0376\n",
      "Epoch 2/500\n",
      "2100/2100 [==============================] - 4s 2ms/step - loss: 6.8476 - acc: 0.0562\n",
      "Epoch 3/500\n",
      "2100/2100 [==============================] - 4s 2ms/step - loss: 6.4580 - acc: 0.0610\n",
      "Epoch 4/500\n",
      "2100/2100 [==============================] - 4s 2ms/step - loss: 6.2851 - acc: 0.0638\n",
      "Epoch 5/500\n",
      "2100/2100 [==============================] - 4s 2ms/step - loss: 6.1510 - acc: 0.0648\n",
      "Epoch 6/500\n",
      "2100/2100 [==============================] - 4s 2ms/step - loss: 6.0644 - acc: 0.0633\n",
      "Epoch 7/500\n",
      "2100/2100 [==============================] - 4s 2ms/step - loss: 5.9788 - acc: 0.0671\n",
      "Epoch 8/500\n",
      "2100/2100 [==============================] - 4s 2ms/step - loss: 5.9023 - acc: 0.0614\n",
      "Epoch 9/500\n",
      "2100/2100 [==============================] - 4s 2ms/step - loss: 5.8504 - acc: 0.0633\n",
      "Epoch 10/500\n",
      "2100/2100 [==============================] - 4s 2ms/step - loss: 5.8090 - acc: 0.0638\n",
      "Epoch 11/500\n",
      "2100/2100 [==============================] - 4s 2ms/step - loss: 5.7623 - acc: 0.0600\n",
      "Epoch 12/500\n",
      "2100/2100 [==============================] - 4s 2ms/step - loss: 5.7371 - acc: 0.0600\n",
      "Epoch 13/500\n",
      "2100/2100 [==============================] - 4s 2ms/step - loss: 5.7309 - acc: 0.0614\n",
      "Epoch 14/500\n",
      "2100/2100 [==============================] - 4s 2ms/step - loss: 5.6893 - acc: 0.0614\n",
      "Epoch 15/500\n",
      "2100/2100 [==============================] - 4s 2ms/step - loss: 5.6627 - acc: 0.0643\n",
      "Epoch 16/500\n",
      "2100/2100 [==============================] - 4s 2ms/step - loss: 5.6387 - acc: 0.0652\n",
      "Epoch 17/500\n",
      "2100/2100 [==============================] - 4s 2ms/step - loss: 5.6202 - acc: 0.0710\n",
      "Epoch 18/500\n",
      "2100/2100 [==============================] - 4s 2ms/step - loss: 5.5673 - acc: 0.0738\n",
      "Epoch 19/500\n",
      "2100/2100 [==============================] - 4s 2ms/step - loss: 5.5642 - acc: 0.0729\n",
      "Epoch 20/500\n",
      "2100/2100 [==============================] - 4s 2ms/step - loss: 5.5201 - acc: 0.0767\n",
      "Epoch 21/500\n",
      "2100/2100 [==============================] - 4s 2ms/step - loss: 5.4676 - acc: 0.0705\n",
      "Epoch 22/500\n",
      "2100/2100 [==============================] - 4s 2ms/step - loss: 5.4379 - acc: 0.0757\n",
      "Epoch 23/500\n",
      "2100/2100 [==============================] - 4s 2ms/step - loss: 5.3854 - acc: 0.0748\n",
      "Epoch 24/500\n",
      "2100/2100 [==============================] - 4s 2ms/step - loss: 5.3475 - acc: 0.0781\n",
      "Epoch 25/500\n",
      "2100/2100 [==============================] - 4s 2ms/step - loss: 5.3016 - acc: 0.0790\n",
      "Epoch 26/500\n",
      "2100/2100 [==============================] - 4s 2ms/step - loss: 5.2642 - acc: 0.0833\n",
      "Epoch 27/500\n",
      "2100/2100 [==============================] - 4s 2ms/step - loss: 5.2132 - acc: 0.0800\n",
      "Epoch 28/500\n",
      "2100/2100 [==============================] - 4s 2ms/step - loss: 5.1739 - acc: 0.0814\n",
      "Epoch 29/500\n",
      "2100/2100 [==============================] - 4s 2ms/step - loss: 5.1026 - acc: 0.0905\n",
      "Epoch 30/500\n",
      "2100/2100 [==============================] - 4s 2ms/step - loss: 5.0464 - acc: 0.0929\n",
      "Epoch 31/500\n",
      "2100/2100 [==============================] - 4s 2ms/step - loss: 5.0023 - acc: 0.0919\n",
      "Epoch 32/500\n",
      "2100/2100 [==============================] - 4s 2ms/step - loss: 4.9331 - acc: 0.1005\n",
      "Epoch 33/500\n",
      "2100/2100 [==============================] - 4s 2ms/step - loss: 4.8805 - acc: 0.1057\n",
      "Epoch 34/500\n",
      "2100/2100 [==============================] - 4s 2ms/step - loss: 4.8216 - acc: 0.1100\n",
      "Epoch 35/500\n",
      "2100/2100 [==============================] - 4s 2ms/step - loss: 4.7859 - acc: 0.1129\n",
      "Epoch 36/500\n",
      "2100/2100 [==============================] - 4s 2ms/step - loss: 4.7168 - acc: 0.1152\n",
      "Epoch 37/500\n",
      "2100/2100 [==============================] - 4s 2ms/step - loss: 4.6419 - acc: 0.1190\n",
      "Epoch 38/500\n",
      "2100/2100 [==============================] - 4s 2ms/step - loss: 4.5898 - acc: 0.1195\n",
      "Epoch 39/500\n",
      "2100/2100 [==============================] - 4s 2ms/step - loss: 4.5061 - acc: 0.1367\n",
      "Epoch 40/500\n",
      "2100/2100 [==============================] - 4s 2ms/step - loss: 4.4493 - acc: 0.1357\n",
      "Epoch 41/500\n",
      "2100/2100 [==============================] - 4s 2ms/step - loss: 4.3430 - acc: 0.1395\n",
      "Epoch 42/500\n",
      "2100/2100 [==============================] - 4s 2ms/step - loss: 4.2861 - acc: 0.1548\n",
      "Epoch 43/500\n",
      "2100/2100 [==============================] - 4s 2ms/step - loss: 4.1834 - acc: 0.1595\n",
      "Epoch 44/500\n",
      "2100/2100 [==============================] - 4s 2ms/step - loss: 4.1123 - acc: 0.1686\n",
      "Epoch 45/500\n",
      "2100/2100 [==============================] - 4s 2ms/step - loss: 4.0104 - acc: 0.1824\n",
      "Epoch 46/500\n",
      "2100/2100 [==============================] - 4s 2ms/step - loss: 3.9490 - acc: 0.1876\n",
      "Epoch 47/500\n",
      "2100/2100 [==============================] - 4s 2ms/step - loss: 3.8810 - acc: 0.2014\n",
      "Epoch 48/500\n",
      "2100/2100 [==============================] - 4s 2ms/step - loss: 3.8224 - acc: 0.1957\n",
      "Epoch 49/500\n",
      "2100/2100 [==============================] - 4s 2ms/step - loss: 3.7261 - acc: 0.2105\n",
      "Epoch 50/500\n",
      "2100/2100 [==============================] - 4s 2ms/step - loss: 3.6425 - acc: 0.2190\n",
      "Epoch 51/500\n",
      "2100/2100 [==============================] - 4s 2ms/step - loss: 3.6036 - acc: 0.2295\n",
      "Epoch 52/500\n",
      "2100/2100 [==============================] - 4s 2ms/step - loss: 3.5387 - acc: 0.2357\n",
      "Epoch 53/500\n",
      "2100/2100 [==============================] - 4s 2ms/step - loss: 3.4918 - acc: 0.2452\n",
      "Epoch 54/500\n",
      "2100/2100 [==============================] - 4s 2ms/step - loss: 3.4087 - acc: 0.2643\n",
      "Epoch 55/500\n",
      "2100/2100 [==============================] - 4s 2ms/step - loss: 3.3319 - acc: 0.2633\n",
      "Epoch 56/500\n",
      "2100/2100 [==============================] - 4s 2ms/step - loss: 3.2744 - acc: 0.2719\n",
      "Epoch 57/500\n",
      "2100/2100 [==============================] - 4s 2ms/step - loss: 3.2129 - acc: 0.2819\n",
      "Epoch 58/500\n",
      "2100/2100 [==============================] - 4s 2ms/step - loss: 3.1955 - acc: 0.2862\n",
      "Epoch 59/500\n",
      "2100/2100 [==============================] - 4s 2ms/step - loss: 3.1536 - acc: 0.2819\n",
      "Epoch 60/500\n",
      "2100/2100 [==============================] - 4s 2ms/step - loss: 3.0548 - acc: 0.3067\n",
      "Epoch 61/500\n",
      "2100/2100 [==============================] - 4s 2ms/step - loss: 2.9711 - acc: 0.3076\n",
      "Epoch 62/500\n",
      "2100/2100 [==============================] - 4s 2ms/step - loss: 2.9532 - acc: 0.3119\n",
      "Epoch 63/500\n",
      "2100/2100 [==============================] - 4s 2ms/step - loss: 2.9120 - acc: 0.3162\n",
      "Epoch 64/500\n",
      "2100/2100 [==============================] - 4s 2ms/step - loss: 2.8518 - acc: 0.3433\n",
      "Epoch 65/500\n",
      "2100/2100 [==============================] - 4s 2ms/step - loss: 2.8138 - acc: 0.3414\n",
      "Epoch 66/500\n",
      "2100/2100 [==============================] - 4s 2ms/step - loss: 2.7453 - acc: 0.3467\n",
      "Epoch 67/500\n",
      "2100/2100 [==============================] - 4s 2ms/step - loss: 2.6748 - acc: 0.3600\n",
      "Epoch 68/500\n",
      "2100/2100 [==============================] - 4s 2ms/step - loss: 2.6442 - acc: 0.3600\n",
      "Epoch 69/500\n",
      "2100/2100 [==============================] - 4s 2ms/step - loss: 2.5669 - acc: 0.3810\n",
      "Epoch 70/500\n",
      "2100/2100 [==============================] - 4s 2ms/step - loss: 2.5327 - acc: 0.3790\n",
      "Epoch 71/500\n",
      "2100/2100 [==============================] - 4s 2ms/step - loss: 2.5292 - acc: 0.3914\n",
      "Epoch 72/500\n",
      "2100/2100 [==============================] - 4s 2ms/step - loss: 2.4610 - acc: 0.3948\n",
      "Epoch 73/500\n",
      "2100/2100 [==============================] - 4s 2ms/step - loss: 2.4554 - acc: 0.3919\n",
      "Epoch 74/500\n",
      "2100/2100 [==============================] - 4s 2ms/step - loss: 2.4269 - acc: 0.3886\n",
      "Epoch 75/500\n",
      "2100/2100 [==============================] - 4s 2ms/step - loss: 2.3491 - acc: 0.4114\n",
      "Epoch 76/500\n",
      "2100/2100 [==============================] - 4s 2ms/step - loss: 2.3184 - acc: 0.4257\n",
      "Epoch 77/500\n",
      "2100/2100 [==============================] - 4s 2ms/step - loss: 2.2763 - acc: 0.4205\n",
      "Epoch 78/500\n",
      "2100/2100 [==============================] - 4s 2ms/step - loss: 2.2546 - acc: 0.4190\n",
      "Epoch 79/500\n",
      "2100/2100 [==============================] - 4s 2ms/step - loss: 2.1898 - acc: 0.4252\n",
      "Epoch 80/500\n",
      "2100/2100 [==============================] - 4s 2ms/step - loss: 2.1690 - acc: 0.4481\n",
      "Epoch 81/500\n",
      "2100/2100 [==============================] - 4s 2ms/step - loss: 2.1158 - acc: 0.4590\n",
      "Epoch 82/500\n",
      "2100/2100 [==============================] - 4s 2ms/step - loss: 2.1115 - acc: 0.4567\n",
      "Epoch 83/500\n",
      "2100/2100 [==============================] - 4s 2ms/step - loss: 2.0445 - acc: 0.4700\n",
      "Epoch 84/500\n",
      "2100/2100 [==============================] - 4s 2ms/step - loss: 2.0026 - acc: 0.4790\n",
      "Epoch 85/500\n",
      "2100/2100 [==============================] - 4s 2ms/step - loss: 2.0239 - acc: 0.4662\n",
      "Epoch 86/500\n",
      "2100/2100 [==============================] - 4s 2ms/step - loss: 1.9794 - acc: 0.4781\n",
      "Epoch 87/500\n",
      "2100/2100 [==============================] - 4s 2ms/step - loss: 1.8811 - acc: 0.4910\n",
      "Epoch 88/500\n",
      "2100/2100 [==============================] - 4s 2ms/step - loss: 1.8755 - acc: 0.5086\n",
      "Epoch 89/500\n",
      "2100/2100 [==============================] - 4s 2ms/step - loss: 1.8538 - acc: 0.5090\n",
      "Epoch 90/500\n",
      "2100/2100 [==============================] - 4s 2ms/step - loss: 1.8495 - acc: 0.5105\n",
      "Epoch 91/500\n",
      "2100/2100 [==============================] - 4s 2ms/step - loss: 1.7889 - acc: 0.5219\n",
      "Epoch 92/500\n",
      "2100/2100 [==============================] - 4s 2ms/step - loss: 1.7908 - acc: 0.5310\n",
      "Epoch 93/500\n",
      "2100/2100 [==============================] - 4s 2ms/step - loss: 1.7367 - acc: 0.5333\n",
      "Epoch 94/500\n",
      "2100/2100 [==============================] - 4s 2ms/step - loss: 1.7371 - acc: 0.5381\n",
      "Epoch 95/500\n",
      "2100/2100 [==============================] - 4s 2ms/step - loss: 1.6888 - acc: 0.5433\n",
      "Epoch 96/500\n",
      "2100/2100 [==============================] - 4s 2ms/step - loss: 1.6823 - acc: 0.5424\n",
      "Epoch 97/500\n",
      "2100/2100 [==============================] - 4s 2ms/step - loss: 1.6754 - acc: 0.5405\n",
      "Epoch 98/500\n",
      "2100/2100 [==============================] - 4s 2ms/step - loss: 1.6387 - acc: 0.5605\n",
      "Epoch 99/500\n",
      "2100/2100 [==============================] - 4s 2ms/step - loss: 1.6553 - acc: 0.5548\n",
      "Epoch 100/500\n",
      "2100/2100 [==============================] - 4s 2ms/step - loss: 1.5725 - acc: 0.5657\n",
      "Epoch 101/500\n",
      "2100/2100 [==============================] - 4s 2ms/step - loss: 1.5570 - acc: 0.5771\n",
      "Epoch 102/500\n",
      "2100/2100 [==============================] - 4s 2ms/step - loss: 1.5168 - acc: 0.5805\n",
      "Epoch 103/500\n",
      "2100/2100 [==============================] - 4s 2ms/step - loss: 1.5121 - acc: 0.5776\n",
      "Epoch 104/500\n",
      "2100/2100 [==============================] - 4s 2ms/step - loss: 1.4671 - acc: 0.5886\n",
      "Epoch 105/500\n",
      "2100/2100 [==============================] - 4s 2ms/step - loss: 1.4605 - acc: 0.5876\n",
      "Epoch 106/500\n",
      "2100/2100 [==============================] - 4s 2ms/step - loss: 1.4807 - acc: 0.5852\n",
      "Epoch 107/500\n",
      "2100/2100 [==============================] - 4s 2ms/step - loss: 1.4281 - acc: 0.5971\n",
      "Epoch 108/500\n",
      "2100/2100 [==============================] - 4s 2ms/step - loss: 1.4197 - acc: 0.6148\n",
      "Epoch 109/500\n",
      "2100/2100 [==============================] - 4s 2ms/step - loss: 1.4125 - acc: 0.5986\n",
      "Epoch 110/500\n",
      "2100/2100 [==============================] - 4s 2ms/step - loss: 1.3556 - acc: 0.6048\n",
      "Epoch 111/500\n",
      "2100/2100 [==============================] - 4s 2ms/step - loss: 1.3696 - acc: 0.6005\n",
      "Epoch 112/500\n",
      "2100/2100 [==============================] - 4s 2ms/step - loss: 1.3736 - acc: 0.6095\n",
      "Epoch 113/500\n",
      "2100/2100 [==============================] - 4s 2ms/step - loss: 1.3600 - acc: 0.6076\n",
      "Epoch 114/500\n",
      "2100/2100 [==============================] - 4s 2ms/step - loss: 1.3285 - acc: 0.6176\n",
      "Epoch 115/500\n",
      "2100/2100 [==============================] - 4s 2ms/step - loss: 1.3021 - acc: 0.6414\n",
      "Epoch 116/500\n",
      "2100/2100 [==============================] - 4s 2ms/step - loss: 1.3029 - acc: 0.6290\n",
      "Epoch 117/500\n",
      "2100/2100 [==============================] - 4s 2ms/step - loss: 1.2906 - acc: 0.6386\n",
      "Epoch 118/500\n",
      "2100/2100 [==============================] - 4s 2ms/step - loss: 1.2738 - acc: 0.6300\n",
      "Epoch 119/500\n",
      "2100/2100 [==============================] - 4s 2ms/step - loss: 1.2166 - acc: 0.6471\n",
      "Epoch 120/500\n",
      "2100/2100 [==============================] - 4s 2ms/step - loss: 1.2323 - acc: 0.6495\n",
      "Epoch 121/500\n",
      "2100/2100 [==============================] - 4s 2ms/step - loss: 1.2103 - acc: 0.6633\n",
      "Epoch 122/500\n",
      "2100/2100 [==============================] - 4s 2ms/step - loss: 1.1757 - acc: 0.6600\n",
      "Epoch 123/500\n",
      "2100/2100 [==============================] - 4s 2ms/step - loss: 1.1606 - acc: 0.6576\n",
      "Epoch 124/500\n",
      "2100/2100 [==============================] - 4s 2ms/step - loss: 1.1494 - acc: 0.6719\n",
      "Epoch 125/500\n",
      "2100/2100 [==============================] - 4s 2ms/step - loss: 1.1752 - acc: 0.6690\n",
      "Epoch 126/500\n",
      "2100/2100 [==============================] - 4s 2ms/step - loss: 1.1398 - acc: 0.6710\n",
      "Epoch 127/500\n",
      "2100/2100 [==============================] - 4s 2ms/step - loss: 1.1136 - acc: 0.6871\n",
      "Epoch 128/500\n",
      "2100/2100 [==============================] - 4s 2ms/step - loss: 1.1135 - acc: 0.6843\n",
      "Epoch 129/500\n",
      "2100/2100 [==============================] - 4s 2ms/step - loss: 1.0880 - acc: 0.6662\n",
      "Epoch 130/500\n",
      "2100/2100 [==============================] - 4s 2ms/step - loss: 1.1076 - acc: 0.6838\n",
      "Epoch 131/500\n",
      "2100/2100 [==============================] - 4s 2ms/step - loss: 1.0796 - acc: 0.6962\n",
      "Epoch 132/500\n",
      "2100/2100 [==============================] - 4s 2ms/step - loss: 1.0631 - acc: 0.6871\n",
      "Epoch 133/500\n",
      "2100/2100 [==============================] - 4s 2ms/step - loss: 1.0721 - acc: 0.6929\n",
      "Epoch 134/500\n",
      "2100/2100 [==============================] - 4s 2ms/step - loss: 1.0926 - acc: 0.6743\n",
      "Epoch 135/500\n",
      "2100/2100 [==============================] - 4s 2ms/step - loss: 1.0041 - acc: 0.7186\n",
      "Epoch 136/500\n",
      "2100/2100 [==============================] - 4s 2ms/step - loss: 1.0067 - acc: 0.7048\n",
      "Epoch 137/500\n",
      "2100/2100 [==============================] - 4s 2ms/step - loss: 1.0093 - acc: 0.7100\n",
      "Epoch 138/500\n",
      "2100/2100 [==============================] - 4s 2ms/step - loss: 1.0150 - acc: 0.7019\n",
      "Epoch 139/500\n",
      "2100/2100 [==============================] - 4s 2ms/step - loss: 0.9757 - acc: 0.7152\n",
      "Epoch 140/500\n",
      "2100/2100 [==============================] - 4s 2ms/step - loss: 0.9900 - acc: 0.7124\n",
      "Epoch 141/500\n",
      "2100/2100 [==============================] - 4s 2ms/step - loss: 1.0018 - acc: 0.6981\n",
      "Epoch 142/500\n",
      "2100/2100 [==============================] - 4s 2ms/step - loss: 0.9893 - acc: 0.7081\n",
      "Epoch 143/500\n",
      "2100/2100 [==============================] - 4s 2ms/step - loss: 0.9597 - acc: 0.7243\n",
      "Epoch 144/500\n",
      "2100/2100 [==============================] - 4s 2ms/step - loss: 0.9666 - acc: 0.7062\n",
      "Epoch 145/500\n",
      "2100/2100 [==============================] - 4s 2ms/step - loss: 0.9377 - acc: 0.7195\n",
      "Epoch 146/500\n",
      "2100/2100 [==============================] - 4s 2ms/step - loss: 0.9341 - acc: 0.7310\n",
      "Epoch 147/500\n",
      "2100/2100 [==============================] - 4s 2ms/step - loss: 0.9041 - acc: 0.7310\n",
      "Epoch 148/500\n",
      "2100/2100 [==============================] - 4s 2ms/step - loss: 0.9024 - acc: 0.7352\n",
      "Epoch 149/500\n",
      "2100/2100 [==============================] - 4s 2ms/step - loss: 0.8976 - acc: 0.7300\n",
      "Epoch 150/500\n",
      "2100/2100 [==============================] - 4s 2ms/step - loss: 0.8724 - acc: 0.7467\n",
      "Epoch 151/500\n",
      "2100/2100 [==============================] - 4s 2ms/step - loss: 0.8983 - acc: 0.7333\n",
      "Epoch 152/500\n",
      "2100/2100 [==============================] - 4s 2ms/step - loss: 0.8846 - acc: 0.7386\n",
      "Epoch 153/500\n",
      "2100/2100 [==============================] - 4s 2ms/step - loss: 0.8561 - acc: 0.7495\n",
      "Epoch 154/500\n",
      "2100/2100 [==============================] - 4s 2ms/step - loss: 0.8526 - acc: 0.7448\n",
      "Epoch 155/500\n",
      "2100/2100 [==============================] - 4s 2ms/step - loss: 0.8477 - acc: 0.7481\n",
      "Epoch 156/500\n",
      "2100/2100 [==============================] - 4s 2ms/step - loss: 0.8334 - acc: 0.7500\n",
      "Epoch 157/500\n",
      "2100/2100 [==============================] - 4s 2ms/step - loss: 0.8110 - acc: 0.7543\n",
      "Epoch 158/500\n",
      "2100/2100 [==============================] - 4s 2ms/step - loss: 0.8447 - acc: 0.7395\n",
      "Epoch 159/500\n",
      "2100/2100 [==============================] - 4s 2ms/step - loss: 0.8408 - acc: 0.7524\n",
      "Epoch 160/500\n",
      "2100/2100 [==============================] - 4s 2ms/step - loss: 0.7995 - acc: 0.7571\n",
      "Epoch 161/500\n",
      "2100/2100 [==============================] - 4s 2ms/step - loss: 0.7905 - acc: 0.7638\n",
      "Epoch 162/500\n",
      "2100/2100 [==============================] - 4s 2ms/step - loss: 0.8109 - acc: 0.7538\n",
      "Epoch 163/500\n",
      "2100/2100 [==============================] - 4s 2ms/step - loss: 0.7979 - acc: 0.7643\n",
      "Epoch 164/500\n",
      "2100/2100 [==============================] - 4s 2ms/step - loss: 0.8024 - acc: 0.7648\n",
      "Epoch 165/500\n",
      "2100/2100 [==============================] - 4s 2ms/step - loss: 0.7908 - acc: 0.7657\n",
      "Epoch 166/500\n",
      "2100/2100 [==============================] - 4s 2ms/step - loss: 0.7502 - acc: 0.7724\n",
      "Epoch 167/500\n",
      "2100/2100 [==============================] - 4s 2ms/step - loss: 0.7414 - acc: 0.7833\n",
      "Epoch 168/500\n",
      "2100/2100 [==============================] - 4s 2ms/step - loss: 0.7561 - acc: 0.7714\n",
      "Epoch 169/500\n",
      "2100/2100 [==============================] - 4s 2ms/step - loss: 0.7396 - acc: 0.7824\n",
      "Epoch 170/500\n",
      "2100/2100 [==============================] - 4s 2ms/step - loss: 0.7842 - acc: 0.7562\n",
      "Epoch 171/500\n",
      "2100/2100 [==============================] - 4s 2ms/step - loss: 0.7498 - acc: 0.7710\n",
      "Epoch 172/500\n",
      "2100/2100 [==============================] - 4s 2ms/step - loss: 0.7491 - acc: 0.7757\n",
      "Epoch 173/500\n",
      "2100/2100 [==============================] - 4s 2ms/step - loss: 0.7574 - acc: 0.7695\n",
      "Epoch 174/500\n",
      "2100/2100 [==============================] - 4s 2ms/step - loss: 0.7646 - acc: 0.7652\n",
      "Epoch 175/500\n",
      "2100/2100 [==============================] - 4s 2ms/step - loss: 0.7470 - acc: 0.7752\n",
      "Epoch 176/500\n",
      "2100/2100 [==============================] - 4s 2ms/step - loss: 0.7493 - acc: 0.7719\n",
      "Epoch 177/500\n",
      "2100/2100 [==============================] - 4s 2ms/step - loss: 0.7097 - acc: 0.7781\n",
      "Epoch 178/500\n",
      "2100/2100 [==============================] - 4s 2ms/step - loss: 0.7077 - acc: 0.7895\n",
      "Epoch 179/500\n",
      "2100/2100 [==============================] - 4s 2ms/step - loss: 0.7147 - acc: 0.7843\n",
      "Epoch 180/500\n",
      "2100/2100 [==============================] - 4s 2ms/step - loss: 0.6881 - acc: 0.7948\n",
      "Epoch 181/500\n",
      "2100/2100 [==============================] - 4s 2ms/step - loss: 0.7045 - acc: 0.7819\n",
      "Epoch 182/500\n",
      "2100/2100 [==============================] - 4s 2ms/step - loss: 0.7007 - acc: 0.7843\n",
      "Epoch 183/500\n",
      "2100/2100 [==============================] - 4s 2ms/step - loss: 0.6808 - acc: 0.8014\n",
      "Epoch 184/500\n",
      "2100/2100 [==============================] - 4s 2ms/step - loss: 0.7416 - acc: 0.7671\n",
      "Epoch 185/500\n",
      "2100/2100 [==============================] - 4s 2ms/step - loss: 0.7188 - acc: 0.7781\n",
      "Epoch 186/500\n",
      "2100/2100 [==============================] - 4s 2ms/step - loss: 0.6896 - acc: 0.7914\n",
      "Epoch 187/500\n",
      "2100/2100 [==============================] - 4s 2ms/step - loss: 0.6805 - acc: 0.7929\n",
      "Epoch 188/500\n",
      "2100/2100 [==============================] - 4s 2ms/step - loss: 0.6869 - acc: 0.7881\n",
      "Epoch 189/500\n",
      "2100/2100 [==============================] - 4s 2ms/step - loss: 0.6891 - acc: 0.7881\n",
      "Epoch 190/500\n",
      "2100/2100 [==============================] - 4s 2ms/step - loss: 0.6356 - acc: 0.7976\n",
      "Epoch 191/500\n",
      "2100/2100 [==============================] - 4s 2ms/step - loss: 0.6570 - acc: 0.8052\n",
      "Epoch 192/500\n",
      "2100/2100 [==============================] - 4s 2ms/step - loss: 0.6561 - acc: 0.7876\n",
      "Epoch 193/500\n",
      "2100/2100 [==============================] - 4s 2ms/step - loss: 0.6072 - acc: 0.8095\n",
      "Epoch 194/500\n",
      "2100/2100 [==============================] - 4s 2ms/step - loss: 0.6336 - acc: 0.8105\n",
      "Epoch 195/500\n",
      "2100/2100 [==============================] - 4s 2ms/step - loss: 0.6305 - acc: 0.8024\n",
      "Epoch 196/500\n",
      "2100/2100 [==============================] - 4s 2ms/step - loss: 0.6459 - acc: 0.7976\n",
      "Epoch 197/500\n",
      "2100/2100 [==============================] - 4s 2ms/step - loss: 0.6534 - acc: 0.7948\n",
      "Epoch 198/500\n",
      "2100/2100 [==============================] - 4s 2ms/step - loss: 0.6219 - acc: 0.8129\n",
      "Epoch 199/500\n",
      "2100/2100 [==============================] - 4s 2ms/step - loss: 0.6572 - acc: 0.7857\n",
      "Epoch 200/500\n",
      "2100/2100 [==============================] - 4s 2ms/step - loss: 0.6043 - acc: 0.8224\n",
      "Epoch 201/500\n",
      "2100/2100 [==============================] - 4s 2ms/step - loss: 0.6231 - acc: 0.8038\n",
      "Epoch 202/500\n",
      "2100/2100 [==============================] - 4s 2ms/step - loss: 0.6072 - acc: 0.8090\n",
      "Epoch 203/500\n",
      "2100/2100 [==============================] - 4s 2ms/step - loss: 0.6354 - acc: 0.8038\n",
      "Epoch 204/500\n",
      "2100/2100 [==============================] - 4s 2ms/step - loss: 0.5982 - acc: 0.8071\n",
      "Epoch 205/500\n",
      "2100/2100 [==============================] - 4s 2ms/step - loss: 0.6075 - acc: 0.8138\n",
      "Epoch 206/500\n",
      "2100/2100 [==============================] - 4s 2ms/step - loss: 0.6207 - acc: 0.8124\n",
      "Epoch 207/500\n",
      "2100/2100 [==============================] - 4s 2ms/step - loss: 0.6711 - acc: 0.8019\n",
      "Epoch 208/500\n",
      "2100/2100 [==============================] - 4s 2ms/step - loss: 0.5810 - acc: 0.8262\n",
      "Epoch 209/500\n",
      "2100/2100 [==============================] - 4s 2ms/step - loss: 0.5934 - acc: 0.8129\n",
      "Epoch 210/500\n",
      "2100/2100 [==============================] - 4s 2ms/step - loss: 0.5791 - acc: 0.8233\n",
      "Epoch 211/500\n",
      "2100/2100 [==============================] - 4s 2ms/step - loss: 0.5744 - acc: 0.8229\n",
      "Epoch 212/500\n",
      "2100/2100 [==============================] - 4s 2ms/step - loss: 0.5612 - acc: 0.8219\n",
      "Epoch 213/500\n",
      "2100/2100 [==============================] - 4s 2ms/step - loss: 0.5645 - acc: 0.8252\n",
      "Epoch 214/500\n",
      "2100/2100 [==============================] - 4s 2ms/step - loss: 0.5822 - acc: 0.8181\n",
      "Epoch 215/500\n",
      "2100/2100 [==============================] - 4s 2ms/step - loss: 0.5947 - acc: 0.8071\n",
      "Epoch 216/500\n",
      "2100/2100 [==============================] - 4s 2ms/step - loss: 0.5618 - acc: 0.8243\n",
      "Epoch 217/500\n",
      "2100/2100 [==============================] - 4s 2ms/step - loss: 0.5818 - acc: 0.8176\n",
      "Epoch 218/500\n",
      "2100/2100 [==============================] - 4s 2ms/step - loss: 0.5823 - acc: 0.8148\n",
      "Epoch 219/500\n",
      "2100/2100 [==============================] - 4s 2ms/step - loss: 0.5180 - acc: 0.8405\n",
      "Epoch 220/500\n",
      "2100/2100 [==============================] - 4s 2ms/step - loss: 0.5246 - acc: 0.8324\n",
      "Epoch 221/500\n",
      "2100/2100 [==============================] - 4s 2ms/step - loss: 0.5808 - acc: 0.8171\n",
      "Epoch 222/500\n",
      "2100/2100 [==============================] - 4s 2ms/step - loss: 0.5676 - acc: 0.8152\n",
      "Epoch 223/500\n",
      "2100/2100 [==============================] - 4s 2ms/step - loss: 0.5386 - acc: 0.8343\n",
      "Epoch 224/500\n",
      "2100/2100 [==============================] - 4s 2ms/step - loss: 0.5313 - acc: 0.8333\n",
      "Epoch 225/500\n",
      "2100/2100 [==============================] - 4s 2ms/step - loss: 0.5394 - acc: 0.8295\n",
      "Epoch 226/500\n",
      "2100/2100 [==============================] - 4s 2ms/step - loss: 0.5336 - acc: 0.8357\n",
      "Epoch 227/500\n",
      "2100/2100 [==============================] - 4s 2ms/step - loss: 0.5203 - acc: 0.8319\n",
      "Epoch 228/500\n",
      "2100/2100 [==============================] - 4s 2ms/step - loss: 0.5535 - acc: 0.8252\n",
      "Epoch 229/500\n",
      "2100/2100 [==============================] - 4s 2ms/step - loss: 0.5220 - acc: 0.8376\n",
      "Epoch 230/500\n",
      "2100/2100 [==============================] - 4s 2ms/step - loss: 0.5247 - acc: 0.8371\n",
      "Epoch 231/500\n",
      "2100/2100 [==============================] - 4s 2ms/step - loss: 0.5509 - acc: 0.8271\n",
      "Epoch 232/500\n",
      "2100/2100 [==============================] - 4s 2ms/step - loss: 0.5218 - acc: 0.8333\n",
      "Epoch 233/500\n",
      "2100/2100 [==============================] - 4s 2ms/step - loss: 0.5121 - acc: 0.8348\n",
      "Epoch 234/500\n",
      "2100/2100 [==============================] - 4s 2ms/step - loss: 0.5081 - acc: 0.8471\n",
      "Epoch 235/500\n",
      "2100/2100 [==============================] - 4s 2ms/step - loss: 0.5036 - acc: 0.8386\n",
      "Epoch 236/500\n",
      "2100/2100 [==============================] - 4s 2ms/step - loss: 0.5211 - acc: 0.8286\n",
      "Epoch 237/500\n",
      "2100/2100 [==============================] - 4s 2ms/step - loss: 0.4936 - acc: 0.8486\n",
      "Epoch 238/500\n",
      "2100/2100 [==============================] - 4s 2ms/step - loss: 0.5146 - acc: 0.8362\n",
      "Epoch 239/500\n",
      "2100/2100 [==============================] - 4s 2ms/step - loss: 0.5166 - acc: 0.8367\n",
      "Epoch 240/500\n",
      "2100/2100 [==============================] - 4s 2ms/step - loss: 0.5371 - acc: 0.8229\n",
      "Epoch 241/500\n",
      "2100/2100 [==============================] - 4s 2ms/step - loss: 0.4790 - acc: 0.8481\n",
      "Epoch 242/500\n",
      "2100/2100 [==============================] - 4s 2ms/step - loss: 0.5240 - acc: 0.8290\n",
      "Epoch 243/500\n",
      "2100/2100 [==============================] - 4s 2ms/step - loss: 0.4980 - acc: 0.8467\n",
      "Epoch 244/500\n",
      "2100/2100 [==============================] - 4s 2ms/step - loss: 0.5373 - acc: 0.8314\n",
      "Epoch 245/500\n",
      "2100/2100 [==============================] - 4s 2ms/step - loss: 0.4766 - acc: 0.8433\n",
      "Epoch 246/500\n",
      "2100/2100 [==============================] - 4s 2ms/step - loss: 0.5027 - acc: 0.8352\n",
      "Epoch 247/500\n",
      "2100/2100 [==============================] - 4s 2ms/step - loss: 0.5195 - acc: 0.8390\n",
      "Epoch 248/500\n",
      "2100/2100 [==============================] - 4s 2ms/step - loss: 0.4885 - acc: 0.8457\n",
      "Epoch 249/500\n",
      "2100/2100 [==============================] - 4s 2ms/step - loss: 0.4646 - acc: 0.8552\n",
      "Epoch 250/500\n",
      "2100/2100 [==============================] - 4s 2ms/step - loss: 0.4746 - acc: 0.8519\n",
      "Epoch 251/500\n",
      "2100/2100 [==============================] - 4s 2ms/step - loss: 0.4311 - acc: 0.8605\n",
      "Epoch 252/500\n",
      "2100/2100 [==============================] - 4s 2ms/step - loss: 0.4434 - acc: 0.8676\n",
      "Epoch 253/500\n",
      "2100/2100 [==============================] - 4s 2ms/step - loss: 0.4702 - acc: 0.8471\n",
      "Epoch 254/500\n",
      "2100/2100 [==============================] - 4s 2ms/step - loss: 0.4504 - acc: 0.8562\n",
      "Epoch 255/500\n",
      "2100/2100 [==============================] - 4s 2ms/step - loss: 0.4701 - acc: 0.8495\n",
      "Epoch 256/500\n",
      "2100/2100 [==============================] - 4s 2ms/step - loss: 0.4557 - acc: 0.8562\n",
      "Epoch 257/500\n",
      "2100/2100 [==============================] - 4s 2ms/step - loss: 0.4634 - acc: 0.8600\n",
      "Epoch 258/500\n",
      "2100/2100 [==============================] - 4s 2ms/step - loss: 0.4550 - acc: 0.8586\n",
      "Epoch 259/500\n",
      "2100/2100 [==============================] - 4s 2ms/step - loss: 0.4627 - acc: 0.8524\n",
      "Epoch 260/500\n",
      "2100/2100 [==============================] - 4s 2ms/step - loss: 0.4266 - acc: 0.8643\n",
      "Epoch 261/500\n",
      "2100/2100 [==============================] - 4s 2ms/step - loss: 0.4467 - acc: 0.8562\n",
      "Epoch 262/500\n",
      "2100/2100 [==============================] - 4s 2ms/step - loss: 0.4673 - acc: 0.8524\n",
      "Epoch 263/500\n",
      "2100/2100 [==============================] - 4s 2ms/step - loss: 0.4768 - acc: 0.8457\n",
      "Epoch 264/500\n",
      "2100/2100 [==============================] - 4s 2ms/step - loss: 0.4789 - acc: 0.8476\n",
      "Epoch 265/500\n",
      "2100/2100 [==============================] - 4s 2ms/step - loss: 0.4664 - acc: 0.8505\n",
      "Epoch 266/500\n",
      "2100/2100 [==============================] - 4s 2ms/step - loss: 0.4559 - acc: 0.8548\n",
      "Epoch 267/500\n",
      "2100/2100 [==============================] - 4s 2ms/step - loss: 0.4886 - acc: 0.8481\n",
      "Epoch 268/500\n",
      "2100/2100 [==============================] - 4s 2ms/step - loss: 0.4254 - acc: 0.8643\n",
      "Epoch 269/500\n",
      "2100/2100 [==============================] - 4s 2ms/step - loss: 0.4248 - acc: 0.8686\n",
      "Epoch 270/500\n",
      "2100/2100 [==============================] - 4s 2ms/step - loss: 0.4624 - acc: 0.8448\n",
      "Epoch 271/500\n",
      "2100/2100 [==============================] - 4s 2ms/step - loss: 0.4295 - acc: 0.8648\n",
      "Epoch 272/500\n",
      "2100/2100 [==============================] - 4s 2ms/step - loss: 0.4440 - acc: 0.8624\n",
      "Epoch 273/500\n",
      "2100/2100 [==============================] - 4s 2ms/step - loss: 0.4369 - acc: 0.8671\n",
      "Epoch 274/500\n",
      "2100/2100 [==============================] - 4s 2ms/step - loss: 0.4249 - acc: 0.8657\n",
      "Epoch 275/500\n",
      "2100/2100 [==============================] - 4s 2ms/step - loss: 0.4318 - acc: 0.8690\n",
      "Epoch 276/500\n",
      "2100/2100 [==============================] - 4s 2ms/step - loss: 0.4531 - acc: 0.8643\n",
      "Epoch 277/500\n",
      "2100/2100 [==============================] - 4s 2ms/step - loss: 0.4497 - acc: 0.8543\n",
      "Epoch 278/500\n",
      "2100/2100 [==============================] - 4s 2ms/step - loss: 0.4416 - acc: 0.8595\n",
      "Epoch 279/500\n",
      "2100/2100 [==============================] - 4s 2ms/step - loss: 0.4114 - acc: 0.8681\n",
      "Epoch 280/500\n",
      "2100/2100 [==============================] - 4s 2ms/step - loss: 0.4749 - acc: 0.8429\n",
      "Epoch 281/500\n",
      "2100/2100 [==============================] - 4s 2ms/step - loss: 0.4363 - acc: 0.8643\n",
      "Epoch 282/500\n",
      "2100/2100 [==============================] - 4s 2ms/step - loss: 0.4499 - acc: 0.8600\n",
      "Epoch 283/500\n",
      "2100/2100 [==============================] - 4s 2ms/step - loss: 0.4115 - acc: 0.8676\n",
      "Epoch 284/500\n",
      "2100/2100 [==============================] - 4s 2ms/step - loss: 0.4247 - acc: 0.8643\n",
      "Epoch 285/500\n",
      "2100/2100 [==============================] - 4s 2ms/step - loss: 0.4162 - acc: 0.8633\n",
      "Epoch 286/500\n",
      "2100/2100 [==============================] - 4s 2ms/step - loss: 0.4121 - acc: 0.8681\n",
      "Epoch 287/500\n",
      "2100/2100 [==============================] - 4s 2ms/step - loss: 0.4228 - acc: 0.8614\n",
      "Epoch 288/500\n",
      "2100/2100 [==============================] - 4s 2ms/step - loss: 0.4198 - acc: 0.8671\n",
      "Epoch 289/500\n",
      "2100/2100 [==============================] - 4s 2ms/step - loss: 0.4157 - acc: 0.8686\n",
      "Epoch 290/500\n",
      "2100/2100 [==============================] - 4s 2ms/step - loss: 0.4464 - acc: 0.8600\n",
      "Epoch 291/500\n",
      "2100/2100 [==============================] - 4s 2ms/step - loss: 0.3918 - acc: 0.8795\n",
      "Epoch 292/500\n",
      "2100/2100 [==============================] - 4s 2ms/step - loss: 0.4206 - acc: 0.8686\n",
      "Epoch 293/500\n",
      "2100/2100 [==============================] - 4s 2ms/step - loss: 0.4231 - acc: 0.8619\n",
      "Epoch 294/500\n",
      "2100/2100 [==============================] - 4s 2ms/step - loss: 0.4220 - acc: 0.8629\n",
      "Epoch 295/500\n",
      "2100/2100 [==============================] - 4s 2ms/step - loss: 0.3763 - acc: 0.8771\n",
      "Epoch 296/500\n",
      "2100/2100 [==============================] - 4s 2ms/step - loss: 0.3841 - acc: 0.8657\n",
      "Epoch 297/500\n",
      "2100/2100 [==============================] - 4s 2ms/step - loss: 0.3669 - acc: 0.8833\n",
      "Epoch 298/500\n",
      "2100/2100 [==============================] - 4s 2ms/step - loss: 0.3975 - acc: 0.8776\n",
      "Epoch 299/500\n",
      "2100/2100 [==============================] - 4s 2ms/step - loss: 0.3824 - acc: 0.8771\n",
      "Epoch 300/500\n",
      "2100/2100 [==============================] - 4s 2ms/step - loss: 0.4178 - acc: 0.8667\n",
      "Epoch 301/500\n",
      "2100/2100 [==============================] - 4s 2ms/step - loss: 0.3983 - acc: 0.8705\n",
      "Epoch 302/500\n",
      "2100/2100 [==============================] - 4s 2ms/step - loss: 0.3738 - acc: 0.8843\n",
      "Epoch 303/500\n",
      "2100/2100 [==============================] - 4s 2ms/step - loss: 0.3973 - acc: 0.8748\n",
      "Epoch 304/500\n",
      "2100/2100 [==============================] - 4s 2ms/step - loss: 0.4545 - acc: 0.8538\n",
      "Epoch 305/500\n",
      "2100/2100 [==============================] - 4s 2ms/step - loss: 0.3947 - acc: 0.8762\n",
      "Epoch 306/500\n",
      "2100/2100 [==============================] - 4s 2ms/step - loss: 0.3859 - acc: 0.8729\n",
      "Epoch 307/500\n",
      "2100/2100 [==============================] - 4s 2ms/step - loss: 0.4052 - acc: 0.8743\n",
      "Epoch 308/500\n",
      "2100/2100 [==============================] - 4s 2ms/step - loss: 0.3787 - acc: 0.8733\n",
      "Epoch 309/500\n",
      "2100/2100 [==============================] - 4s 2ms/step - loss: 0.3708 - acc: 0.8795\n",
      "Epoch 310/500\n",
      "2100/2100 [==============================] - 4s 2ms/step - loss: 0.3881 - acc: 0.8671\n",
      "Epoch 311/500\n",
      "2100/2100 [==============================] - 4s 2ms/step - loss: 0.3929 - acc: 0.8752\n",
      "Epoch 312/500\n",
      "2100/2100 [==============================] - 4s 2ms/step - loss: 0.3627 - acc: 0.8814\n",
      "Epoch 313/500\n",
      "2100/2100 [==============================] - 4s 2ms/step - loss: 0.3754 - acc: 0.8738\n",
      "Epoch 314/500\n",
      "2100/2100 [==============================] - 4s 2ms/step - loss: 0.3841 - acc: 0.8762\n",
      "Epoch 315/500\n",
      "2100/2100 [==============================] - 4s 2ms/step - loss: 0.3682 - acc: 0.8848\n",
      "Epoch 316/500\n",
      "2100/2100 [==============================] - 4s 2ms/step - loss: 0.3584 - acc: 0.8871\n",
      "Epoch 317/500\n",
      "2100/2100 [==============================] - 4s 2ms/step - loss: 0.3537 - acc: 0.8810\n",
      "Epoch 318/500\n",
      "2100/2100 [==============================] - 4s 2ms/step - loss: 0.3751 - acc: 0.8824\n",
      "Epoch 319/500\n",
      "2100/2100 [==============================] - 4s 2ms/step - loss: 0.3744 - acc: 0.8795\n",
      "Epoch 320/500\n",
      "2100/2100 [==============================] - 4s 2ms/step - loss: 0.3646 - acc: 0.8829\n",
      "Epoch 321/500\n",
      "2100/2100 [==============================] - 4s 2ms/step - loss: 0.3820 - acc: 0.8743\n",
      "Epoch 322/500\n",
      "2100/2100 [==============================] - 4s 2ms/step - loss: 0.3727 - acc: 0.8748\n",
      "Epoch 323/500\n",
      "2100/2100 [==============================] - 4s 2ms/step - loss: 0.3634 - acc: 0.8771\n",
      "Epoch 324/500\n",
      "2100/2100 [==============================] - 4s 2ms/step - loss: 0.3442 - acc: 0.8857\n",
      "Epoch 325/500\n",
      "2100/2100 [==============================] - 4s 2ms/step - loss: 0.3679 - acc: 0.8810\n",
      "Epoch 326/500\n",
      "2100/2100 [==============================] - 4s 2ms/step - loss: 0.3682 - acc: 0.8776\n",
      "Epoch 327/500\n",
      "2100/2100 [==============================] - 4s 2ms/step - loss: 0.3502 - acc: 0.8824\n",
      "Epoch 328/500\n",
      "2100/2100 [==============================] - 4s 2ms/step - loss: 0.3625 - acc: 0.8838\n",
      "Epoch 329/500\n",
      "2100/2100 [==============================] - 4s 2ms/step - loss: 0.3634 - acc: 0.8767\n",
      "Epoch 330/500\n",
      "2100/2100 [==============================] - 4s 2ms/step - loss: 0.3603 - acc: 0.8843\n",
      "Epoch 331/500\n",
      "2100/2100 [==============================] - 4s 2ms/step - loss: 0.3774 - acc: 0.8810\n",
      "Epoch 332/500\n",
      "2100/2100 [==============================] - 4s 2ms/step - loss: 0.3394 - acc: 0.8957\n",
      "Epoch 333/500\n",
      "2100/2100 [==============================] - 4s 2ms/step - loss: 0.3779 - acc: 0.8776\n",
      "Epoch 334/500\n",
      "2100/2100 [==============================] - 4s 2ms/step - loss: 0.4032 - acc: 0.8695\n",
      "Epoch 335/500\n",
      "2100/2100 [==============================] - 4s 2ms/step - loss: 0.3504 - acc: 0.8867\n",
      "Epoch 336/500\n",
      "2100/2100 [==============================] - 4s 2ms/step - loss: 0.3531 - acc: 0.8857\n",
      "Epoch 337/500\n",
      "2100/2100 [==============================] - 4s 2ms/step - loss: 0.3375 - acc: 0.8852\n",
      "Epoch 338/500\n",
      "2100/2100 [==============================] - 4s 2ms/step - loss: 0.3569 - acc: 0.8895\n",
      "Epoch 339/500\n",
      "2100/2100 [==============================] - 4s 2ms/step - loss: 0.3801 - acc: 0.8838\n",
      "Epoch 340/500\n",
      "2100/2100 [==============================] - 4s 2ms/step - loss: 0.3486 - acc: 0.8838\n",
      "Epoch 341/500\n",
      "2100/2100 [==============================] - 4s 2ms/step - loss: 0.3548 - acc: 0.8886\n",
      "Epoch 342/500\n",
      "2100/2100 [==============================] - 4s 2ms/step - loss: 0.3622 - acc: 0.8848\n",
      "Epoch 343/500\n",
      "2100/2100 [==============================] - 4s 2ms/step - loss: 0.3561 - acc: 0.8805\n",
      "Epoch 344/500\n",
      "2100/2100 [==============================] - 4s 2ms/step - loss: 0.3404 - acc: 0.8876\n",
      "Epoch 345/500\n",
      "2100/2100 [==============================] - 4s 2ms/step - loss: 0.3239 - acc: 0.8995\n",
      "Epoch 346/500\n",
      "2100/2100 [==============================] - 4s 2ms/step - loss: 0.3356 - acc: 0.8914\n",
      "Epoch 347/500\n",
      "2100/2100 [==============================] - 4s 2ms/step - loss: 0.3600 - acc: 0.8762\n",
      "Epoch 348/500\n",
      "2100/2100 [==============================] - 4s 2ms/step - loss: 0.3433 - acc: 0.8833\n",
      "Epoch 349/500\n",
      "2100/2100 [==============================] - 4s 2ms/step - loss: 0.3430 - acc: 0.8886\n",
      "Epoch 350/500\n",
      "2100/2100 [==============================] - 4s 2ms/step - loss: 0.3650 - acc: 0.8743\n",
      "Epoch 351/500\n",
      "2100/2100 [==============================] - 4s 2ms/step - loss: 0.3435 - acc: 0.8871\n",
      "Epoch 352/500\n",
      "2100/2100 [==============================] - 4s 2ms/step - loss: 0.3363 - acc: 0.8910\n",
      "Epoch 353/500\n",
      "2100/2100 [==============================] - 4s 2ms/step - loss: 0.3326 - acc: 0.8895\n",
      "Epoch 354/500\n",
      "2100/2100 [==============================] - 4s 2ms/step - loss: 0.3637 - acc: 0.8838\n",
      "Epoch 355/500\n",
      "2100/2100 [==============================] - 4s 2ms/step - loss: 0.2908 - acc: 0.9024\n",
      "Epoch 356/500\n",
      "2100/2100 [==============================] - 4s 2ms/step - loss: 0.3646 - acc: 0.8790\n",
      "Epoch 357/500\n",
      "2100/2100 [==============================] - 4s 2ms/step - loss: 0.3512 - acc: 0.8814\n",
      "Epoch 358/500\n",
      "2100/2100 [==============================] - 4s 2ms/step - loss: 0.3288 - acc: 0.8910\n",
      "Epoch 359/500\n",
      "2100/2100 [==============================] - 4s 2ms/step - loss: 0.3165 - acc: 0.9000\n",
      "Epoch 360/500\n",
      "2100/2100 [==============================] - 4s 2ms/step - loss: 0.3090 - acc: 0.8924\n",
      "Epoch 361/500\n",
      "2100/2100 [==============================] - 4s 2ms/step - loss: 0.3338 - acc: 0.8962\n",
      "Epoch 362/500\n",
      "2100/2100 [==============================] - 4s 2ms/step - loss: 0.3487 - acc: 0.8810\n",
      "Epoch 363/500\n",
      "2100/2100 [==============================] - 4s 2ms/step - loss: 0.3216 - acc: 0.8895\n",
      "Epoch 364/500\n",
      "2100/2100 [==============================] - 4s 2ms/step - loss: 0.2931 - acc: 0.9071\n",
      "Epoch 365/500\n",
      "2100/2100 [==============================] - 4s 2ms/step - loss: 0.3351 - acc: 0.8819\n",
      "Epoch 366/500\n",
      "2100/2100 [==============================] - 4s 2ms/step - loss: 0.3179 - acc: 0.8910\n",
      "Epoch 367/500\n",
      "2100/2100 [==============================] - 4s 2ms/step - loss: 0.3354 - acc: 0.8962\n",
      "Epoch 368/500\n",
      "2100/2100 [==============================] - 4s 2ms/step - loss: 0.3382 - acc: 0.8886\n",
      "Epoch 369/500\n",
      "2100/2100 [==============================] - 4s 2ms/step - loss: 0.3377 - acc: 0.8881\n",
      "Epoch 370/500\n",
      "2100/2100 [==============================] - 4s 2ms/step - loss: 0.3131 - acc: 0.8914\n",
      "Epoch 371/500\n",
      "2100/2100 [==============================] - 4s 2ms/step - loss: 0.3135 - acc: 0.8962\n",
      "Epoch 372/500\n",
      "2100/2100 [==============================] - 4s 2ms/step - loss: 0.3237 - acc: 0.8919\n",
      "Epoch 373/500\n",
      "2100/2100 [==============================] - 4s 2ms/step - loss: 0.3230 - acc: 0.8881\n",
      "Epoch 374/500\n",
      "2100/2100 [==============================] - 4s 2ms/step - loss: 0.3324 - acc: 0.8924\n",
      "Epoch 375/500\n",
      "2100/2100 [==============================] - 4s 2ms/step - loss: 0.3135 - acc: 0.9005\n",
      "Epoch 376/500\n",
      "2100/2100 [==============================] - 4s 2ms/step - loss: 0.3051 - acc: 0.8976\n",
      "Epoch 377/500\n",
      "2100/2100 [==============================] - 4s 2ms/step - loss: 0.3352 - acc: 0.8871\n",
      "Epoch 378/500\n",
      "2100/2100 [==============================] - 4s 2ms/step - loss: 0.3289 - acc: 0.8895\n",
      "Epoch 379/500\n",
      "2100/2100 [==============================] - 4s 2ms/step - loss: 0.3008 - acc: 0.8971\n",
      "Epoch 380/500\n",
      "2100/2100 [==============================] - 4s 2ms/step - loss: 0.2899 - acc: 0.9048\n",
      "Epoch 381/500\n",
      "2100/2100 [==============================] - 4s 2ms/step - loss: 0.2972 - acc: 0.9029\n",
      "Epoch 382/500\n",
      "2100/2100 [==============================] - 4s 2ms/step - loss: 0.3245 - acc: 0.8924\n",
      "Epoch 383/500\n",
      "2100/2100 [==============================] - 4s 2ms/step - loss: 0.2906 - acc: 0.9024\n",
      "Epoch 384/500\n",
      "2100/2100 [==============================] - 4s 2ms/step - loss: 0.3354 - acc: 0.8895\n",
      "Epoch 385/500\n",
      "2100/2100 [==============================] - 4s 2ms/step - loss: 0.3023 - acc: 0.9043\n",
      "Epoch 386/500\n",
      "2100/2100 [==============================] - 4s 2ms/step - loss: 0.3174 - acc: 0.8938\n",
      "Epoch 387/500\n",
      "2100/2100 [==============================] - 4s 2ms/step - loss: 0.3092 - acc: 0.8910\n",
      "Epoch 388/500\n",
      "2100/2100 [==============================] - 4s 2ms/step - loss: 0.3150 - acc: 0.9010\n",
      "Epoch 389/500\n",
      "2100/2100 [==============================] - 4s 2ms/step - loss: 0.2948 - acc: 0.9010\n",
      "Epoch 390/500\n",
      "2100/2100 [==============================] - 4s 2ms/step - loss: 0.3009 - acc: 0.8995\n",
      "Epoch 391/500\n",
      "2100/2100 [==============================] - 4s 2ms/step - loss: 0.2723 - acc: 0.9100\n",
      "Epoch 392/500\n",
      "2100/2100 [==============================] - 4s 2ms/step - loss: 0.3049 - acc: 0.8943\n",
      "Epoch 393/500\n",
      "2100/2100 [==============================] - 4s 2ms/step - loss: 0.3058 - acc: 0.9000\n",
      "Epoch 394/500\n",
      "2100/2100 [==============================] - 4s 2ms/step - loss: 0.2841 - acc: 0.9062\n",
      "Epoch 395/500\n",
      "2100/2100 [==============================] - 4s 2ms/step - loss: 0.2701 - acc: 0.9114\n",
      "Epoch 396/500\n",
      "2100/2100 [==============================] - 4s 2ms/step - loss: 0.3010 - acc: 0.9043\n",
      "Epoch 397/500\n",
      "2100/2100 [==============================] - 4s 2ms/step - loss: 0.3212 - acc: 0.8886\n",
      "Epoch 398/500\n",
      "2100/2100 [==============================] - 4s 2ms/step - loss: 0.3070 - acc: 0.9000\n",
      "Epoch 399/500\n",
      "2100/2100 [==============================] - 4s 2ms/step - loss: 0.3047 - acc: 0.9000\n",
      "Epoch 400/500\n",
      "2100/2100 [==============================] - 4s 2ms/step - loss: 0.3130 - acc: 0.9000\n",
      "Epoch 401/500\n",
      "2100/2100 [==============================] - 4s 2ms/step - loss: 0.2806 - acc: 0.9067\n",
      "Epoch 402/500\n",
      "2100/2100 [==============================] - 4s 2ms/step - loss: 0.3199 - acc: 0.8943\n",
      "Epoch 403/500\n",
      "2100/2100 [==============================] - 4s 2ms/step - loss: 0.3134 - acc: 0.8924\n",
      "Epoch 404/500\n",
      "2100/2100 [==============================] - 4s 2ms/step - loss: 0.2941 - acc: 0.9019\n",
      "Epoch 405/500\n",
      "2100/2100 [==============================] - 4s 2ms/step - loss: 0.2820 - acc: 0.9052\n",
      "Epoch 406/500\n",
      "2100/2100 [==============================] - 4s 2ms/step - loss: 0.3325 - acc: 0.8910\n",
      "Epoch 407/500\n",
      "2100/2100 [==============================] - 4s 2ms/step - loss: 0.3163 - acc: 0.9052\n",
      "Epoch 408/500\n",
      "2100/2100 [==============================] - 4s 2ms/step - loss: 0.3101 - acc: 0.9014\n",
      "Epoch 409/500\n",
      "2100/2100 [==============================] - 4s 2ms/step - loss: 0.3078 - acc: 0.9005\n",
      "Epoch 410/500\n",
      "2100/2100 [==============================] - 4s 2ms/step - loss: 0.3008 - acc: 0.9000\n",
      "Epoch 411/500\n",
      "2100/2100 [==============================] - 4s 2ms/step - loss: 0.2798 - acc: 0.9029\n",
      "Epoch 412/500\n",
      "2100/2100 [==============================] - 4s 2ms/step - loss: 0.2861 - acc: 0.9048\n",
      "Epoch 413/500\n",
      "2100/2100 [==============================] - 4s 2ms/step - loss: 0.2745 - acc: 0.9100\n",
      "Epoch 414/500\n",
      "2100/2100 [==============================] - 4s 2ms/step - loss: 0.2875 - acc: 0.9062\n",
      "Epoch 415/500\n",
      "2100/2100 [==============================] - 4s 2ms/step - loss: 0.2908 - acc: 0.9081\n",
      "Epoch 416/500\n",
      "2100/2100 [==============================] - 4s 2ms/step - loss: 0.2760 - acc: 0.9014\n",
      "Epoch 417/500\n",
      "2100/2100 [==============================] - 4s 2ms/step - loss: 0.2913 - acc: 0.9038\n",
      "Epoch 418/500\n",
      "2100/2100 [==============================] - 4s 2ms/step - loss: 0.2863 - acc: 0.9081\n",
      "Epoch 419/500\n",
      "2100/2100 [==============================] - 4s 2ms/step - loss: 0.2765 - acc: 0.9105\n",
      "Epoch 420/500\n",
      "2100/2100 [==============================] - 4s 2ms/step - loss: 0.2910 - acc: 0.9019\n",
      "Epoch 421/500\n",
      "2100/2100 [==============================] - 4s 2ms/step - loss: 0.2947 - acc: 0.9062\n",
      "Epoch 422/500\n",
      "2100/2100 [==============================] - 4s 2ms/step - loss: 0.2968 - acc: 0.9029\n",
      "Epoch 423/500\n",
      "2100/2100 [==============================] - 4s 2ms/step - loss: 0.2963 - acc: 0.9071\n",
      "Epoch 424/500\n",
      "2100/2100 [==============================] - 4s 2ms/step - loss: 0.2831 - acc: 0.9119\n",
      "Epoch 425/500\n",
      "2100/2100 [==============================] - 4s 2ms/step - loss: 0.3008 - acc: 0.9000\n",
      "Epoch 426/500\n",
      "2100/2100 [==============================] - 4s 2ms/step - loss: 0.2647 - acc: 0.9062\n",
      "Epoch 427/500\n",
      "2100/2100 [==============================] - 4s 2ms/step - loss: 0.2816 - acc: 0.9019\n",
      "Epoch 428/500\n",
      "2100/2100 [==============================] - 4s 2ms/step - loss: 0.3043 - acc: 0.9024\n",
      "Epoch 429/500\n",
      "2100/2100 [==============================] - 4s 2ms/step - loss: 0.2946 - acc: 0.9010\n",
      "Epoch 430/500\n",
      "2100/2100 [==============================] - 4s 2ms/step - loss: 0.3003 - acc: 0.9076\n",
      "Epoch 431/500\n",
      "2100/2100 [==============================] - 4s 2ms/step - loss: 0.2905 - acc: 0.9048\n",
      "Epoch 432/500\n",
      "2100/2100 [==============================] - 4s 2ms/step - loss: 0.2739 - acc: 0.9114\n",
      "Epoch 433/500\n",
      "2100/2100 [==============================] - 4s 2ms/step - loss: 0.2501 - acc: 0.9181\n",
      "Epoch 434/500\n",
      "2100/2100 [==============================] - 4s 2ms/step - loss: 0.2785 - acc: 0.9000\n",
      "Epoch 435/500\n",
      "2100/2100 [==============================] - 4s 2ms/step - loss: 0.2749 - acc: 0.9124\n",
      "Epoch 436/500\n",
      "2100/2100 [==============================] - 4s 2ms/step - loss: 0.2603 - acc: 0.9157\n",
      "Epoch 437/500\n",
      "2100/2100 [==============================] - 4s 2ms/step - loss: 0.2692 - acc: 0.9076\n",
      "Epoch 438/500\n",
      "2100/2100 [==============================] - 4s 2ms/step - loss: 0.2681 - acc: 0.9143\n",
      "Epoch 439/500\n",
      "2100/2100 [==============================] - 4s 2ms/step - loss: 0.2899 - acc: 0.9062\n",
      "Epoch 440/500\n",
      "2100/2100 [==============================] - 4s 2ms/step - loss: 0.2807 - acc: 0.9067\n",
      "Epoch 441/500\n",
      "2100/2100 [==============================] - 4s 2ms/step - loss: 0.2928 - acc: 0.8929\n",
      "Epoch 442/500\n",
      "2100/2100 [==============================] - 4s 2ms/step - loss: 0.2989 - acc: 0.9019\n",
      "Epoch 443/500\n",
      "2100/2100 [==============================] - 4s 2ms/step - loss: 0.2645 - acc: 0.9133\n",
      "Epoch 444/500\n",
      "2100/2100 [==============================] - 4s 2ms/step - loss: 0.2820 - acc: 0.9081\n",
      "Epoch 445/500\n",
      "2100/2100 [==============================] - 4s 2ms/step - loss: 0.2923 - acc: 0.9048\n",
      "Epoch 446/500\n",
      "2100/2100 [==============================] - 4s 2ms/step - loss: 0.2655 - acc: 0.9081\n",
      "Epoch 447/500\n",
      "2100/2100 [==============================] - 4s 2ms/step - loss: 0.2771 - acc: 0.9086\n",
      "Epoch 448/500\n",
      "2100/2100 [==============================] - 4s 2ms/step - loss: 0.2647 - acc: 0.9114\n",
      "Epoch 449/500\n",
      "2100/2100 [==============================] - 4s 2ms/step - loss: 0.2673 - acc: 0.9057\n",
      "Epoch 450/500\n",
      "2100/2100 [==============================] - 4s 2ms/step - loss: 0.2512 - acc: 0.9138\n",
      "Epoch 451/500\n",
      "2100/2100 [==============================] - 4s 2ms/step - loss: 0.2839 - acc: 0.9052\n",
      "Epoch 452/500\n",
      "2100/2100 [==============================] - 4s 2ms/step - loss: 0.2535 - acc: 0.9138\n",
      "Epoch 453/500\n",
      "2100/2100 [==============================] - 4s 2ms/step - loss: 0.2910 - acc: 0.9014\n",
      "Epoch 454/500\n",
      "2100/2100 [==============================] - 4s 2ms/step - loss: 0.2694 - acc: 0.9162\n",
      "Epoch 455/500\n",
      "2100/2100 [==============================] - 4s 2ms/step - loss: 0.2883 - acc: 0.9081\n",
      "Epoch 456/500\n",
      "2100/2100 [==============================] - 4s 2ms/step - loss: 0.2781 - acc: 0.9081\n",
      "Epoch 457/500\n",
      "2100/2100 [==============================] - 4s 2ms/step - loss: 0.2652 - acc: 0.9095\n",
      "Epoch 458/500\n",
      "2100/2100 [==============================] - 4s 2ms/step - loss: 0.2668 - acc: 0.9086\n",
      "Epoch 459/500\n",
      "2100/2100 [==============================] - 4s 2ms/step - loss: 0.2541 - acc: 0.9148\n",
      "Epoch 460/500\n",
      "2100/2100 [==============================] - 4s 2ms/step - loss: 0.2836 - acc: 0.9033\n",
      "Epoch 461/500\n",
      "2100/2100 [==============================] - 4s 2ms/step - loss: 0.2689 - acc: 0.9119\n",
      "Epoch 462/500\n",
      "2100/2100 [==============================] - 4s 2ms/step - loss: 0.2762 - acc: 0.9100\n",
      "Epoch 463/500\n",
      "2100/2100 [==============================] - 4s 2ms/step - loss: 0.2996 - acc: 0.9052\n",
      "Epoch 464/500\n",
      "2100/2100 [==============================] - 4s 2ms/step - loss: 0.2620 - acc: 0.9167\n",
      "Epoch 465/500\n",
      "2100/2100 [==============================] - 4s 2ms/step - loss: 0.2753 - acc: 0.9114\n",
      "Epoch 466/500\n",
      "2100/2100 [==============================] - 4s 2ms/step - loss: 0.2621 - acc: 0.9110\n",
      "Epoch 467/500\n",
      "2100/2100 [==============================] - 4s 2ms/step - loss: 0.2507 - acc: 0.9214\n",
      "Epoch 468/500\n",
      "2100/2100 [==============================] - 4s 2ms/step - loss: 0.2563 - acc: 0.9171\n",
      "Epoch 469/500\n",
      "2100/2100 [==============================] - 4s 2ms/step - loss: 0.2614 - acc: 0.9076\n",
      "Epoch 470/500\n",
      "2100/2100 [==============================] - 4s 2ms/step - loss: 0.2689 - acc: 0.9043\n",
      "Epoch 471/500\n",
      "2100/2100 [==============================] - 4s 2ms/step - loss: 0.2283 - acc: 0.9243\n",
      "Epoch 472/500\n",
      "2100/2100 [==============================] - 4s 2ms/step - loss: 0.2717 - acc: 0.9081\n",
      "Epoch 473/500\n",
      "2100/2100 [==============================] - 4s 2ms/step - loss: 0.2470 - acc: 0.9190\n",
      "Epoch 474/500\n",
      "2100/2100 [==============================] - 4s 2ms/step - loss: 0.2461 - acc: 0.9167\n",
      "Epoch 475/500\n",
      "2100/2100 [==============================] - 4s 2ms/step - loss: 0.2548 - acc: 0.9143\n",
      "Epoch 476/500\n",
      "2100/2100 [==============================] - 4s 2ms/step - loss: 0.2649 - acc: 0.9071\n",
      "Epoch 477/500\n",
      "2100/2100 [==============================] - 4s 2ms/step - loss: 0.2768 - acc: 0.9105\n",
      "Epoch 478/500\n",
      "2100/2100 [==============================] - 4s 2ms/step - loss: 0.2777 - acc: 0.9071\n",
      "Epoch 479/500\n",
      "2100/2100 [==============================] - 4s 2ms/step - loss: 0.2513 - acc: 0.9157\n",
      "Epoch 480/500\n",
      "2100/2100 [==============================] - 4s 2ms/step - loss: 0.2552 - acc: 0.9167\n",
      "Epoch 481/500\n",
      "2100/2100 [==============================] - 4s 2ms/step - loss: 0.2960 - acc: 0.8971\n",
      "Epoch 482/500\n",
      "2100/2100 [==============================] - 4s 2ms/step - loss: 0.2587 - acc: 0.9100\n",
      "Epoch 483/500\n",
      "2100/2100 [==============================] - 4s 2ms/step - loss: 0.2705 - acc: 0.9110\n",
      "Epoch 484/500\n",
      "2100/2100 [==============================] - 4s 2ms/step - loss: 0.2276 - acc: 0.9248\n",
      "Epoch 485/500\n",
      "2100/2100 [==============================] - 4s 2ms/step - loss: 0.2474 - acc: 0.9124\n",
      "Epoch 486/500\n",
      "2100/2100 [==============================] - 4s 2ms/step - loss: 0.2573 - acc: 0.9171\n",
      "Epoch 487/500\n",
      "2100/2100 [==============================] - 4s 2ms/step - loss: 0.2558 - acc: 0.9124\n",
      "Epoch 488/500\n",
      "2100/2100 [==============================] - 4s 2ms/step - loss: 0.2699 - acc: 0.9129\n",
      "Epoch 489/500\n",
      "2100/2100 [==============================] - 4s 2ms/step - loss: 0.2347 - acc: 0.9233\n",
      "Epoch 490/500\n",
      "2100/2100 [==============================] - 4s 2ms/step - loss: 0.2588 - acc: 0.9200\n",
      "Epoch 491/500\n",
      "2100/2100 [==============================] - 4s 2ms/step - loss: 0.2539 - acc: 0.9148\n",
      "Epoch 492/500\n",
      "2100/2100 [==============================] - 4s 2ms/step - loss: 0.2685 - acc: 0.9076\n",
      "Epoch 493/500\n",
      "2100/2100 [==============================] - 4s 2ms/step - loss: 0.2753 - acc: 0.9043\n",
      "Epoch 494/500\n",
      "2100/2100 [==============================] - 4s 2ms/step - loss: 0.2449 - acc: 0.9190\n",
      "Epoch 495/500\n",
      "2100/2100 [==============================] - 4s 2ms/step - loss: 0.2483 - acc: 0.9138\n",
      "Epoch 496/500\n",
      "2100/2100 [==============================] - 4s 2ms/step - loss: 0.2516 - acc: 0.9200\n",
      "Epoch 497/500\n",
      "2100/2100 [==============================] - 4s 2ms/step - loss: 0.2564 - acc: 0.9105\n",
      "Epoch 498/500\n",
      "2100/2100 [==============================] - 4s 2ms/step - loss: 0.2596 - acc: 0.9114\n",
      "Epoch 499/500\n",
      "2100/2100 [==============================] - 4s 2ms/step - loss: 0.2449 - acc: 0.9200\n",
      "Epoch 500/500\n",
      "2100/2100 [==============================] - 4s 2ms/step - loss: 0.2567 - acc: 0.9143\n"
     ]
    }
   ],
   "source": [
    "h = model.fit(X_train, y_train, epochs = 500, batch_size = 50, \n",
    "          verbose = 1)## Train the model"
   ]
  },
  {
   "cell_type": "markdown",
   "metadata": {
    "colab_type": "text",
    "id": "82716QWAJrXG"
   },
   "source": [
    "### Save Model"
   ]
  },
  {
   "cell_type": "code",
   "execution_count": 0,
   "metadata": {
    "colab": {},
    "colab_type": "code",
    "collapsed": true,
    "id": "_8MFkQgYJm-D"
   },
   "outputs": [],
   "source": [
    "# save the model to file\n",
    "model.save('oscarwildemodel_500epochs.h5')"
   ]
  },
  {
   "cell_type": "markdown",
   "metadata": {
    "colab_type": "text",
    "id": "4AYVKydVJv5C"
   },
   "source": [
    "## If you have already trained the model and saved it, you can load a pretrained model"
   ]
  },
  {
   "cell_type": "code",
   "execution_count": 0,
   "metadata": {
    "colab": {},
    "colab_type": "code",
    "collapsed": true,
    "id": "IqsQUz04J0GP"
   },
   "outputs": [],
   "source": [
    "# load the model\n",
    "model = load_model('oscarwildemodel_500epochs.h5')"
   ]
  },
  {
   "cell_type": "markdown",
   "metadata": {
    "colab_type": "text",
    "id": "ZFe2Y0SJJ3Hb"
   },
   "source": [
    "### Note: After loading the model run  model.fit()  to continue training form there, if required."
   ]
  },
  {
   "cell_type": "code",
   "execution_count": 0,
   "metadata": {
    "colab": {},
    "colab_type": "code",
    "collapsed": true,
    "id": "e9yLm_xnJ5JV"
   },
   "outputs": [],
   "source": [
    " model.fit(X_train, y_train, batch_size=50, epochs=10)"
   ]
  },
  {
   "cell_type": "markdown",
   "metadata": {
    "colab_type": "text",
    "id": "EmkaxXdjHdyd"
   },
   "source": [
    "## Evaluation"
   ]
  },
  {
   "cell_type": "code",
   "execution_count": 104,
   "metadata": {
    "colab": {
     "base_uri": "https://localhost:8080/",
     "height": 128
    },
    "colab_type": "code",
    "id": "7RraFX9YHdye",
    "outputId": "87d6831d-075a-4995-dafa-6ed362301498"
   },
   "outputs": [
    {
     "name": "stdout",
     "output_type": "stream",
     "text": [
      "2100/2100 [==============================] - 4s 2ms/step\n",
      "[0.009652793156177116, 0.9957142846924918]\n",
      "\n",
      "Model Performance: Log Loss and Accuracy on validation data\n",
      "900/900 [==============================] - 1s 611us/step\n",
      "[10.47091334660848, 0.29555555747614964]\n"
     ]
    }
   ],
   "source": [
    "print(model.evaluate(X_train, y_train, batch_size = 20))\n",
    "print('\\nModel Performance: Log Loss and Accuracy on validation data')\n",
    "print(model.evaluate(X_valid, y_valid, batch_size = 20))"
   ]
  },
  {
   "cell_type": "markdown",
   "metadata": {
    "colab_type": "text",
    "id": "u5CKxykLHdyj"
   },
   "source": [
    "## Generate text"
   ]
  },
  {
   "cell_type": "code",
   "execution_count": 105,
   "metadata": {
    "colab": {
     "base_uri": "https://localhost:8080/",
     "height": 166
    },
    "colab_type": "code",
    "id": "4JSW5EwKHdyk",
    "outputId": "8b8f2e49-964e-4e54-ed4a-bac7739c3ed3"
   },
   "outputs": [
    {
     "name": "stderr",
     "output_type": "stream",
     "text": [
      "/usr/local/lib/python3.6/dist-packages/ipykernel_launcher.py:36: RuntimeWarning: divide by zero encountered in log\n"
     ]
    },
    {
     "name": "stdout",
     "output_type": "stream",
     "text": [
      "Original Sequence: \n",
      "no the fact is i would like to be christened myself this afternoon if you have nothing better to do chasuble but surely mr worthing you have been christened already jack i don't remember anything about it chasuble but have you any grave doubts on the subject jack i certainly\n",
      "\n",
      "\n",
      "Generated Sequence: \n",
      "london i is in complete book form in 1891 by messrs so manager mr george alexander february 1907 sixth impression february 1907 sixth impression september 1905 fifth impression february 1907 sixth impression september 1905 fifth impression february 1907 sixth impression september 1905 fifth impression february 1907 sixth impression september 1905\n"
     ]
    }
   ],
   "source": [
    "seed_length=50\n",
    "new_words=50\n",
    "diversity=1\n",
    "n_gen=1\n",
    "\n",
    "import random\n",
    "\n",
    "# Choose a random sequence\n",
    "seq = random.choice(sequences)\n",
    "\n",
    "# print seq\n",
    "\n",
    "# Choose a random starting point\n",
    "seed_idx = random.randint(0, len(seq) - seed_length - 10)\n",
    "# Ending index for seed\n",
    "end_idx = seed_idx + seed_length\n",
    "\n",
    "gen_list = []\n",
    "\n",
    "for n in range(n_gen):\n",
    "    # Extract the seed sequence\n",
    "    seed = seq[seed_idx:end_idx]\n",
    "    original_sequence = [idx_word[i] for i in seed]\n",
    "    generated = seed[:] + ['#']\n",
    "\n",
    "    # Find the actual entire sequence\n",
    "    actual = generated[:] + seq[end_idx:end_idx + new_words]\n",
    "        \n",
    "    # Keep adding new words\n",
    "    for i in range(new_words):\n",
    "\n",
    "        # Make a prediction from the seed\n",
    "        preds = model.predict(np.array(seed).reshape(1, -1))[0].astype(np.float64)\n",
    "\n",
    "        # Diversify\n",
    "        preds = np.log(preds) / diversity\n",
    "        exp_preds = np.exp(preds)\n",
    "\n",
    "        # Softmax\n",
    "        preds = exp_preds / sum(exp_preds)\n",
    "\n",
    "        # Choose the next word\n",
    "        probas = np.random.multinomial(1, preds, 1)[0]\n",
    "\n",
    "        next_idx = np.argmax(probas)\n",
    "\n",
    "        # New seed adds on old word\n",
    "        #             seed = seed[1:] + [next_idx]\n",
    "        seed += [next_idx]\n",
    "        generated.append(next_idx)\n",
    "    # Showing generated and actual abstract\n",
    "    n = []\n",
    "\n",
    "    for i in generated:\n",
    "        n.append(idx_word.get(i, '< --- >'))\n",
    "\n",
    "    gen_list.append(n)\n",
    "\n",
    "a = []\n",
    "\n",
    "for i in actual:\n",
    "    a.append(idx_word.get(i, '< --- >'))\n",
    "\n",
    "a = a[seed_length:]\n",
    "\n",
    "gen_list = [gen[seed_length:seed_length + len(a)] for gen in gen_list]\n",
    "\n",
    "print('Original Sequence: \\n'+' '.join(original_sequence))\n",
    "print(\"\\n\")\n",
    "# print(gen_list)\n",
    "print('Generated Sequence: \\n'+' '.join(gen_list[0][1:]))\n",
    "# print(a)"
   ]
  },
  {
   "cell_type": "code",
   "execution_count": 0,
   "metadata": {
    "colab": {},
    "colab_type": "code",
    "collapsed": true,
    "id": "9aXeiz7ZHdyp"
   },
   "outputs": [],
   "source": []
  }
 ],
 "metadata": {
  "colab": {
   "collapsed_sections": [],
   "name": "R9_External_Lab_Questions-2.ipynb",
   "provenance": [],
   "version": "0.3.2"
  },
  "kernelspec": {
   "display_name": "Python 3",
   "language": "python",
   "name": "python3"
  },
  "language_info": {
   "codemirror_mode": {
    "name": "ipython",
    "version": 3
   },
   "file_extension": ".py",
   "mimetype": "text/x-python",
   "name": "python",
   "nbconvert_exporter": "python",
   "pygments_lexer": "ipython3",
   "version": "3.6.1"
  }
 },
 "nbformat": 4,
 "nbformat_minor": 1
}
